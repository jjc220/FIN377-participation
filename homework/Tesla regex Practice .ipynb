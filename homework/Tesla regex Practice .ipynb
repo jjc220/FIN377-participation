{
 "cells": [
  {
   "cell_type": "markdown",
   "metadata": {},
   "source": [
    "# Practice \n",
    "Let's use Telsa:"
   ]
  },
  {
   "cell_type": "code",
   "execution_count": 4,
   "metadata": {},
   "outputs": [
    {
     "name": "stdout",
     "output_type": "stream",
     "text": [
      "Help on function NEAR_regex in module NEAR_regex:\n",
      "\n",
      "NEAR_regex(list_of_words, max_words_between=5, partial=False, cases_matter=False)\n",
      "\n"
     ]
    }
   ],
   "source": [
    "from bs4 import BeautifulSoup\n",
    "import requests\n",
    "\n",
    "url = 'https://www.sec.gov/Archives/edgar/data/1318605/000156459019003165/0001564590-19-003165.txt'\n",
    "edgar_resp = requests.get(url)\n",
    "# save the url\n",
    "# then in the next part of assignment, youll load it again\n",
    "# here - i'm skipping those steps so we can grab one document to look at\n",
    "\n",
    "loaded_file = edgar_resp.content\n",
    "\n",
    "from NEAR_regex import NEAR_regex\n",
    "\n",
    "help(NEAR_regex)\n",
    "\n",
    "# try to use NEAR_regex... look for it working and failing..."
   ]
  },
  {
   "cell_type": "code",
   "execution_count": 5,
   "metadata": {},
   "outputs": [
    {
     "name": "stdout",
     "output_type": "stream",
     "text": [
      "0\n"
     ]
    }
   ],
   "source": [
    "import re\n",
    "\n",
    "test  = 'This is a partial string another break with words'\n",
    "words = ['part','with']\n",
    "rgx   = NEAR_regex(words)\n",
    "print(len(re.findall(rgx,test)))            # no match (partials not allowed) - good!"
   ]
  },
  {
   "cell_type": "code",
   "execution_count": 6,
   "metadata": {},
   "outputs": [
    {
     "name": "stdout",
     "output_type": "stream",
     "text": [
      "1\n"
     ]
    }
   ],
   "source": [
    "rgx = NEAR_regex(words,partial=True)\n",
    "print(len(re.findall(rgx,test)))  "
   ]
  },
  {
   "cell_type": "code",
   "execution_count": 7,
   "metadata": {},
   "outputs": [
    {
     "name": "stdout",
     "output_type": "stream",
     "text": [
      "0\n"
     ]
    }
   ],
   "source": [
    "rgx   = NEAR_regex(words,partial=True,max_words_between=1)\n",
    "print(len(re.findall(rgx,test)))   "
   ]
  },
  {
   "cell_type": "code",
   "execution_count": 8,
   "metadata": {},
   "outputs": [
    {
     "name": "stdout",
     "output_type": "stream",
     "text": [
      "0\n"
     ]
    }
   ],
   "source": [
    "words = ['part','With']\n",
    "rgx   = NEAR_regex(words,partial=True,cases_matter=True)\n",
    "print(len(re.findall(rgx,test)))"
   ]
  },
  {
   "cell_type": "code",
   "execution_count": 9,
   "metadata": {},
   "outputs": [
    {
     "name": "stdout",
     "output_type": "stream",
     "text": [
      "0\n",
      "1\n"
     ]
    }
   ],
   "source": [
    "words = ['part','with','this']\n",
    "rgx = NEAR_regex(words,partial=True)\n",
    "print(len(re.findall(rgx,test)))           # no match - good! \"This\" != \"this\"\n",
    "print(len(re.findall(rgx,test.lower()))) "
   ]
  },
  {
   "cell_type": "code",
   "execution_count": 10,
   "metadata": {},
   "outputs": [
    {
     "name": "stdout",
     "output_type": "stream",
     "text": [
      "0\n"
     ]
    }
   ],
   "source": [
    "test  = 'This is a partial string \\n another break with words'\n",
    "words = ['part','with']\n",
    "rgx = NEAR_regex(words,partial=True)\n",
    "print(len(re.findall(rgx,test)))   "
   ]
  },
  {
   "cell_type": "code",
   "execution_count": 11,
   "metadata": {},
   "outputs": [
    {
     "name": "stdout",
     "output_type": "stream",
     "text": [
      "0\n"
     ]
    }
   ],
   "source": [
    "test  = 'This is a partial string \\r another break with words'\n",
    "words = ['part','with']\n",
    "rgx = NEAR_regex(words,partial=True)\n",
    "print(len(re.findall(rgx,test)))  "
   ]
  },
  {
   "cell_type": "code",
   "execution_count": 12,
   "metadata": {},
   "outputs": [
    {
     "name": "stdout",
     "output_type": "stream",
     "text": [
      "1\n"
     ]
    }
   ],
   "source": [
    "test  = 'This is a partial string                      another break with words'\n",
    "words = ['part','with']\n",
    "rgx = NEAR_regex(words,partial=True)\n",
    "print(len(re.findall(rgx,test)))  "
   ]
  },
  {
   "cell_type": "code",
   "execution_count": 13,
   "metadata": {},
   "outputs": [
    {
     "data": {
      "text/plain": [
       "['hey', 'the', 'guy']"
      ]
     },
     "execution_count": 13,
     "metadata": {},
     "output_type": "execute_result"
    }
   ],
   "source": [
    "pattern = \"\\w{3}\"\n",
    "re.findall(pattern,\"hey there guy\") "
   ]
  },
  {
   "cell_type": "code",
   "execution_count": null,
   "metadata": {},
   "outputs": [],
   "source": []
  }
 ],
 "metadata": {
  "kernelspec": {
   "display_name": "Python 3",
   "language": "python",
   "name": "python3"
  },
  "language_info": {
   "codemirror_mode": {
    "name": "ipython",
    "version": 3
   },
   "file_extension": ".py",
   "mimetype": "text/x-python",
   "name": "python",
   "nbconvert_exporter": "python",
   "pygments_lexer": "ipython3",
   "version": "3.7.4"
  }
 },
 "nbformat": 4,
 "nbformat_minor": 2
}
