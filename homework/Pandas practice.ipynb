{
 "cells": [
  {
   "cell_type": "code",
   "execution_count": 1,
   "metadata": {},
   "outputs": [],
   "source": [
    "import pandas as pd\n",
    "import pandas_datareader as pdr # IF NECESSARY, from terminal: pip install pandas_datareader \n",
    "import datetime\n",
    "import datadotworld as dw # follow instructions for installing and using dw in accompanying lecture\n",
    "import numpy as np"
   ]
  },
  {
   "cell_type": "markdown",
   "metadata": {},
   "source": [
    "# My turn: What were the most popular male and female names in each year?"
   ]
  },
  {
   "cell_type": "code",
   "execution_count": 2,
   "metadata": {},
   "outputs": [],
   "source": [
    "# get the data\n",
    "baby_names = dw.load_dataset('nkrishnaswami/us-ssa-baby-names-national')\n",
    "baby_names = baby_names.dataframes['names_ranks_counts']"
   ]
  },
  {
   "cell_type": "code",
   "execution_count": 3,
   "metadata": {},
   "outputs": [
    {
     "data": {
      "text/plain": [
       "<matplotlib.axes._subplots.AxesSubplot at 0x11cbe4490>"
      ]
     },
     "execution_count": 3,
     "metadata": {},
     "output_type": "execute_result"
    },
    {
     "data": {
      "image/png": "[encoded data removed]",
      "text/plain": [
       "<Figure size 432x288 with 1 Axes>"
      ]
     },
     "metadata": {
      "needs_background": "light"
     },
     "output_type": "display_data"
    }
   ],
   "source": [
    "# a silly observation\n",
    "(baby_names.pivot_table(index='year',values='name',aggfunc='count') # count unique names per year\n",
    "    .plot.line(title='Unique Names Per Year',legend=False) # plot it, uses panda\n",
    ")"
   ]
  },
  {
   "cell_type": "code",
   "execution_count": 4,
   "metadata": {},
   "outputs": [
    {
     "data": {
      "text/html": [
       "<div>\n",
       "<style scoped>\n",
       "    .dataframe tbody tr th:only-of-type {\n",
       "        vertical-align: middle;\n",
       "    }\n",
       "\n",
       "    .dataframe tbody tr th {\n",
       "        vertical-align: top;\n",
       "    }\n",
       "\n",
       "    .dataframe thead th {\n",
       "        text-align: right;\n",
       "    }\n",
       "</style>\n",
       "<table border=\"1\" class=\"dataframe\">\n",
       "  <thead>\n",
       "    <tr style=\"text-align: right;\">\n",
       "      <th>sex</th>\n",
       "      <th>F</th>\n",
       "      <th>M</th>\n",
       "    </tr>\n",
       "    <tr>\n",
       "      <th>year</th>\n",
       "      <th></th>\n",
       "      <th></th>\n",
       "    </tr>\n",
       "  </thead>\n",
       "  <tbody>\n",
       "    <tr>\n",
       "      <th>1999</th>\n",
       "      <td>Emily</td>\n",
       "      <td>Jacob</td>\n",
       "    </tr>\n",
       "    <tr>\n",
       "      <th>2000</th>\n",
       "      <td>Emily</td>\n",
       "      <td>Jacob</td>\n",
       "    </tr>\n",
       "    <tr>\n",
       "      <th>2001</th>\n",
       "      <td>Emily</td>\n",
       "      <td>Jacob</td>\n",
       "    </tr>\n",
       "    <tr>\n",
       "      <th>2002</th>\n",
       "      <td>Emily</td>\n",
       "      <td>Jacob</td>\n",
       "    </tr>\n",
       "    <tr>\n",
       "      <th>2003</th>\n",
       "      <td>Emily</td>\n",
       "      <td>Jacob</td>\n",
       "    </tr>\n",
       "    <tr>\n",
       "      <th>2004</th>\n",
       "      <td>Emily</td>\n",
       "      <td>Jacob</td>\n",
       "    </tr>\n",
       "    <tr>\n",
       "      <th>2005</th>\n",
       "      <td>Emily</td>\n",
       "      <td>Jacob</td>\n",
       "    </tr>\n",
       "    <tr>\n",
       "      <th>2006</th>\n",
       "      <td>Emily</td>\n",
       "      <td>Jacob</td>\n",
       "    </tr>\n",
       "    <tr>\n",
       "      <th>2007</th>\n",
       "      <td>Emily</td>\n",
       "      <td>Jacob</td>\n",
       "    </tr>\n",
       "    <tr>\n",
       "      <th>2008</th>\n",
       "      <td>Emma</td>\n",
       "      <td>Jacob</td>\n",
       "    </tr>\n",
       "    <tr>\n",
       "      <th>2009</th>\n",
       "      <td>Isabella</td>\n",
       "      <td>Jacob</td>\n",
       "    </tr>\n",
       "    <tr>\n",
       "      <th>2010</th>\n",
       "      <td>Isabella</td>\n",
       "      <td>Jacob</td>\n",
       "    </tr>\n",
       "    <tr>\n",
       "      <th>2011</th>\n",
       "      <td>Sophia</td>\n",
       "      <td>Jacob</td>\n",
       "    </tr>\n",
       "    <tr>\n",
       "      <th>2012</th>\n",
       "      <td>Sophia</td>\n",
       "      <td>Jacob</td>\n",
       "    </tr>\n",
       "    <tr>\n",
       "      <th>2013</th>\n",
       "      <td>Sophia</td>\n",
       "      <td>Noah</td>\n",
       "    </tr>\n",
       "    <tr>\n",
       "      <th>2014</th>\n",
       "      <td>Emma</td>\n",
       "      <td>Noah</td>\n",
       "    </tr>\n",
       "    <tr>\n",
       "      <th>2015</th>\n",
       "      <td>Emma</td>\n",
       "      <td>Noah</td>\n",
       "    </tr>\n",
       "    <tr>\n",
       "      <th>2016</th>\n",
       "      <td>Emma</td>\n",
       "      <td>Noah</td>\n",
       "    </tr>\n",
       "    <tr>\n",
       "      <th>2017</th>\n",
       "      <td>Emma</td>\n",
       "      <td>Liam</td>\n",
       "    </tr>\n",
       "    <tr>\n",
       "      <th>2018</th>\n",
       "      <td>Emma</td>\n",
       "      <td>Liam</td>\n",
       "    </tr>\n",
       "  </tbody>\n",
       "</table>\n",
       "</div>"
      ],
      "text/plain": [
       "sex          F      M\n",
       "year                 \n",
       "1999     Emily  Jacob\n",
       "2000     Emily  Jacob\n",
       "2001     Emily  Jacob\n",
       "2002     Emily  Jacob\n",
       "2003     Emily  Jacob\n",
       "2004     Emily  Jacob\n",
       "2005     Emily  Jacob\n",
       "2006     Emily  Jacob\n",
       "2007     Emily  Jacob\n",
       "2008      Emma  Jacob\n",
       "2009  Isabella  Jacob\n",
       "2010  Isabella  Jacob\n",
       "2011    Sophia  Jacob\n",
       "2012    Sophia  Jacob\n",
       "2013    Sophia   Noah\n",
       "2014      Emma   Noah\n",
       "2015      Emma   Noah\n",
       "2016      Emma   Noah\n",
       "2017      Emma   Liam\n",
       "2018      Emma   Liam"
      ]
     },
     "execution_count": 4,
     "metadata": {},
     "output_type": "execute_result"
    }
   ],
   "source": [
    "(baby_names.sort_values(['year','sex','count'],ascending=False) # sort descending so most popular name first\n",
    "     .groupby(['year','sex']) # group by year and gender \n",
    "     .agg(lambda x: x.iloc[0]) # keep the first (most popular) name each year\n",
    "     ['name'] # keep only the name variable\n",
    "     .unstack() # format wide\n",
    "     [-20:]\n",
    ")"
   ]
  },
  {
   "cell_type": "markdown",
   "metadata": {},
   "source": [
    "## A side lesson: What on earth is lambda?\n",
    "Can you survive without learning lambda? Yes.\n",
    "\n",
    "But knowing lambda will make you a more powerful programmer, because it lets you define functions very quickly. And this is very useful! For example, the agg function can apply any function, not just built-in ones, and sometimes you'll want to use non built-in functions!\n",
    "\n",
    "So, generally, the syntax is <fcn_name> = lambda <argument> : <function>."
   ]
  },
  {
   "cell_type": "code",
   "execution_count": 5,
   "metadata": {},
   "outputs": [
    {
     "name": "stdout",
     "output_type": "stream",
     "text": [
      "35\n"
     ]
    }
   ],
   "source": [
    "my_fcn = lambda a : a*5 # if I call my_fcn(7), python will set a=7, then evalute the function a*5\n",
    "print(my_fcn(7))"
   ]
  },
  {
   "cell_type": "markdown",
   "metadata": {},
   "source": [
    "Now, in the example above inside agg() I never named the function. That's because it's unnecessary in that context, python knows to immediately call it."
   ]
  },
  {
   "cell_type": "markdown",
   "metadata": {},
   "source": [
    "## Maybe you say \"I hate that and will never ever write a lambda. How can I accomplish the problem above anyways?\"\n",
    "Well, I'm sorry to hear that! Here is what you could do:"
   ]
  },
  {
   "cell_type": "code",
   "execution_count": 6,
   "metadata": {},
   "outputs": [
    {
     "data": {
      "text/html": [
       "<div>\n",
       "<style scoped>\n",
       "    .dataframe tbody tr th:only-of-type {\n",
       "        vertical-align: middle;\n",
       "    }\n",
       "\n",
       "    .dataframe tbody tr th {\n",
       "        vertical-align: top;\n",
       "    }\n",
       "\n",
       "    .dataframe thead th {\n",
       "        text-align: right;\n",
       "    }\n",
       "</style>\n",
       "<table border=\"1\" class=\"dataframe\">\n",
       "  <thead>\n",
       "    <tr style=\"text-align: right;\">\n",
       "      <th>sex</th>\n",
       "      <th>F</th>\n",
       "      <th>M</th>\n",
       "    </tr>\n",
       "    <tr>\n",
       "      <th>year</th>\n",
       "      <th></th>\n",
       "      <th></th>\n",
       "    </tr>\n",
       "  </thead>\n",
       "  <tbody>\n",
       "    <tr>\n",
       "      <th>1999</th>\n",
       "      <td>Emily</td>\n",
       "      <td>Jacob</td>\n",
       "    </tr>\n",
       "    <tr>\n",
       "      <th>2000</th>\n",
       "      <td>Emily</td>\n",
       "      <td>Jacob</td>\n",
       "    </tr>\n",
       "    <tr>\n",
       "      <th>2001</th>\n",
       "      <td>Emily</td>\n",
       "      <td>Jacob</td>\n",
       "    </tr>\n",
       "    <tr>\n",
       "      <th>2002</th>\n",
       "      <td>Emily</td>\n",
       "      <td>Jacob</td>\n",
       "    </tr>\n",
       "    <tr>\n",
       "      <th>2003</th>\n",
       "      <td>Emily</td>\n",
       "      <td>Jacob</td>\n",
       "    </tr>\n",
       "    <tr>\n",
       "      <th>2004</th>\n",
       "      <td>Emily</td>\n",
       "      <td>Jacob</td>\n",
       "    </tr>\n",
       "    <tr>\n",
       "      <th>2005</th>\n",
       "      <td>Emily</td>\n",
       "      <td>Jacob</td>\n",
       "    </tr>\n",
       "    <tr>\n",
       "      <th>2006</th>\n",
       "      <td>Emily</td>\n",
       "      <td>Jacob</td>\n",
       "    </tr>\n",
       "    <tr>\n",
       "      <th>2007</th>\n",
       "      <td>Emily</td>\n",
       "      <td>Jacob</td>\n",
       "    </tr>\n",
       "    <tr>\n",
       "      <th>2008</th>\n",
       "      <td>Emma</td>\n",
       "      <td>Jacob</td>\n",
       "    </tr>\n",
       "    <tr>\n",
       "      <th>2009</th>\n",
       "      <td>Isabella</td>\n",
       "      <td>Jacob</td>\n",
       "    </tr>\n",
       "    <tr>\n",
       "      <th>2010</th>\n",
       "      <td>Isabella</td>\n",
       "      <td>Jacob</td>\n",
       "    </tr>\n",
       "    <tr>\n",
       "      <th>2011</th>\n",
       "      <td>Sophia</td>\n",
       "      <td>Jacob</td>\n",
       "    </tr>\n",
       "    <tr>\n",
       "      <th>2012</th>\n",
       "      <td>Sophia</td>\n",
       "      <td>Jacob</td>\n",
       "    </tr>\n",
       "    <tr>\n",
       "      <th>2013</th>\n",
       "      <td>Sophia</td>\n",
       "      <td>Noah</td>\n",
       "    </tr>\n",
       "    <tr>\n",
       "      <th>2014</th>\n",
       "      <td>Emma</td>\n",
       "      <td>Noah</td>\n",
       "    </tr>\n",
       "    <tr>\n",
       "      <th>2015</th>\n",
       "      <td>Emma</td>\n",
       "      <td>Noah</td>\n",
       "    </tr>\n",
       "    <tr>\n",
       "      <th>2016</th>\n",
       "      <td>Emma</td>\n",
       "      <td>Noah</td>\n",
       "    </tr>\n",
       "    <tr>\n",
       "      <th>2017</th>\n",
       "      <td>Emma</td>\n",
       "      <td>Liam</td>\n",
       "    </tr>\n",
       "    <tr>\n",
       "      <th>2018</th>\n",
       "      <td>Emma</td>\n",
       "      <td>Liam</td>\n",
       "    </tr>\n",
       "  </tbody>\n",
       "</table>\n",
       "</div>"
      ],
      "text/plain": [
       "sex          F      M\n",
       "year                 \n",
       "1999     Emily  Jacob\n",
       "2000     Emily  Jacob\n",
       "2001     Emily  Jacob\n",
       "2002     Emily  Jacob\n",
       "2003     Emily  Jacob\n",
       "2004     Emily  Jacob\n",
       "2005     Emily  Jacob\n",
       "2006     Emily  Jacob\n",
       "2007     Emily  Jacob\n",
       "2008      Emma  Jacob\n",
       "2009  Isabella  Jacob\n",
       "2010  Isabella  Jacob\n",
       "2011    Sophia  Jacob\n",
       "2012    Sophia  Jacob\n",
       "2013    Sophia   Noah\n",
       "2014      Emma   Noah\n",
       "2015      Emma   Noah\n",
       "2016      Emma   Noah\n",
       "2017      Emma   Liam\n",
       "2018      Emma   Liam"
      ]
     },
     "execution_count": 6,
     "metadata": {},
     "output_type": "execute_result"
    }
   ],
   "source": [
    "def return_first_element(df):\n",
    "    return df.iloc[0]\n",
    "\n",
    "(baby_names.sort_values(['year','sex','count'],ascending=False) # sort descending so most popular name first\n",
    "     .groupby(['year','sex']) # group by year and gender \n",
    "     .agg(return_first_element) # keep the first (most popular) name each year\n",
    "     ['name'] # keep only the name variable\n",
    "     .unstack() # format wide\n",
    "     [-20:]\n",
    ")"
   ]
  },
  {
   "cell_type": "markdown",
   "metadata": {},
   "source": [
    "## My turn: Can we use the last letter of a name to predict the sex of the baby?"
   ]
  },
  {
   "cell_type": "code",
   "execution_count": 7,
   "metadata": {},
   "outputs": [
    {
     "data": {
      "text/plain": [
       "Text(0, 0.5, '<-----Femine letters                         Masculine letters----->')"
      ]
     },
     "execution_count": 7,
     "metadata": {},
     "output_type": "execute_result"
    },
    {
     "data": {
      "image/png": "[encoded data removed]",
      "text/plain": [
       "<Figure size 504x504 with 1 Axes>"
      ]
     },
     "metadata": {
      "needs_background": "light"
     },
     "output_type": "display_data"
    }
   ],
   "source": [
    "(baby_names.query('year >= 1970') # let's focus on the last 50 years, maybe old-timey people had different naming rules\n",
    "           .assign(last_letter = baby_names['name'].str[-1]) # get the last letter of each name string\n",
    "           .assign(male = baby_names['sex'] == 'M') # = 1 if male, 0 else\n",
    "           .assign(female= baby_names['sex'] == 'F') # = 1 if female, 0 else\n",
    "           .pivot_table(index='last_letter',values=['male','female']) # average of male & female variables --> % of each\n",
    "           .sort_values('male') # so the figure is in order\n",
    "           .plot.barh(figsize=(7,7), # make it a bit bigger \n",
    "           title = 'Gender fraction by last letter in name \\n \\n \"Feminine letters\": A,H,E,I,Y')\n",
    "           .set_ylabel(\"<-----Femine letters                         Masculine letters----->\")\n",
    ")"
   ]
  },
  {
   "cell_type": "markdown",
   "metadata": {},
   "source": [
    "# Your turn: Practice\n",
    "Try each one alone, then check and compare with the person next to you.\n",
    "\n",
    "There are many ways to solve each, so if your approaches differ, explain it to each other!"
   ]
  },
  {
   "cell_type": "markdown",
   "metadata": {},
   "source": [
    "## Example 1 "
   ]
  },
  {
   "cell_type": "code",
   "execution_count": 8,
   "metadata": {},
   "outputs": [],
   "source": [
    "start = datetime.datetime(2010, 1, 1) # you can specify start and end dates this way\n",
    "end = datetime.datetime(2013, 1, 27)\n",
    "macro_df = pdr.data.DataReader(['GDP','CPIAUCSL'], 'fred', start, end)"
   ]
  },
  {
   "cell_type": "code",
   "execution_count": 9,
   "metadata": {},
   "outputs": [
    {
     "name": "stdout",
     "output_type": "stream",
     "text": [
      "<class 'pandas.core.frame.DataFrame'>\n",
      "DatetimeIndex: 37 entries, 2010-01-01 to 2013-01-01\n",
      "Data columns (total 2 columns):\n",
      "GDP         13 non-null float64\n",
      "CPIAUCSL    37 non-null float64\n",
      "dtypes: float64(2)\n",
      "memory usage: 888.0 bytes\n"
     ]
    },
    {
     "data": {
      "text/html": [
       "<div>\n",
       "<style scoped>\n",
       "    .dataframe tbody tr th:only-of-type {\n",
       "        vertical-align: middle;\n",
       "    }\n",
       "\n",
       "    .dataframe tbody tr th {\n",
       "        vertical-align: top;\n",
       "    }\n",
       "\n",
       "    .dataframe thead th {\n",
       "        text-align: right;\n",
       "    }\n",
       "</style>\n",
       "<table border=\"1\" class=\"dataframe\">\n",
       "  <thead>\n",
       "    <tr style=\"text-align: right;\">\n",
       "      <th></th>\n",
       "      <th>GDP</th>\n",
       "      <th>CPIAUCSL</th>\n",
       "    </tr>\n",
       "  </thead>\n",
       "  <tbody>\n",
       "    <tr>\n",
       "      <th>count</th>\n",
       "      <td>13.000000</td>\n",
       "      <td>37.000000</td>\n",
       "    </tr>\n",
       "    <tr>\n",
       "      <th>mean</th>\n",
       "      <td>15653.550385</td>\n",
       "      <td>224.397351</td>\n",
       "    </tr>\n",
       "    <tr>\n",
       "      <th>std</th>\n",
       "      <td>589.174983</td>\n",
       "      <td>5.101731</td>\n",
       "    </tr>\n",
       "    <tr>\n",
       "      <th>min</th>\n",
       "      <td>14721.350000</td>\n",
       "      <td>217.199000</td>\n",
       "    </tr>\n",
       "    <tr>\n",
       "      <th>25%</th>\n",
       "      <td>15240.843000</td>\n",
       "      <td>219.035000</td>\n",
       "    </tr>\n",
       "    <tr>\n",
       "      <th>50%</th>\n",
       "      <td>15591.850000</td>\n",
       "      <td>225.395000</td>\n",
       "    </tr>\n",
       "    <tr>\n",
       "      <th>75%</th>\n",
       "      <td>16152.257000</td>\n",
       "      <td>228.590000</td>\n",
       "    </tr>\n",
       "    <tr>\n",
       "      <th>max</th>\n",
       "      <td>16569.591000</td>\n",
       "      <td>231.679000</td>\n",
       "    </tr>\n",
       "  </tbody>\n",
       "</table>\n",
       "</div>"
      ],
      "text/plain": [
       "                GDP    CPIAUCSL\n",
       "count     13.000000   37.000000\n",
       "mean   15653.550385  224.397351\n",
       "std      589.174983    5.101731\n",
       "min    14721.350000  217.199000\n",
       "25%    15240.843000  219.035000\n",
       "50%    15591.850000  225.395000\n",
       "75%    16152.257000  228.590000\n",
       "max    16569.591000  231.679000"
      ]
     },
     "execution_count": 9,
     "metadata": {},
     "output_type": "execute_result"
    }
   ],
   "source": [
    "#Q0: Do each of the four new golden rules for initial data exploration, from the lecture.\n",
    "start = datetime.datetime(2010, 1, 1) # you can specify start and end dates this way\n",
    "end = datetime.datetime(2013, 1, 27)\n",
    "macro_df = pdr.data.DataReader(['GDP','CPIAUCSL'], 'fred', start, end)\n",
    "\n",
    "macro_df.head()\n",
    "macro_df.tail()\n",
    "macro_df.columns\n",
    "macro_df.nunique()\n",
    "macro_df.info()\n",
    "macro_df.describe()"
   ]
  },
  {
   "cell_type": "code",
   "execution_count": 10,
   "metadata": {},
   "outputs": [],
   "source": [
    "#Q1: What is the second series above?\n",
    "\n",
    "#secondseries = pd.Series(macro_df['GDP'])\n",
    "#secondserries2= pd.Series(macro_df['CPIAUCSL'])"
   ]
  },
  {
   "cell_type": "code",
   "execution_count": 11,
   "metadata": {},
   "outputs": [
    {
     "data": {
      "text/plain": [
       "GDP         13\n",
       "CPIAUCSL    37\n",
       "dtype: int64"
      ]
     },
     "execution_count": 11,
     "metadata": {},
     "output_type": "execute_result"
    }
   ],
   "source": [
    "#Q2: What is the frequency of the series?\n",
    "start = datetime.datetime(2010, 1, 1) # you can specify start and end dates this way\n",
    "end = datetime.datetime(2013, 1, 27)\n",
    "macro_df = pdr.data.DataReader(['GDP','CPIAUCSL'], 'fred', start, end)\n",
    "macro_df.count()"
   ]
  },
  {
   "cell_type": "code",
   "execution_count": 12,
   "metadata": {},
   "outputs": [
    {
     "data": {
      "text/plain": [
       "count    58.000000\n",
       "mean      0.030719\n",
       "std       0.020534\n",
       "min      -0.025368\n",
       "25%       0.019769\n",
       "50%       0.031455\n",
       "75%       0.044242\n",
       "max       0.072366\n",
       "Name: GDPCA, dtype: float64"
      ]
     },
     "execution_count": 12,
     "metadata": {},
     "output_type": "execute_result"
    }
   ],
   "source": [
    "#Q3: What is the average ANNUAL GDP, based on the data?\n",
    "start = datetime.datetime(1960, 1, 1) # you can specify start and end dates this way\n",
    "end = datetime.datetime(2018, 1, 27)\n",
    "macro_df=pdr.data.DataReader(['GDPCA'], 'fred', start, end)\n",
    "\n",
    "macro_df['GDPCA'].pct_change().describe()"
   ]
  },
  {
   "cell_type": "markdown",
   "metadata": {},
   "source": [
    "## Example 2 "
   ]
  },
  {
   "cell_type": "code",
   "execution_count": 13,
   "metadata": {},
   "outputs": [
    {
     "data": {
      "text/plain": [
       "GDPCA    0.030719\n",
       "dtype: float64"
      ]
     },
     "execution_count": 13,
     "metadata": {},
     "output_type": "execute_result"
    }
   ],
   "source": [
    "#Q4: Download the annual real gdp from 1960 to 2018 from FRED and compute the average annual percent change\n",
    "start = datetime.datetime(1960, 1, 1) # you can specify start and end dates this way\n",
    "end = datetime.datetime(2018, 12, 31)\n",
    "macro_df=pdr.data.DataReader(['GDPCA'], 'fred', start, end)\n",
    "#retrieves dataset from fred\n",
    "macro_df.pct_change().mean()\n",
    "#converts data set to percent change then find the mean \n",
    "#average annual percent change=0.030719"
   ]
  },
  {
   "cell_type": "code",
   "execution_count": 14,
   "metadata": {},
   "outputs": [
    {
     "data": {
      "text/html": [
       "<div>\n",
       "<style scoped>\n",
       "    .dataframe tbody tr th:only-of-type {\n",
       "        vertical-align: middle;\n",
       "    }\n",
       "\n",
       "    .dataframe tbody tr th {\n",
       "        vertical-align: top;\n",
       "    }\n",
       "\n",
       "    .dataframe thead th {\n",
       "        text-align: right;\n",
       "    }\n",
       "</style>\n",
       "<table border=\"1\" class=\"dataframe\">\n",
       "  <thead>\n",
       "    <tr style=\"text-align: right;\">\n",
       "      <th></th>\n",
       "      <th>GDPCA</th>\n",
       "    </tr>\n",
       "    <tr>\n",
       "      <th>DATE</th>\n",
       "      <th></th>\n",
       "    </tr>\n",
       "  </thead>\n",
       "  <tbody>\n",
       "    <tr>\n",
       "      <th>1960</th>\n",
       "      <td>0.047426</td>\n",
       "    </tr>\n",
       "    <tr>\n",
       "      <th>1970</th>\n",
       "      <td>0.032352</td>\n",
       "    </tr>\n",
       "    <tr>\n",
       "      <th>1980</th>\n",
       "      <td>0.031240</td>\n",
       "    </tr>\n",
       "    <tr>\n",
       "      <th>1990</th>\n",
       "      <td>0.032220</td>\n",
       "    </tr>\n",
       "    <tr>\n",
       "      <th>2000</th>\n",
       "      <td>0.019099</td>\n",
       "    </tr>\n",
       "    <tr>\n",
       "      <th>2010</th>\n",
       "      <td>0.022861</td>\n",
       "    </tr>\n",
       "  </tbody>\n",
       "</table>\n",
       "</div>"
      ],
      "text/plain": [
       "         GDPCA\n",
       "DATE          \n",
       "1960  0.047426\n",
       "1970  0.032352\n",
       "1980  0.031240\n",
       "1990  0.032220\n",
       "2000  0.019099\n",
       "2010  0.022861"
      ]
     },
     "execution_count": 14,
     "metadata": {},
     "output_type": "execute_result"
    }
   ],
   "source": [
    "#Q5: Compute the average gdp percent change within each decade\n",
    "start = datetime.datetime(1960, 1, 1) # you can specify start and end dates this way\n",
    "end = datetime.datetime(2018, 12, 31)\n",
    "macro_df=pdr.data.DataReader(['GDPCA'], 'fred', start, end)\n",
    "#retrieves data from fred\n",
    "macro_df.pct_change().groupby((macro_df.index.year//10)*10).mean()\n",
    "#converts data set into percentage change, then group by decade, then computes mean for each decade"
   ]
  },
  {
   "cell_type": "markdown",
   "metadata": {},
   "source": [
    "## Example 3 \n",
    "First, I'll load January data on unemployment, the Case-Shiller housing index, and median household income in three states (CA/MI/PA)."
   ]
  },
  {
   "cell_type": "code",
   "execution_count": 15,
   "metadata": {},
   "outputs": [
    {
     "name": "stdout",
     "output_type": "stream",
     "text": [
      "\n",
      "\n",
      " DATA BEFORE FORMATTING: \n",
      "\n",
      "\n",
      "      CAUR  MIUR  PAUR      LXXRSA      DEXRSA      WDXRSA  MEHOINUSCAA672N  \\\n",
      "DATE                                                                          \n",
      "1990   5.2   7.8   5.1  100.471193         NaN   93.362855          62206.0   \n",
      "1991   7.1   8.8   6.6   95.569015   58.420806   89.706871          60697.0   \n",
      "1992   8.5   9.4   7.5   92.786926   59.748947   88.573807          61404.0   \n",
      "1993   9.7   7.6   7.3   85.246295   61.564205   89.065118          58470.0   \n",
      "1994   9.2   7.1   6.6   77.395052   64.526663   88.988467          59388.0   \n",
      "1995   7.7   5.2   5.8   76.376389   68.973289   89.670303          60745.0   \n",
      "1996   7.7   4.9   5.9   73.919989   73.582339   88.655369          62052.0   \n",
      "1997   6.8   4.7   5.3   74.536884   79.347642   88.775224          62120.0   \n",
      "1998   6.0   4.0   4.7   81.035037   85.183613   90.108149          63204.0   \n",
      "1999   5.6   3.9   4.5   92.140086   92.433567   94.188054          65961.0   \n",
      "2000   5.0   3.3   4.1  101.031209  100.145625  100.871833          68456.0   \n",
      "2001   4.8   4.4   4.3  112.031476  107.327208  113.794412          67195.0   \n",
      "2002   6.5   6.4   5.5  122.706507  111.468549  127.245703          66397.0   \n",
      "2003   6.8   6.6   5.8  145.752401  115.704198  146.676856          67473.0   \n",
      "2004   6.5   6.8   5.5  178.773753  119.772721  169.535302          65594.0   \n",
      "2005   5.8   7.2   5.2  221.471372  123.264825  210.799924          66710.0   \n",
      "2006   5.0   6.8   4.7  268.208865  126.872658  250.272485          69065.0   \n",
      "2007   4.9   6.9   4.3  270.804957  118.163826  241.411021          67664.0   \n",
      "2008   6.0   7.1   4.7  226.112015  100.378481  215.656292          66658.0   \n",
      "2009   9.7  10.9   7.0  167.831286   77.690725  174.183583          65858.0   \n",
      "\n",
      "      MEHOINUSMIA672N  MEHOINUSPAA672N  \n",
      "DATE                                    \n",
      "1990          55941.0          54199.0  \n",
      "1991          57908.0          54752.0  \n",
      "1992          56767.0          52571.0  \n",
      "1993          56048.0          53188.0  \n",
      "1994          59309.0          53900.0  \n",
      "1995          59788.0          56667.0  \n",
      "1996          62713.0          55796.0  \n",
      "1997          60630.0          58713.0  \n",
      "1998          64574.0          60241.0  \n",
      "1999          69680.0          57085.0  \n",
      "2000          66549.0          61671.0  \n",
      "2001          64046.0          61845.0  \n",
      "2002          59788.0          59484.0  \n",
      "2003          61618.0          58759.0  \n",
      "2004          56311.0          58776.0  \n",
      "2005          59205.0          59678.0  \n",
      "2006          60735.0          60523.0  \n",
      "2007          59938.0          58805.0  \n",
      "2008          58209.0          60096.0  \n",
      "2009          53961.0          56517.0  \n",
      "\n",
      "\n",
      " DATA AFTER FORMATTING: \n",
      "\n",
      "\n",
      "     Unemployment               HouseIdx                         MedIncome  \\\n",
      "               CA    MI   PA          CA          MI          PA        CA   \n",
      "DATE                                                                         \n",
      "1990          5.2   7.8  5.1  100.471193         NaN   93.362855   62206.0   \n",
      "1991          7.1   8.8  6.6   95.569015   58.420806   89.706871   60697.0   \n",
      "1992          8.5   9.4  7.5   92.786926   59.748947   88.573807   61404.0   \n",
      "1993          9.7   7.6  7.3   85.246295   61.564205   89.065118   58470.0   \n",
      "1994          9.2   7.1  6.6   77.395052   64.526663   88.988467   59388.0   \n",
      "1995          7.7   5.2  5.8   76.376389   68.973289   89.670303   60745.0   \n",
      "1996          7.7   4.9  5.9   73.919989   73.582339   88.655369   62052.0   \n",
      "1997          6.8   4.7  5.3   74.536884   79.347642   88.775224   62120.0   \n",
      "1998          6.0   4.0  4.7   81.035037   85.183613   90.108149   63204.0   \n",
      "1999          5.6   3.9  4.5   92.140086   92.433567   94.188054   65961.0   \n",
      "2000          5.0   3.3  4.1  101.031209  100.145625  100.871833   68456.0   \n",
      "2001          4.8   4.4  4.3  112.031476  107.327208  113.794412   67195.0   \n",
      "2002          6.5   6.4  5.5  122.706507  111.468549  127.245703   66397.0   \n",
      "2003          6.8   6.6  5.8  145.752401  115.704198  146.676856   67473.0   \n",
      "2004          6.5   6.8  5.5  178.773753  119.772721  169.535302   65594.0   \n",
      "2005          5.8   7.2  5.2  221.471372  123.264825  210.799924   66710.0   \n",
      "2006          5.0   6.8  4.7  268.208865  126.872658  250.272485   69065.0   \n",
      "2007          4.9   6.9  4.3  270.804957  118.163826  241.411021   67664.0   \n",
      "2008          6.0   7.1  4.7  226.112015  100.378481  215.656292   66658.0   \n",
      "2009          9.7  10.9  7.0  167.831286   77.690725  174.183583   65858.0   \n",
      "\n",
      "                        \n",
      "           MI       PA  \n",
      "DATE                    \n",
      "1990  55941.0  54199.0  \n",
      "1991  57908.0  54752.0  \n",
      "1992  56767.0  52571.0  \n",
      "1993  56048.0  53188.0  \n",
      "1994  59309.0  53900.0  \n",
      "1995  59788.0  56667.0  \n",
      "1996  62713.0  55796.0  \n",
      "1997  60630.0  58713.0  \n",
      "1998  64574.0  60241.0  \n",
      "1999  69680.0  57085.0  \n",
      "2000  66549.0  61671.0  \n",
      "2001  64046.0  61845.0  \n",
      "2002  59788.0  59484.0  \n",
      "2003  61618.0  58759.0  \n",
      "2004  56311.0  58776.0  \n",
      "2005  59205.0  59678.0  \n",
      "2006  60735.0  60523.0  \n",
      "2007  59938.0  58805.0  \n",
      "2008  58209.0  60096.0  \n",
      "2009  53961.0  56517.0  \n"
     ]
    }
   ],
   "source": [
    "# LOAD DATA AND CONVERT TO ANNUAL\n",
    "\n",
    "start = 1990 # pandas datareader can infer these are years\n",
    "end = 2018\n",
    "macro_data = pdr.data.DataReader(['CAUR','MIUR','PAUR', # unemployment \n",
    "                                  'LXXRSA','DEXRSA','WDXRSA', # case shiller index in LA, Detroit, DC (no PA  available!)\n",
    "                                  'MEHOINUSCAA672N','MEHOINUSMIA672N','MEHOINUSPAA672N'], #  \n",
    "                                 'fred', start, end)\n",
    "macro_data = macro_data.resample('Y').first() # get's the first observation for each variable in a given year\n",
    "\n",
    "# CLEAN UP THE FORMATING SOMEWHAT\n",
    "\n",
    "macro_data.index = macro_data.index.year\n",
    "print(\"\\n\\n DATA BEFORE FORMATTING: \\n\\n\")\n",
    "print(macro_data[:20]) # see how the data looks now? ugly variable names, but its an annual dataset at least\n",
    "macro_data.columns=pd.MultiIndex.from_tuples([\n",
    "    ('Unemployment','CA'),('Unemployment','MI'),('Unemployment','PA'),\n",
    "    ('HouseIdx','CA'),('HouseIdx','MI'),('HouseIdx','PA'),\n",
    "    ('MedIncome','CA'),('MedIncome','MI'),('MedIncome','PA')\n",
    "    ])\n",
    "print(\"\\n\\n DATA AFTER FORMATTING: \\n\\n\")\n",
    "print(macro_data[:20]) # this is a dataset that is \"wide\", and now \n",
    "                       # the column variable names have 2 levels - var name, \n",
    "                       # and unit/state that variable applies to"
   ]
  },
  {
   "cell_type": "code",
   "execution_count": 16,
   "metadata": {},
   "outputs": [
    {
     "name": "stdout",
     "output_type": "stream",
     "text": [
      "CA 2000 UE -0.020000000000000018\n",
      "CA 2010 UE 0.8222222222222222\n",
      "CA 2020 UE -1.0999999999999999\n",
      "\n",
      "MI 2000 UE -0.45\n",
      "MI 2010 UE 1.0555555555555556\n",
      "MI 2020 UE -0.9285714285714286\n",
      "\n",
      "PA 2000 UE -0.1\n",
      "PA 2010 UE 0.4888888888888888\n",
      "PA 2020 UE -0.47142857142857153\n",
      "\n"
     ]
    }
   ],
   "source": [
    "#Q6: for each decade and state, report the average annual CHANGE (level, not percent) in unemployment\n",
    "decade_1 = macro_data.query(\"DATE <= 2000\")\n",
    "decade_2 = macro_data.query(\"DATE > 2000 and DATE <= 2010\")\n",
    "decade_3 = macro_data.query(\"DATE > 2010\")\n",
    "\n",
    "print(\"CA 2000 UE\", decade_1[(\"Unemployment\", \"CA\")].diff().mean())\n",
    "print(\"CA 2010 UE\", decade_2[(\"Unemployment\", \"CA\")].diff().mean())\n",
    "print(\"CA 2020 UE\", decade_3[(\"Unemployment\", \"CA\")].diff().mean())\n",
    "print()\n",
    "\n",
    "print(\"MI 2000 UE\", decade_1[(\"Unemployment\", \"MI\")].diff().mean())\n",
    "print(\"MI 2010 UE\", decade_2[(\"Unemployment\", \"MI\")].diff().mean())\n",
    "print(\"MI 2020 UE\", decade_3[(\"Unemployment\", \"MI\")].diff().mean())\n",
    "print()\n",
    "\n",
    "print(\"PA 2000 UE\", decade_1[(\"Unemployment\", \"PA\")].diff().mean())\n",
    "print(\"PA 2010 UE\", decade_2[(\"Unemployment\", \"PA\")].diff().mean())\n",
    "print(\"PA 2020 UE\", decade_3[(\"Unemployment\", \"PA\")].diff().mean())\n",
    "print()"
   ]
  },
  {
   "cell_type": "code",
   "execution_count": 17,
   "metadata": {},
   "outputs": [
    {
     "name": "stdout",
     "output_type": "stream",
     "text": [
      "CA 2000 HI 0.05600167869039865\n",
      "CA 2010 HI 6.934462538985558\n",
      "CA 2020 HI 14.78695781814257\n",
      "\n",
      "MI 2000 HI 4.6360910381133325\n",
      "MI 2010 HI -3.9096538219953345\n",
      "MI 2020 HI 7.313921854415428\n",
      "\n",
      "PA 2000 HI 0.750897785932699\n",
      "PA 2010 HI 7.352914313837226\n",
      "PA 2020 HI 5.542839409722567\n"
     ]
    }
   ],
   "source": [
    "#Q7: for each decade and state, report the average annual PERCENT CHANGE in house prices and household income\n",
    "print(\"CA 2000 HI\", decade_1[(\"HouseIdx\", \"CA\")].diff().mean())\n",
    "print(\"CA 2010 HI\", decade_2[(\"HouseIdx\", \"CA\")].diff().mean())\n",
    "print(\"CA 2020 HI\", decade_3[(\"HouseIdx\", \"CA\")].diff().mean())\n",
    "print()\n",
    "\n",
    "print(\"MI 2000 HI\", decade_1[(\"HouseIdx\", \"MI\")].diff().mean())\n",
    "print(\"MI 2010 HI\", decade_2[(\"HouseIdx\", \"MI\")].diff().mean())\n",
    "print(\"MI 2020 HI\", decade_3[(\"HouseIdx\", \"MI\")].diff().mean())\n",
    "print()\n",
    "\n",
    "print(\"PA 2000 HI\", decade_1[(\"HouseIdx\", \"PA\")].diff().mean())\n",
    "print(\"PA 2010 HI\", decade_2[(\"HouseIdx\", \"PA\")].diff().mean())\n",
    "print(\"PA 2020 HI\", decade_3[(\"HouseIdx\", \"PA\")].diff().mean())"
   ]
  },
  {
   "cell_type": "code",
   "execution_count": null,
   "metadata": {},
   "outputs": [],
   "source": []
  }
 ],
 "metadata": {
  "kernelspec": {
   "display_name": "Python 3",
   "language": "python",
   "name": "python3"
  },
  "language_info": {
   "codemirror_mode": {
    "name": "ipython",
    "version": 3
   },
   "file_extension": ".py",
   "mimetype": "text/x-python",
   "name": "python",
   "nbconvert_exporter": "python",
   "pygments_lexer": "ipython3",
   "version": "3.7.4"
  }
 },
 "nbformat": 4,
 "nbformat_minor": 2
}
