{
 "cells": [
  {
   "cell_type": "code",
   "execution_count": 1,
   "metadata": {},
   "outputs": [
    {
     "data": {
      "text/plain": [
       "[{'price': 850, 'rooms': 4, 'neighborhood': 'Queen Anne'},\n",
       " {'price': 650, 'rooms': 3, 'neighborhood': 'Queen Anne'},\n",
       " {'price': 700, 'rooms': 1, 'neighborhood': 'Wallingford'},\n",
       " {'price': 650, 'rooms': 3, 'neighborhood': 'Wallingford'},\n",
       " {'price': 700, 'rooms': 3, 'neighborhood': 'Fremont'},\n",
       " {'price': 600, 'rooms': 2, 'neighborhood': 'Fremont'}]"
      ]
     },
     "execution_count": 1,
     "metadata": {},
     "output_type": "execute_result"
    }
   ],
   "source": [
    "data = [\n",
    "    {'price': 850, 'rooms': 4, 'neighborhood': 'Queen Anne'},\n",
    "    {'price': 650, 'rooms': 3, 'neighborhood': 'Queen Anne'},\n",
    "    {'price': 700, 'rooms': 1, 'neighborhood': 'Wallingford'},\n",
    "    {'price': 650, 'rooms': 3, 'neighborhood': 'Wallingford'},\n",
    "    {'price': 700, 'rooms': 3, 'neighborhood': 'Fremont'},\n",
    "    {'price': 600, 'rooms': 2, 'neighborhood': 'Fremont'}\n",
    "]\n",
    "data"
   ]
  },
  {
   "cell_type": "code",
   "execution_count": 2,
   "metadata": {},
   "outputs": [
    {
     "name": "stdout",
     "output_type": "stream",
     "text": [
      "The coefs from SM:\n",
      "neighborhood[Fremont]        650.0\n",
      "neighborhood[Queen Anne]     750.0\n",
      "neighborhood[Wallingford]    675.0\n",
      "dtype: float64\n"
     ]
    }
   ],
   "source": [
    "import pandas as pd    \n",
    "from statsmodels.formula.api import ols as sm_ols\n",
    "print('The coefs from SM:')\n",
    "print(sm_ols('price ~ neighborhood - 1', data = pd.DataFrame(data)).fit().params)\n",
    "# \"\"-1\" means no intercept. Don't do this! It's here for illustration"
   ]
  },
  {
   "cell_type": "code",
   "execution_count": 3,
   "metadata": {},
   "outputs": [
    {
     "name": "stdout",
     "output_type": "stream",
     "text": [
      "[[  0   1   0 850   4]\n",
      " [  0   1   0 650   3]\n",
      " [  0   0   1 700   1]\n",
      " [  0   0   1 650   3]\n",
      " [  1   0   0 700   3]\n",
      " [  1   0   0 600   2]] \n",
      "\n",
      "['neighborhood=Fremont', 'neighborhood=Queen Anne', 'neighborhood=Wallingford', 'price', 'rooms']\n",
      "Reg coefs:\n"
     ]
    },
    {
     "data": {
      "text/plain": [
       "array([650., 750., 675.])"
      ]
     },
     "execution_count": 3,
     "metadata": {},
     "output_type": "execute_result"
    }
   ],
   "source": [
    "# create an object (\"vec\") that can do the transform\n",
    "from sklearn.feature_extraction import DictVectorizer\n",
    "vec = DictVectorizer(sparse=False, dtype=int) \n",
    "\n",
    "# apply vec with \".fit_transform\", save to new data obj\n",
    "data2 = vec.fit_transform(data) \n",
    "print(data2, '\\n')              \n",
    "print(vec.get_feature_names())  # can use .get_feature_names() to recover names\n",
    "\n",
    "# now we can repeat the regression here\n",
    "from sklearn.linear_model import LinearRegression\n",
    "print('Reg coefs:')\n",
    "LinearRegression(fit_intercept=False).fit(data2[:,:3],data2[:,3]).coef_"
   ]
  },
  {
   "cell_type": "code",
   "execution_count": null,
   "metadata": {},
   "outputs": [],
   "source": []
  }
 ],
 "metadata": {
  "kernelspec": {
   "display_name": "Python 3",
   "language": "python",
   "name": "python3"
  },
  "language_info": {
   "codemirror_mode": {
    "name": "ipython",
    "version": 3
   },
   "file_extension": ".py",
   "mimetype": "text/x-python",
   "name": "python",
   "nbconvert_exporter": "python",
   "pygments_lexer": "ipython3",
   "version": "3.7.4"
  }
 },
 "nbformat": 4,
 "nbformat_minor": 2
}
