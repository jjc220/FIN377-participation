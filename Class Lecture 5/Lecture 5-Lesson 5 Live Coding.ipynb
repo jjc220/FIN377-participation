{
 "cells": [
  {
   "cell_type": "markdown",
   "metadata": {},
   "source": [
    "1. Check inout file size!\n",
    ">>>>Numerical library for python\n",
    "Do things with numbers fast\n",
    "Loads of math functions\n",
    "2. Numpy: speed, math functions\n",
    "3. "
   ]
  }
 ],
 "metadata": {
  "kernelspec": {
   "display_name": "Python 3",
   "language": "python",
   "name": "python3"
  },
  "language_info": {
   "codemirror_mode": {
    "name": "ipython",
    "version": 3
   },
   "file_extension": ".py",
   "mimetype": "text/x-python",
   "name": "python",
   "nbconvert_exporter": "python",
   "pygments_lexer": "ipython3",
   "version": "3.7.4"
  }
 },
 "nbformat": 4,
 "nbformat_minor": 2
}
