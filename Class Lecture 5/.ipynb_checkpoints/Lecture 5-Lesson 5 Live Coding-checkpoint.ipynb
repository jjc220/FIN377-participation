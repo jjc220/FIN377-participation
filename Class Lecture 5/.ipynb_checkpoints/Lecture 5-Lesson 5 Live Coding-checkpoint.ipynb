{
 "cells": [
  {
   "cell_type": "markdown",
   "metadata": {},
   "source": [
    "1. Check inout file size!\n",
    ">>>>Numerical library for python\n",
    "Do things with numbers fast\n",
    "Loads of math functions\n",
    "2. Numpy: speed, math functions\n",
    "3. "
   ]
  },
  {
   "cell_type": "code",
   "execution_count": null,
   "metadata": {},
   "outputs": [],
   "source": [
    "import pandas as pd\n",
    "pd.\n"
   ]
  },
  {
   "cell_type": "code",
   "execution_count": null,
   "metadata": {},
   "outputs": [],
   "source": [
    "import seaborn as sns\n",
    "iris = sns.load_dataset('iris') "
   ]
  },
  {
   "cell_type": "code",
   "execution_count": null,
   "metadata": {
    "scrolled": true
   },
   "outputs": [],
   "source": [
    "print(iris)\n",
    "print(iris.head(20))\n",
    "print(iris.tail(10))"
   ]
  },
  {
   "cell_type": "code",
   "execution_count": null,
   "metadata": {},
   "outputs": [],
   "source": [
    "iris.shape #this is not a function it is an attribute"
   ]
  },
  {
   "cell_type": "code",
   "execution_count": null,
   "metadata": {},
   "outputs": [],
   "source": [
    "iris.describe()"
   ]
  },
  {
   "cell_type": "code",
   "execution_count": null,
   "metadata": {},
   "outputs": [],
   "source": [
    "iris['species'].value_counts() #in iris give me the count of species for the variable "
   ]
  },
  {
   "cell_type": "code",
   "execution_count": null,
   "metadata": {},
   "outputs": [],
   "source": [
    "iris['species'].nunique() #how many unique items for that variable"
   ]
  },
  {
   "cell_type": "code",
   "execution_count": null,
   "metadata": {},
   "outputs": [],
   "source": [
    "iris['species']"
   ]
  },
  {
   "cell_type": "markdown",
   "metadata": {},
   "source": [
    "data frame- is where you store you whole data\n",
    "every column is a variable that describe the observation (the row)\n",
    "option1 = kbey is a variable\n",
    "option2 = the index is the key. every index left of the data frame describes the data frame\n"
   ]
  },
  {
   "cell_type": "code",
   "execution_count": null,
   "metadata": {},
   "outputs": [],
   "source": [
    "#TO USE datadotworld PACKAGE:\n",
    "#1. create account at data.world, then run the next two lines:\n",
    "#2. in terminal/powershell: pip install datadotworld[pandas]\n",
    "#\n",
    "#   IF THIS DOESN'T WORK BC YOU GET AN ERROR ABOUT \"CCHARDET\", RUN:\n",
    "#    conda install -c conda-forge cchardet\n",
    "#   THEN RERUN: pip install datadotworld[pandas] \n",
    "#\n",
    "#3. in terminal/powershell: dw configure          \n",
    "#3a. copy in API token from data.world (get from settings > advanced)\n",
    "\n",
    "import datadotworld as dw\n",
    "import numpy as np\n",
    "import pandas as pd\n",
    "import seaborn as sns\n",
    "import matplotlib.pyplot as plt\n",
    "\n",
    "baby_names = dw.load_dataset('nkrishnaswami/us-ssa-baby-names-national')\n",
    "baby_names = baby_names.dataframes['names_ranks_counts']"
   ]
  },
  {
   "cell_type": "code",
   "execution_count": 1,
   "metadata": {},
   "outputs": [
    {
     "name": "stdout",
     "output_type": "stream",
     "text": [
      "Collecting package metadata (current_repodata.json): done\n",
      "Solving environment: done\n",
      "\n",
      "\n",
      "==> WARNING: A newer version of conda exists. <==\n",
      "  current version: 4.8.1\n",
      "  latest version: 4.8.2\n",
      "\n",
      "Please update conda by running\n",
      "\n",
      "    $ conda update -n base -c defaults conda\n",
      "\n",
      "\n",
      "\n",
      "## Package Plan ##\n",
      "\n",
      "  environment location: /Users/julaiseicaguana/opt/anaconda3\n",
      "\n",
      "  added / updated specs:\n",
      "    - cchardet\n",
      "\n",
      "\n",
      "The following packages will be downloaded:\n",
      "\n",
      "    package                    |            build\n",
      "    ---------------------------|-----------------\n",
      "    ca-certificates-2019.11.28 |       hecc5488_0         145 KB  conda-forge\n",
      "    cchardet-2.1.5             |   py37h4a8c4bd_0         131 KB  conda-forge\n",
      "    certifi-2019.11.28         |           py37_0         148 KB  conda-forge\n",
      "    conda-4.8.2                |           py37_0         3.0 MB  conda-forge\n",
      "    libcxx-9.0.1               |                1        1011 KB  conda-forge\n",
      "    openssl-1.1.1d             |       h0b31af3_0         1.9 MB  conda-forge\n",
      "    ------------------------------------------------------------\n",
      "                                           Total:         6.3 MB\n",
      "\n",
      "The following NEW packages will be INSTALLED:\n",
      "\n",
      "  cchardet           conda-forge/osx-64::cchardet-2.1.5-py37h4a8c4bd_0\n",
      "\n",
      "The following packages will be UPDATED:\n",
      "\n",
      "  ca-certificates    pkgs/main::ca-certificates-2019.11.27~ --> conda-forge::ca-certificates-2019.11.28-hecc5488_0\n",
      "  conda                       pkgs/main::conda-4.8.1-py37_0 --> conda-forge::conda-4.8.2-py37_0\n",
      "  libcxx                 pkgs/main::libcxx-4.0.1-hcfea43d_1 --> conda-forge::libcxx-9.0.1-1\n",
      "\n",
      "The following packages will be SUPERSEDED by a higher-priority channel:\n",
      "\n",
      "  certifi                                         pkgs/main --> conda-forge\n",
      "  openssl              pkgs/main::openssl-1.1.1d-h1de35cc_3 --> conda-forge::openssl-1.1.1d-h0b31af3_0\n",
      "\n",
      "\n",
      "\n",
      "Downloading and Extracting Packages\n",
      "certifi-2019.11.28   | 148 KB    | ##################################### | 100% \n",
      "conda-4.8.2          | 3.0 MB    | ##################################### | 100% \n",
      "libcxx-9.0.1         | 1011 KB   | ##################################### | 100% \n",
      "openssl-1.1.1d       | 1.9 MB    | ##################################### | 100% \n",
      "cchardet-2.1.5       | 131 KB    | ##################################### | 100% \n",
      "ca-certificates-2019 | 145 KB    | ##################################### | 100% \n",
      "Preparing transaction: done\n",
      "Verifying transaction: done\n",
      "Executing transaction: done\n",
      "\n",
      "Note: you may need to restart the kernel to use updated packages.\n"
     ]
    }
   ],
   "source": [
    "conda install -c conda-forge cchardet"
   ]
  },
  {
   "cell_type": "code",
   "execution_count": 2,
   "metadata": {},
   "outputs": [
    {
     "name": "stdout",
     "output_type": "stream",
     "text": [
      "Collecting datadotworld[pandas]\n",
      "\u001b[?25l  Downloading https://files.pythonhosted.org/packages/eb/2d/564c9b9056c414528f7a91c48bc33f2243bd5323ac07d52269002bd3d6c6/datadotworld-1.7.0-py2.py3-none-any.whl (158kB)\n",
      "\u001b[K     |████████████████████████████████| 163kB 1.1MB/s eta 0:00:01\n",
      "\u001b[?25hCollecting datapackage<2.0a,>=1.6.2\n",
      "\u001b[?25l  Downloading https://files.pythonhosted.org/packages/11/6f/685b1e6d5f308dfccba8956dfc37618543e74d2b80adf2fee6e45a717877/datapackage-1.11.0-py2.py3-none-any.whl (84kB)\n",
      "\u001b[K     |████████████████████████████████| 92kB 12.4MB/s eta 0:00:01\n",
      "\u001b[?25hCollecting configparser<4.0a,>=3.5.0\n",
      "  Downloading https://files.pythonhosted.org/packages/ab/1a/ec151e5e703ac80041eaccef923611bbcec2b667c20383655a06962732e9/configparser-3.8.1-py2.py3-none-any.whl\n",
      "Requirement already satisfied: certifi>=2017.04.17 in /Users/julaiseicaguana/opt/anaconda3/lib/python3.7/site-packages (from datadotworld[pandas]) (2019.11.28)\n",
      "Requirement already satisfied: six<2.0a,>=1.5.0 in /Users/julaiseicaguana/opt/anaconda3/lib/python3.7/site-packages (from datadotworld[pandas]) (1.13.0)\n",
      "Requirement already satisfied: urllib3<2.0a,>=1.15 in /Users/julaiseicaguana/opt/anaconda3/lib/python3.7/site-packages (from datadotworld[pandas]) (1.25.7)\n",
      "Requirement already satisfied: python-dateutil<3.0a,>=2.6.0 in /Users/julaiseicaguana/opt/anaconda3/lib/python3.7/site-packages (from datadotworld[pandas]) (2.8.1)\n",
      "Collecting click<7.0a,>=6.0\n",
      "\u001b[?25l  Downloading https://files.pythonhosted.org/packages/34/c1/8806f99713ddb993c5366c362b2f908f18269f8d792aff1abfd700775a77/click-6.7-py2.py3-none-any.whl (71kB)\n",
      "\u001b[K     |████████████████████████████████| 71kB 6.9MB/s eta 0:00:011\n",
      "\u001b[?25hCollecting tableschema<2.0a,>=1.5.2\n",
      "\u001b[?25l  Downloading https://files.pythonhosted.org/packages/d3/00/39573a3608343ce35bef3fa6f02bfa5789695bbcb7663c4abb6f69c9b4d5/tableschema-1.12.3-py2.py3-none-any.whl (66kB)\n",
      "\u001b[K     |████████████████████████████████| 71kB 6.6MB/s eta 0:00:011\n",
      "\u001b[?25hRequirement already satisfied: requests<3.0a,>=2.0.0 in /Users/julaiseicaguana/opt/anaconda3/lib/python3.7/site-packages (from datadotworld[pandas]) (2.22.0)\n",
      "Collecting tabulator>=1.22.0\n",
      "\u001b[?25l  Downloading https://files.pythonhosted.org/packages/56/5c/e57ce30b0751c9071f848e9eb3bda128a921fff13ea442fc1059206cceb2/tabulator-1.34.0-py2.py3-none-any.whl (65kB)\n",
      "\u001b[K     |████████████████████████████████| 71kB 6.7MB/s eta 0:00:011\n",
      "\u001b[?25hCollecting numpy<=1.16.4; extra == \"pandas\"\n",
      "\u001b[?25l  Downloading https://files.pythonhosted.org/packages/6b/be/608b7f72b851472388eafc010a5d46dae5d41610d0ac5df4c98c2ed1b865/numpy-1.16.4-cp37-cp37m-macosx_10_6_intel.macosx_10_9_intel.macosx_10_9_x86_64.macosx_10_10_intel.macosx_10_10_x86_64.whl (13.9MB)\n",
      "\u001b[K     |████████████████████████████████| 13.9MB 1.2MB/s eta 0:00:01\n",
      "\u001b[?25hCollecting pandas<0.25; extra == \"pandas\"\n",
      "\u001b[?25l  Downloading https://files.pythonhosted.org/packages/fc/43/fd867e3347559845c8f993059d410c50a1e18709f1c4d4b3b47323a06a37/pandas-0.24.2-cp37-cp37m-macosx_10_6_intel.macosx_10_9_intel.macosx_10_9_x86_64.macosx_10_10_intel.macosx_10_10_x86_64.whl (15.9MB)\n",
      "\u001b[K     |████████████████████████████████| 15.9MB 1.7MB/s eta 0:00:01\n",
      "\u001b[?25hCollecting jsonpointer>=1.10\n",
      "  Downloading https://files.pythonhosted.org/packages/18/b0/a80d29577c08eea401659254dfaed87f1af45272899e1812d7e01b679bc5/jsonpointer-2.0-py2.py3-none-any.whl\n",
      "Requirement already satisfied: cchardet>=1.0 in /Users/julaiseicaguana/opt/anaconda3/lib/python3.7/site-packages (from datapackage<2.0a,>=1.6.2->datadotworld[pandas]) (2.1.5)\n",
      "Requirement already satisfied: unicodecsv>=0.14 in /Users/julaiseicaguana/opt/anaconda3/lib/python3.7/site-packages (from datapackage<2.0a,>=1.6.2->datadotworld[pandas]) (0.14.1)\n",
      "Requirement already satisfied: jsonschema>=2.5 in /Users/julaiseicaguana/opt/anaconda3/lib/python3.7/site-packages (from datapackage<2.0a,>=1.6.2->datadotworld[pandas]) (3.2.0)\n",
      "Collecting rfc3986>=1.1.0\n",
      "  Downloading https://files.pythonhosted.org/packages/00/8d/9d56bfe43997f1864fe0891be69bc239ded98e69c9f56eb9eaa5b1789660/rfc3986-1.3.2-py2.py3-none-any.whl\n",
      "Collecting isodate>=0.5.4\n",
      "\u001b[?25l  Downloading https://files.pythonhosted.org/packages/9b/9f/b36f7774ff5ea8e428fdcfc4bb332c39ee5b9362ddd3d40d9516a55221b2/isodate-0.6.0-py2.py3-none-any.whl (45kB)\n",
      "\u001b[K     |████████████████████████████████| 51kB 1.2MB/s eta 0:00:011\n",
      "\u001b[?25hRequirement already satisfied: chardet<3.1.0,>=3.0.2 in /Users/julaiseicaguana/opt/anaconda3/lib/python3.7/site-packages (from requests<3.0a,>=2.0.0->datadotworld[pandas]) (3.0.4)\n",
      "Requirement already satisfied: idna<2.9,>=2.5 in /Users/julaiseicaguana/opt/anaconda3/lib/python3.7/site-packages (from requests<3.0a,>=2.0.0->datadotworld[pandas]) (2.8)\n",
      "Requirement already satisfied: xlrd>=1.0 in /Users/julaiseicaguana/opt/anaconda3/lib/python3.7/site-packages (from tabulator>=1.22.0->datadotworld[pandas]) (1.2.0)\n",
      "Collecting ijson>=2.5\n",
      "  Downloading https://files.pythonhosted.org/packages/fc/d8/8966b7f32166e04a336a35a49867b39e45f92e3d34849b5f4a3aa3a3b4ce/ijson-2.6.1-cp37-cp37m-macosx_10_6_x86_64.whl\n",
      "Collecting jsonlines>=1.1\n",
      "  Downloading https://files.pythonhosted.org/packages/4f/9a/ab96291470e305504aa4b7a2e0ec132e930da89eb3ca7a82fbe03167c131/jsonlines-1.2.0-py2.py3-none-any.whl\n",
      "Requirement already satisfied: sqlalchemy>=0.9.6 in /Users/julaiseicaguana/opt/anaconda3/lib/python3.7/site-packages (from tabulator>=1.22.0->datadotworld[pandas]) (1.3.12)\n",
      "Collecting linear-tsv>=1.0\n",
      "  Downloading https://files.pythonhosted.org/packages/82/e5/03207a0f11e1d60df85b97b61704ed701b725a7c2feaf83f7bfbd0c2d83e/linear-tsv-1.1.0.tar.gz\n",
      "Requirement already satisfied: openpyxl>=2.6 in /Users/julaiseicaguana/opt/anaconda3/lib/python3.7/site-packages (from tabulator>=1.22.0->datadotworld[pandas]) (3.0.2)\n",
      "Collecting boto3>=1.9\n",
      "\u001b[?25l  Downloading https://files.pythonhosted.org/packages/d5/57/e9675a5a8d0ee586594ff19cb9a601334fbf24fa2fb29052d2a900ee5d23/boto3-1.11.9-py2.py3-none-any.whl (128kB)\n",
      "\u001b[K     |████████████████████████████████| 133kB 1.1MB/s eta 0:00:01\n",
      "\u001b[?25hRequirement already satisfied: pytz>=2011k in /Users/julaiseicaguana/opt/anaconda3/lib/python3.7/site-packages (from pandas<0.25; extra == \"pandas\"->datadotworld[pandas]) (2019.3)\n",
      "Requirement already satisfied: importlib-metadata; python_version < \"3.8\" in /Users/julaiseicaguana/opt/anaconda3/lib/python3.7/site-packages (from jsonschema>=2.5->datapackage<2.0a,>=1.6.2->datadotworld[pandas]) (1.3.0)\n",
      "Requirement already satisfied: setuptools in /Users/julaiseicaguana/opt/anaconda3/lib/python3.7/site-packages (from jsonschema>=2.5->datapackage<2.0a,>=1.6.2->datadotworld[pandas]) (44.0.0.post20200106)\n",
      "Requirement already satisfied: pyrsistent>=0.14.0 in /Users/julaiseicaguana/opt/anaconda3/lib/python3.7/site-packages (from jsonschema>=2.5->datapackage<2.0a,>=1.6.2->datadotworld[pandas]) (0.15.6)\n",
      "Requirement already satisfied: attrs>=17.4.0 in /Users/julaiseicaguana/opt/anaconda3/lib/python3.7/site-packages (from jsonschema>=2.5->datapackage<2.0a,>=1.6.2->datadotworld[pandas]) (19.3.0)\n",
      "Requirement already satisfied: et-xmlfile in /Users/julaiseicaguana/opt/anaconda3/lib/python3.7/site-packages (from openpyxl>=2.6->tabulator>=1.22.0->datadotworld[pandas]) (1.0.1)\n",
      "Requirement already satisfied: jdcal in /Users/julaiseicaguana/opt/anaconda3/lib/python3.7/site-packages (from openpyxl>=2.6->tabulator>=1.22.0->datadotworld[pandas]) (1.4.1)\n",
      "Collecting s3transfer<0.4.0,>=0.3.0\n",
      "\u001b[?25l  Downloading https://files.pythonhosted.org/packages/c7/48/a8252b6b3cd31774eab312b19d58a6ac55f296240c206617dcd38cd93bf8/s3transfer-0.3.2-py2.py3-none-any.whl (69kB)\n",
      "\u001b[K     |████████████████████████████████| 71kB 1.2MB/s eta 0:00:011\n",
      "\u001b[?25hCollecting botocore<1.15.0,>=1.14.9\n",
      "\u001b[?25l  Downloading https://files.pythonhosted.org/packages/64/4c/b0b0d3b6f84a05f9135051b56d3eb8708012a289c4b82ee21c8c766f47b5/botocore-1.14.9-py2.py3-none-any.whl (5.9MB)\n",
      "\u001b[K     |████████████████████████████████| 5.9MB 929kB/s eta 0:00:01\n",
      "\u001b[?25hCollecting jmespath<1.0.0,>=0.7.1\n",
      "  Downloading https://files.pythonhosted.org/packages/83/94/7179c3832a6d45b266ddb2aac329e101367fbdb11f425f13771d27f225bb/jmespath-0.9.4-py2.py3-none-any.whl\n",
      "Requirement already satisfied: zipp>=0.5 in /Users/julaiseicaguana/opt/anaconda3/lib/python3.7/site-packages (from importlib-metadata; python_version < \"3.8\"->jsonschema>=2.5->datapackage<2.0a,>=1.6.2->datadotworld[pandas]) (0.6.0)\n",
      "Requirement already satisfied: docutils<0.16,>=0.10 in /Users/julaiseicaguana/opt/anaconda3/lib/python3.7/site-packages (from botocore<1.15.0,>=1.14.9->boto3>=1.9->tabulator>=1.22.0->datadotworld[pandas]) (0.15.2)\n",
      "Requirement already satisfied: more-itertools in /Users/julaiseicaguana/opt/anaconda3/lib/python3.7/site-packages (from zipp>=0.5->importlib-metadata; python_version < \"3.8\"->jsonschema>=2.5->datapackage<2.0a,>=1.6.2->datadotworld[pandas]) (8.0.2)\n",
      "Building wheels for collected packages: linear-tsv\n"
     ]
    },
    {
     "name": "stdout",
     "output_type": "stream",
     "text": [
      "  Building wheel for linear-tsv (setup.py) ... \u001b[?25ldone\n",
      "\u001b[?25h  Created wheel for linear-tsv: filename=linear_tsv-1.1.0-cp37-none-any.whl size=7383 sha256=16cffebded878fe5fd73e3dc3ceecb837358f887cefa2586b9028860de0eea63\n",
      "  Stored in directory: /Users/julaiseicaguana/Library/Caches/pip/wheels/3f/8a/cb/38917fd1ef4356b9870ace7331b83417dc594bf2c029bd991f\n",
      "Successfully built linear-tsv\n",
      "Installing collected packages: jsonpointer, rfc3986, isodate, click, ijson, jsonlines, linear-tsv, jmespath, botocore, s3transfer, boto3, tabulator, tableschema, datapackage, configparser, numpy, pandas, datadotworld\n",
      "  Found existing installation: Click 7.0\n",
      "    Uninstalling Click-7.0:\n",
      "      Successfully uninstalled Click-7.0\n",
      "  Found existing installation: numpy 1.18.1\n",
      "    Uninstalling numpy-1.18.1:\n",
      "      Successfully uninstalled numpy-1.18.1\n",
      "  Found existing installation: pandas 0.25.3\n",
      "    Uninstalling pandas-0.25.3:\n",
      "      Successfully uninstalled pandas-0.25.3\n",
      "Successfully installed boto3-1.11.9 botocore-1.14.9 click-6.7 configparser-3.8.1 datadotworld-1.7.0 datapackage-1.11.0 ijson-2.6.1 isodate-0.6.0 jmespath-0.9.4 jsonlines-1.2.0 jsonpointer-2.0 linear-tsv-1.1.0 numpy-1.16.4 pandas-0.24.2 rfc3986-1.3.2 s3transfer-0.3.2 tableschema-1.12.3 tabulator-1.34.0\n",
      "Note: you may need to restart the kernel to use updated packages.\n"
     ]
    }
   ],
   "source": [
    "pip install datadotworld[pandas]"
   ]
  },
  {
   "cell_type": "code",
   "execution_count": null,
   "metadata": {},
   "outputs": [],
   "source": [
    "somenames= baby_names.loc[(baby_names['name'])== \"John\"]"
   ]
  },
  {
   "cell_type": "code",
   "execution_count": null,
   "metadata": {},
   "outputs": [],
   "source": [
    "combined=somenames.groupby{['name','year']}['count'].sum(.reset_index())"
   ]
  }
 ],
 "metadata": {
  "kernelspec": {
   "display_name": "Python 3",
   "language": "python",
   "name": "python3"
  },
  "language_info": {
   "codemirror_mode": {
    "name": "ipython",
    "version": 3
   },
   "file_extension": ".py",
   "mimetype": "text/x-python",
   "name": "python",
   "nbconvert_exporter": "python",
   "pygments_lexer": "ipython3",
   "version": "3.7.4"
  }
 },
 "nbformat": 4,
 "nbformat_minor": 2
}
