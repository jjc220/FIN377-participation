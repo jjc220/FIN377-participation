{
 "cells": [
  {
   "cell_type": "markdown",
   "metadata": {},
   "source": [
    "# Intro to Pandas\n"
   ]
  },
  {
   "cell_type": "code",
   "execution_count": 1,
   "metadata": {},
   "outputs": [],
   "source": [
    "import pandas as pd\n",
    "import seaborn as sns\n",
    "iris = sns.load_dataset('iris') "
   ]
  },
  {
   "cell_type": "markdown",
   "metadata": {},
   "source": [
    "### Exploring the dataframe"
   ]
  },
  {
   "cell_type": "code",
   "execution_count": 2,
   "metadata": {
    "scrolled": true
   },
   "outputs": [
    {
     "name": "stdout",
     "output_type": "stream",
     "text": [
      "     sepal_length  sepal_width  petal_length  petal_width    species\n",
      "0             5.1          3.5           1.4          0.2     setosa\n",
      "1             4.9          3.0           1.4          0.2     setosa\n",
      "2             4.7          3.2           1.3          0.2     setosa\n",
      "3             4.6          3.1           1.5          0.2     setosa\n",
      "4             5.0          3.6           1.4          0.2     setosa\n",
      "5             5.4          3.9           1.7          0.4     setosa\n",
      "6             4.6          3.4           1.4          0.3     setosa\n",
      "7             5.0          3.4           1.5          0.2     setosa\n",
      "8             4.4          2.9           1.4          0.2     setosa\n",
      "9             4.9          3.1           1.5          0.1     setosa\n",
      "10            5.4          3.7           1.5          0.2     setosa\n",
      "11            4.8          3.4           1.6          0.2     setosa\n",
      "12            4.8          3.0           1.4          0.1     setosa\n",
      "13            4.3          3.0           1.1          0.1     setosa\n",
      "14            5.8          4.0           1.2          0.2     setosa\n",
      "15            5.7          4.4           1.5          0.4     setosa\n",
      "16            5.4          3.9           1.3          0.4     setosa\n",
      "17            5.1          3.5           1.4          0.3     setosa\n",
      "18            5.7          3.8           1.7          0.3     setosa\n",
      "19            5.1          3.8           1.5          0.3     setosa\n",
      "20            5.4          3.4           1.7          0.2     setosa\n",
      "21            5.1          3.7           1.5          0.4     setosa\n",
      "22            4.6          3.6           1.0          0.2     setosa\n",
      "23            5.1          3.3           1.7          0.5     setosa\n",
      "24            4.8          3.4           1.9          0.2     setosa\n",
      "25            5.0          3.0           1.6          0.2     setosa\n",
      "26            5.0          3.4           1.6          0.4     setosa\n",
      "27            5.2          3.5           1.5          0.2     setosa\n",
      "28            5.2          3.4           1.4          0.2     setosa\n",
      "29            4.7          3.2           1.6          0.2     setosa\n",
      "..            ...          ...           ...          ...        ...\n",
      "120           6.9          3.2           5.7          2.3  virginica\n",
      "121           5.6          2.8           4.9          2.0  virginica\n",
      "122           7.7          2.8           6.7          2.0  virginica\n",
      "123           6.3          2.7           4.9          1.8  virginica\n",
      "124           6.7          3.3           5.7          2.1  virginica\n",
      "125           7.2          3.2           6.0          1.8  virginica\n",
      "126           6.2          2.8           4.8          1.8  virginica\n",
      "127           6.1          3.0           4.9          1.8  virginica\n",
      "128           6.4          2.8           5.6          2.1  virginica\n",
      "129           7.2          3.0           5.8          1.6  virginica\n",
      "130           7.4          2.8           6.1          1.9  virginica\n",
      "131           7.9          3.8           6.4          2.0  virginica\n",
      "132           6.4          2.8           5.6          2.2  virginica\n",
      "133           6.3          2.8           5.1          1.5  virginica\n",
      "134           6.1          2.6           5.6          1.4  virginica\n",
      "135           7.7          3.0           6.1          2.3  virginica\n",
      "136           6.3          3.4           5.6          2.4  virginica\n",
      "137           6.4          3.1           5.5          1.8  virginica\n",
      "138           6.0          3.0           4.8          1.8  virginica\n",
      "139           6.9          3.1           5.4          2.1  virginica\n",
      "140           6.7          3.1           5.6          2.4  virginica\n",
      "141           6.9          3.1           5.1          2.3  virginica\n",
      "142           5.8          2.7           5.1          1.9  virginica\n",
      "143           6.8          3.2           5.9          2.3  virginica\n",
      "144           6.7          3.3           5.7          2.5  virginica\n",
      "145           6.7          3.0           5.2          2.3  virginica\n",
      "146           6.3          2.5           5.0          1.9  virginica\n",
      "147           6.5          3.0           5.2          2.0  virginica\n",
      "148           6.2          3.4           5.4          2.3  virginica\n",
      "149           5.9          3.0           5.1          1.8  virginica\n",
      "\n",
      "[150 rows x 5 columns]\n",
      "    sepal_length  sepal_width  petal_length  petal_width species\n",
      "0            5.1          3.5           1.4          0.2  setosa\n",
      "1            4.9          3.0           1.4          0.2  setosa\n",
      "2            4.7          3.2           1.3          0.2  setosa\n",
      "3            4.6          3.1           1.5          0.2  setosa\n",
      "4            5.0          3.6           1.4          0.2  setosa\n",
      "5            5.4          3.9           1.7          0.4  setosa\n",
      "6            4.6          3.4           1.4          0.3  setosa\n",
      "7            5.0          3.4           1.5          0.2  setosa\n",
      "8            4.4          2.9           1.4          0.2  setosa\n",
      "9            4.9          3.1           1.5          0.1  setosa\n",
      "10           5.4          3.7           1.5          0.2  setosa\n",
      "11           4.8          3.4           1.6          0.2  setosa\n",
      "12           4.8          3.0           1.4          0.1  setosa\n",
      "13           4.3          3.0           1.1          0.1  setosa\n",
      "14           5.8          4.0           1.2          0.2  setosa\n",
      "15           5.7          4.4           1.5          0.4  setosa\n",
      "16           5.4          3.9           1.3          0.4  setosa\n",
      "17           5.1          3.5           1.4          0.3  setosa\n",
      "18           5.7          3.8           1.7          0.3  setosa\n",
      "19           5.1          3.8           1.5          0.3  setosa\n",
      "     sepal_length  sepal_width  petal_length  petal_width    species\n",
      "140           6.7          3.1           5.6          2.4  virginica\n",
      "141           6.9          3.1           5.1          2.3  virginica\n",
      "142           5.8          2.7           5.1          1.9  virginica\n",
      "143           6.8          3.2           5.9          2.3  virginica\n",
      "144           6.7          3.3           5.7          2.5  virginica\n",
      "145           6.7          3.0           5.2          2.3  virginica\n",
      "146           6.3          2.5           5.0          1.9  virginica\n",
      "147           6.5          3.0           5.2          2.0  virginica\n",
      "148           6.2          3.4           5.4          2.3  virginica\n",
      "149           5.9          3.0           5.1          1.8  virginica\n"
     ]
    }
   ],
   "source": [
    "print(iris)  #explore the data\n",
    "print(iris.head(20))\n",
    "print(iris.tail(10))"
   ]
  },
  {
   "cell_type": "code",
   "execution_count": 3,
   "metadata": {},
   "outputs": [
    {
     "data": {
      "text/plain": [
       "(150, 5)"
      ]
     },
     "execution_count": 3,
     "metadata": {},
     "output_type": "execute_result"
    }
   ],
   "source": [
    "iris.shape #this is not a function it is an attribute"
   ]
  },
  {
   "cell_type": "code",
   "execution_count": 4,
   "metadata": {},
   "outputs": [
    {
     "data": {
      "text/html": [
       "<div>\n",
       "<style scoped>\n",
       "    .dataframe tbody tr th:only-of-type {\n",
       "        vertical-align: middle;\n",
       "    }\n",
       "\n",
       "    .dataframe tbody tr th {\n",
       "        vertical-align: top;\n",
       "    }\n",
       "\n",
       "    .dataframe thead th {\n",
       "        text-align: right;\n",
       "    }\n",
       "</style>\n",
       "<table border=\"1\" class=\"dataframe\">\n",
       "  <thead>\n",
       "    <tr style=\"text-align: right;\">\n",
       "      <th></th>\n",
       "      <th>sepal_length</th>\n",
       "      <th>sepal_width</th>\n",
       "      <th>petal_length</th>\n",
       "      <th>petal_width</th>\n",
       "    </tr>\n",
       "  </thead>\n",
       "  <tbody>\n",
       "    <tr>\n",
       "      <th>count</th>\n",
       "      <td>150.000000</td>\n",
       "      <td>150.000000</td>\n",
       "      <td>150.000000</td>\n",
       "      <td>150.000000</td>\n",
       "    </tr>\n",
       "    <tr>\n",
       "      <th>mean</th>\n",
       "      <td>5.843333</td>\n",
       "      <td>3.057333</td>\n",
       "      <td>3.758000</td>\n",
       "      <td>1.199333</td>\n",
       "    </tr>\n",
       "    <tr>\n",
       "      <th>std</th>\n",
       "      <td>0.828066</td>\n",
       "      <td>0.435866</td>\n",
       "      <td>1.765298</td>\n",
       "      <td>0.762238</td>\n",
       "    </tr>\n",
       "    <tr>\n",
       "      <th>min</th>\n",
       "      <td>4.300000</td>\n",
       "      <td>2.000000</td>\n",
       "      <td>1.000000</td>\n",
       "      <td>0.100000</td>\n",
       "    </tr>\n",
       "    <tr>\n",
       "      <th>25%</th>\n",
       "      <td>5.100000</td>\n",
       "      <td>2.800000</td>\n",
       "      <td>1.600000</td>\n",
       "      <td>0.300000</td>\n",
       "    </tr>\n",
       "    <tr>\n",
       "      <th>50%</th>\n",
       "      <td>5.800000</td>\n",
       "      <td>3.000000</td>\n",
       "      <td>4.350000</td>\n",
       "      <td>1.300000</td>\n",
       "    </tr>\n",
       "    <tr>\n",
       "      <th>75%</th>\n",
       "      <td>6.400000</td>\n",
       "      <td>3.300000</td>\n",
       "      <td>5.100000</td>\n",
       "      <td>1.800000</td>\n",
       "    </tr>\n",
       "    <tr>\n",
       "      <th>max</th>\n",
       "      <td>7.900000</td>\n",
       "      <td>4.400000</td>\n",
       "      <td>6.900000</td>\n",
       "      <td>2.500000</td>\n",
       "    </tr>\n",
       "  </tbody>\n",
       "</table>\n",
       "</div>"
      ],
      "text/plain": [
       "       sepal_length  sepal_width  petal_length  petal_width\n",
       "count    150.000000   150.000000    150.000000   150.000000\n",
       "mean       5.843333     3.057333      3.758000     1.199333\n",
       "std        0.828066     0.435866      1.765298     0.762238\n",
       "min        4.300000     2.000000      1.000000     0.100000\n",
       "25%        5.100000     2.800000      1.600000     0.300000\n",
       "50%        5.800000     3.000000      4.350000     1.300000\n",
       "75%        6.400000     3.300000      5.100000     1.800000\n",
       "max        7.900000     4.400000      6.900000     2.500000"
      ]
     },
     "execution_count": 4,
     "metadata": {},
     "output_type": "execute_result"
    }
   ],
   "source": [
    "iris.describe() #gives details about the df"
   ]
  },
  {
   "cell_type": "code",
   "execution_count": 5,
   "metadata": {},
   "outputs": [
    {
     "data": {
      "text/plain": [
       "virginica     50\n",
       "versicolor    50\n",
       "setosa        50\n",
       "Name: species, dtype: int64"
      ]
     },
     "execution_count": 5,
     "metadata": {},
     "output_type": "execute_result"
    }
   ],
   "source": [
    "iris['species'].value_counts() #in iris give me the count of species for the variable "
   ]
  },
  {
   "cell_type": "code",
   "execution_count": 6,
   "metadata": {},
   "outputs": [
    {
     "data": {
      "text/plain": [
       "3"
      ]
     },
     "execution_count": 6,
     "metadata": {},
     "output_type": "execute_result"
    }
   ],
   "source": [
    "iris['species']\n",
    "iris['species'].nunique() #how many unique items for that variable"
   ]
  },
  {
   "cell_type": "markdown",
   "metadata": {},
   "source": [
    "### What is a df?\n",
    "1. data frame- is where you store you whole data\n",
    "2. every column is a variable that describe the observation (the row)\n",
    "3. option1 = kbey is a variable\n",
    "4. option2 = the index is the key. every index left of the data frame describes the data frame\n"
   ]
  },
  {
   "cell_type": "markdown",
   "metadata": {},
   "source": [
    "## Game of Thrones example - slicing, group stats, and plotting"
   ]
  },
  {
   "cell_type": "code",
   "execution_count": 7,
   "metadata": {},
   "outputs": [
    {
     "name": "stdout",
     "output_type": "stream",
     "text": [
      "   name sex  year  rank  count\n",
      "0  John   M  1880   1.0   9655\n",
      "1  Mary   F  1880   1.0   7065\n",
      "2  John   M  1881   1.0   8769\n",
      "3  Mary   F  1881   1.0   6919\n",
      "4  John   M  1882   1.0   9557\n"
     ]
    }
   ],
   "source": [
    "#TO USE datadotworld PACKAGE:\n",
    "#1. create account at data.world, then run the next two lines:\n",
    "#2. in terminal/powershell: pip install datadotworld[pandas]\n",
    "#\n",
    "#   IF THIS DOESN'T WORK BC YOU GET AN ERROR ABOUT \"CCHARDET\", RUN:\n",
    "#    conda install -c conda-forge cchardet\n",
    "#   THEN RERUN: pip install datadotworld[pandas] \n",
    "#\n",
    "#3. in terminal/powershell: dw configure          \n",
    "#3a. copy in API token from data.world (get from settings > advanced)\n",
    "\n",
    "import datadotworld as dw\n",
    "import numpy as np\n",
    "import pandas as pd\n",
    "import seaborn as sns\n",
    "import matplotlib.pyplot as plt\n",
    "\n",
    "baby_names = dw.load_dataset('nkrishnaswami/us-ssa-baby-names-national')\n",
    "baby_names = baby_names.dataframes['names_ranks_counts']\n",
    "\n",
    "print(baby_names.head())"
   ]
  },
  {
   "cell_type": "markdown",
   "metadata": {},
   "source": [
    "### Exploring baby_names DF"
   ]
  },
  {
   "cell_type": "code",
   "execution_count": 8,
   "metadata": {},
   "outputs": [
    {
     "data": {
      "text/html": [
       "<div>\n",
       "<style scoped>\n",
       "    .dataframe tbody tr th:only-of-type {\n",
       "        vertical-align: middle;\n",
       "    }\n",
       "\n",
       "    .dataframe tbody tr th {\n",
       "        vertical-align: top;\n",
       "    }\n",
       "\n",
       "    .dataframe thead th {\n",
       "        text-align: right;\n",
       "    }\n",
       "</style>\n",
       "<table border=\"1\" class=\"dataframe\">\n",
       "  <thead>\n",
       "    <tr style=\"text-align: right;\">\n",
       "      <th></th>\n",
       "      <th>year</th>\n",
       "      <th>rank</th>\n",
       "      <th>count</th>\n",
       "    </tr>\n",
       "  </thead>\n",
       "  <tbody>\n",
       "    <tr>\n",
       "      <th>count</th>\n",
       "      <td>1.956698e+06</td>\n",
       "      <td>1.956698e+06</td>\n",
       "      <td>1.956698e+06</td>\n",
       "    </tr>\n",
       "    <tr>\n",
       "      <th>mean</th>\n",
       "      <td>1.975557e+03</td>\n",
       "      <td>5.177668e+03</td>\n",
       "      <td>1.796945e+02</td>\n",
       "    </tr>\n",
       "    <tr>\n",
       "      <th>std</th>\n",
       "      <td>3.419106e+01</td>\n",
       "      <td>4.188603e+03</td>\n",
       "      <td>1.522858e+03</td>\n",
       "    </tr>\n",
       "    <tr>\n",
       "      <th>min</th>\n",
       "      <td>1.880000e+03</td>\n",
       "      <td>1.000000e+00</td>\n",
       "      <td>5.000000e+00</td>\n",
       "    </tr>\n",
       "    <tr>\n",
       "      <th>25%</th>\n",
       "      <td>1.952000e+03</td>\n",
       "      <td>1.824000e+03</td>\n",
       "      <td>7.000000e+00</td>\n",
       "    </tr>\n",
       "    <tr>\n",
       "      <th>50%</th>\n",
       "      <td>1.985000e+03</td>\n",
       "      <td>3.979000e+03</td>\n",
       "      <td>1.200000e+01</td>\n",
       "    </tr>\n",
       "    <tr>\n",
       "      <th>75%</th>\n",
       "      <td>2.004000e+03</td>\n",
       "      <td>7.741000e+03</td>\n",
       "      <td>3.200000e+01</td>\n",
       "    </tr>\n",
       "    <tr>\n",
       "      <th>max</th>\n",
       "      <td>2.018000e+03</td>\n",
       "      <td>1.762700e+04</td>\n",
       "      <td>9.968600e+04</td>\n",
       "    </tr>\n",
       "  </tbody>\n",
       "</table>\n",
       "</div>"
      ],
      "text/plain": [
       "               year          rank         count\n",
       "count  1.956698e+06  1.956698e+06  1.956698e+06\n",
       "mean   1.975557e+03  5.177668e+03  1.796945e+02\n",
       "std    3.419106e+01  4.188603e+03  1.522858e+03\n",
       "min    1.880000e+03  1.000000e+00  5.000000e+00\n",
       "25%    1.952000e+03  1.824000e+03  7.000000e+00\n",
       "50%    1.985000e+03  3.979000e+03  1.200000e+01\n",
       "75%    2.004000e+03  7.741000e+03  3.200000e+01\n",
       "max    2.018000e+03  1.762700e+04  9.968600e+04"
      ]
     },
     "execution_count": 8,
     "metadata": {},
     "output_type": "execute_result"
    }
   ],
   "source": [
    "baby_names\n",
    "baby_names.head()\n",
    "baby_names.shape\n",
    "# look at number variables\n",
    "baby_names.describe() #does it all make sense? any data issues?\n",
    "baby_names['sex'].nunique()\n",
    "baby_names['sex'].value_counts() #this isn't 50/50...but thats okay, not how many females or males hyst name\n",
    "baby_names['year'].value_counts() #name per year\n",
    "baby_names.describe()"
   ]
  },
  {
   "cell_type": "markdown",
   "metadata": {},
   "source": [
    "### Version 1 \n",
    "1. save a slice of the dataset with the names we want (using .loc)\n",
    "2. sometimes a name is used by boys and girls in the same year, so combine the counts so that we have one observation per name per year\n",
    "3. save the dataset and then call a plot function"
   ]
  },
  {
   "cell_type": "code",
   "execution_count": 9,
   "metadata": {},
   "outputs": [
    {
     "data": {
      "text/plain": [
       "<matplotlib.lines.Line2D at 0x1a1ca5c150>"
      ]
     },
     "execution_count": 9,
     "metadata": {},
     "output_type": "execute_result"
    },
    {
     "data": {
      "image/png": "[encoded data removed]",
      "text/plain": [
       "<Figure size 432x288 with 1 Axes>"
      ]
     },
     "metadata": {
      "needs_background": "light"
     },
     "output_type": "display_data"
    }
   ],
   "source": [
    "# restrict by name and only keep years after 2000\n",
    "somenames = baby_names.loc[( # formating inside this () is just to make it clearer to a reader\n",
    "    ( # condition 1: one of these names, | means \"or\"\n",
    "        (baby_names['name'] == \"Sansa\") | (baby_names['name'] == \"Daenerys\") | \n",
    "        (baby_names['name'] == \"Brienne\") | (baby_names['name'] == \"Cersei\") | (baby_names['name'] == \"Tyrion\") \n",
    "    ) # end condition 1\n",
    "    & # & means \"and\"\n",
    "    ( # condition 2: these years\n",
    "        baby_names['year'] >= 2000) # end condition 2\n",
    "    )]\n",
    "\n",
    "# if a name is used by F and M in a given year, combine the count variable\n",
    "# Q: why is there a \"reset_index\"? \n",
    "# A: groupby automatically turns the groups (here name and year) into the index\n",
    "#    reset_index makes the index simple integers 0, 1, 2 and also\n",
    "#    turns the the grouping variables back into normal columns\n",
    "# A2: instead of reset_index, you can include `as_index=False` inside groupby!\n",
    "#     (I just learned that myself!)\n",
    "somenames_agg = somenames.groupby(['name','year'])['count'].sum().reset_index().sort_values(['name','year'])\n",
    "\n",
    "# plot\n",
    "sns.lineplot(data=somenames_agg, hue='name',x='year',y='count')\n",
    "plt.axvline(2011, 0,160,color='red') # add a line for when the show debuted"
   ]
  },
  {
   "cell_type": "markdown",
   "metadata": {},
   "source": [
    "### Version 2 - query > loc, for readability \n",
    "1. Same as V1, but step 1 uses .query to slice inside of .loc\n",
    "\n",
    "2. save a slice of the dataset with the names we want (using .query)\n",
    "sometimes a name is used by boys and girls in the same year, so combine the counts so that we have one observation per name per year\n",
    "3. save the dataset and then call a plot function"
   ]
  },
  {
   "cell_type": "code",
   "execution_count": 10,
   "metadata": {},
   "outputs": [
    {
     "data": {
      "text/plain": [
       "<matplotlib.lines.Line2D at 0x1a1b8672d0>"
      ]
     },
     "execution_count": 10,
     "metadata": {},
     "output_type": "execute_result"
    },
    {
     "data": {
      "image/png": "[encoded data removed]",
      "text/plain": [
       "<Figure size 432x288 with 1 Axes>"
      ]
     },
     "metadata": {
      "needs_background": "light"
     },
     "output_type": "display_data"
    }
   ],
   "source": [
    "# use query instead to slice, and the rest is the same\n",
    "somenames = baby_names.query('name in [\"Sansa\",\"Daenerys\",\"Brienne\",\"Cersei\",\"Tyrion\"] & \\\n",
    "         year >= 2000') # this is one string with ' as the string start/end symbol. Inside, I can use \n",
    "                        # normal quote marks for strings. Also, I can break it into multiple lines with \\\n",
    "somenames_agg = somenames.groupby(['name','year'])['count'].sum().reset_index().sort_values(['name','year'])\n",
    "sns.lineplot(data=somenames_agg, hue='name',x='year',y='count')\n",
    "plt.axvline(2011, 0,160,color='red') # add a line for when the show debuted"
   ]
  },
  {
   "cell_type": "markdown",
   "metadata": {},
   "source": [
    "### Version 3 - Method chaining! \n",
    "Method chaining: Call the object (baby_names) and then keep calling one method on it after another.\n",
    "\n",
    "1. Slice with .query to GoT-related names\n",
    "2. Combine M and F gender counts if a name is used by both in the same year\n",
    "3. Plot without saving: \"Pipe\" in the plotting function"
   ]
  },
  {
   "cell_type": "code",
   "execution_count": 11,
   "metadata": {},
   "outputs": [
    {
     "data": {
      "text/plain": [
       "<matplotlib.lines.Line2D at 0x1a1e4d4910>"
      ]
     },
     "execution_count": 11,
     "metadata": {},
     "output_type": "execute_result"
    },
    {
     "data": {
      "image/png": "[encoded data removed]",
      "text/plain": [
       "<Figure size 432x288 with 1 Axes>"
      ]
     },
     "metadata": {
      "needs_background": "light"
     },
     "output_type": "display_data"
    }
   ],
   "source": [
    "baby_names.query('name in [\"Sansa\",\"Daenerys\",\"Brienne\",\"Cersei\",\"Tyrion\"] & year >= 2000').groupby(['name','year'])['count'].sum().reset_index().pipe((sns.lineplot, 'data'),hue='name',x='year',y='count')\n",
    "plt.axvline(2011, 0,160,color='red') # add a line for when the show debuted"
   ]
  },
  {
   "cell_type": "markdown",
   "metadata": {},
   "source": [
    "### To make this readable, we write a parentheses over multiple lines\n",
    "\n",
    "(\n",
    "    and python knows to execute the code inside as one line\n",
    ")\n",
    "And as a result, we can write a long series of methods that is comprehensible, and if we want we can even comment on each line:"
   ]
  },
  {
   "cell_type": "code",
   "execution_count": 12,
   "metadata": {},
   "outputs": [
    {
     "data": {
      "text/plain": [
       "Text(0.5, 1.0, 'WOW THAT WAS EASY TO WRITE AND SHARE')"
      ]
     },
     "execution_count": 12,
     "metadata": {},
     "output_type": "execute_result"
    },
    {
     "data": {
      "image/png": "[encoded data removed]",
      "text/plain": [
       "<Figure size 432x288 with 1 Axes>"
      ]
     },
     "metadata": {
      "needs_background": "light"
     },
     "output_type": "display_data"
    }
   ],
   "source": [
    "(baby_names\n",
    "      .query('name in [\"Sansa\",\"Daenerys\",\"Brienne\",\"Cersei\",\"Tyrion\"] & \\\n",
    "         year >= 2000')\n",
    "      .groupby(['name','year'])['count'].sum() # for each name-year, combine M and F counts\n",
    "      .reset_index() # give us the column names back as they were (makes the plot call easy)\n",
    "      .pipe((sns.lineplot, 'data'),hue='name',x='year',y='count')\n",
    ")    \n",
    "plt.axvline(2011, 0,160,color='red') # add a line for when the show debuted\n",
    "plt.title(\"WOW THAT WAS EASY TO WRITE AND SHARE\")"
   ]
  },
  {
   "cell_type": "markdown",
   "metadata": {},
   "source": [
    "### Also: Naming your baby Daenerys after the hero..."
   ]
  },
  {
   "cell_type": "code",
   "execution_count": 13,
   "metadata": {},
   "outputs": [
    {
     "data": {
      "text/plain": [
       "Text(0.5, 1.0, 'PEOPLE NAMED THEIR KID KHALEESI')"
      ]
     },
     "execution_count": 13,
     "metadata": {},
     "output_type": "execute_result"
    },
    {
     "data": {
      "image/png": "[encoded data removed]",
      "text/plain": [
       "<Figure size 432x288 with 1 Axes>"
      ]
     },
     "metadata": {
      "needs_background": "light"
     },
     "output_type": "display_data"
    }
   ],
   "source": [
    "(baby_names\n",
    "      .query('name in [\"Khaleesi\",\"Ramsay\",\"Lyanna\",\"Ellaria\",\"Meera\"] & \\\n",
    "         year >= 2000')\n",
    "      .groupby(['name','year'])['count'].sum() # for each name-year, combine M and F counts\n",
    "      .reset_index() # give use the column names back as they were (makes the plot call easy)\n",
    "      .pipe((sns.lineplot, 'data'),hue='name',x='year',y='count')\n",
    ")    \n",
    "plt.axvline(2011, 0,160,color='red') # add a line for when the show debuted\n",
    "plt.title(\"PEOPLE NAMED THEIR KID KHALEESI\")"
   ]
  },
  {
   "cell_type": "markdown",
   "metadata": {},
   "source": [
    "### BUT IT COULD BE WORSE"
   ]
  },
  {
   "cell_type": "code",
   "execution_count": 14,
   "metadata": {},
   "outputs": [
    {
     "data": {
      "text/plain": [
       "Text(0.5, 1.0, 'Alabama, wow...Krymson, really?')"
      ]
     },
     "execution_count": 14,
     "metadata": {},
     "output_type": "execute_result"
    },
    {
     "data": {
      "image/png": "[encoded data removed]",
      "text/plain": [
       "<Figure size 432x288 with 1 Axes>"
      ]
     },
     "metadata": {
      "needs_background": "light"
     },
     "output_type": "display_data"
    }
   ],
   "source": [
    "(baby_names\n",
    "      .query('name in [\"Krymson\"] & year >= 1950')\n",
    "      .groupby(['name','year'])['count'].sum() # for each name-year, combine M and F counts\n",
    "      .reset_index() # give use the column names back as they were (makes the plot call easy)\n",
    "      .pipe((sns.lineplot, 'data'),hue='name',x='year',y='count')\n",
    ")    \n",
    "plt.title(\"Alabama, wow...Krymson, really?\")"
   ]
  },
  {
   "cell_type": "markdown",
   "metadata": {},
   "source": [
    "# Pandas Practice:"
   ]
  },
  {
   "cell_type": "code",
   "execution_count": 15,
   "metadata": {},
   "outputs": [
    {
     "data": {
      "text/plain": [
       "<matplotlib.axes._subplots.AxesSubplot at 0x1a21323a10>"
      ]
     },
     "execution_count": 15,
     "metadata": {},
     "output_type": "execute_result"
    },
    {
     "data": {
      "image/png": "[encoded data removed]",
      "text/plain": [
       "<Figure size 432x288 with 1 Axes>"
      ]
     },
     "metadata": {
      "needs_background": "light"
     },
     "output_type": "display_data"
    }
   ],
   "source": [
    "#lets count johns over time\n",
    "somenames=baby_names.loc[baby_names['name']== 'John' ] #true or Fale column of babyname=John\n",
    "#Split\n",
    "combined=somenames.groupby(['name','year'])['count'].sum().reset_index() #rest index! #turn your year into variable\n",
    "#add up each name in each year if 2 diff genders to have 1 john each year\n",
    "#group by firm and state it is ub the same time; name. is first index, year is the second index\n",
    "sns.lineplot(data=combined,x='year',y='count')"
   ]
  },
  {
   "cell_type": "code",
   "execution_count": 16,
   "metadata": {},
   "outputs": [
    {
     "data": {
      "text/plain": [
       "<matplotlib.axes._subplots.AxesSubplot at 0x1a215d2ed0>"
      ]
     },
     "execution_count": 16,
     "metadata": {},
     "output_type": "execute_result"
    },
    {
     "data": {
      "image/png": "[encoded data removed]",
      "text/plain": [
       "<Figure size 432x288 with 1 Axes>"
      ]
     },
     "metadata": {
      "needs_background": "light"
     },
     "output_type": "display_data"
    }
   ],
   "source": [
    "#Query 1- queries are string so \"\", not one ''\n",
    "#arya and sansa\n",
    "# | eans \"or \" to pandas\n",
    "names_i_want= (baby_names ['name']=='Sansa')| (baby_names ['name']=='Arya')\n",
    "somenames=baby_names.query('name in [\"Arya\", \"Sansa\"]')#query needs a string with t/f conditions\n",
    "combined=somenames.groupby(['name','year'])['count'].sum().reset_index() \n",
    "\n",
    "sns.lineplot(data=combined,x='year',y='count',hue='name')  #hue for 2 names seperate or else it combines together"
   ]
  },
  {
   "cell_type": "code",
   "execution_count": 17,
   "metadata": {},
   "outputs": [
    {
     "data": {
      "text/plain": [
       "Text(0.5, 1.0, 'WOW THAT WAS EASY TO WRITE AND SHARE')"
      ]
     },
     "execution_count": 17,
     "metadata": {},
     "output_type": "execute_result"
    },
    {
     "data": {
      "image/png": "[encoded data removed]",
      "text/plain": [
       "<Figure size 432x288 with 1 Axes>"
      ]
     },
     "metadata": {
      "needs_background": "light"
     },
     "output_type": "display_data"
    }
   ],
   "source": [
    "# i don't wan't \"somenames\"\n",
    "(baby_names\n",
    "      .query('name in [\"Sansa\",\"Daenerys\",\"Brienne\",\"Cersei\",\"Tyrion\"] & \\\n",
    "         year >= 2000')\n",
    "      .groupby(['name','year'])['count'].sum() # for each name-year, combine M and F counts\n",
    "      .reset_index() # give us the column names back as they were (makes the plot call easy)\n",
    "      .pipe((sns.lineplot, 'data'),hue='name',x='year',y='count')\n",
    ")    \n",
    "plt.axvline(2011, 0,160,color='red') # add a line for when the show debuted\n",
    "plt.title(\"WOW THAT WAS EASY TO WRITE AND SHARE\")"
   ]
  },
  {
   "cell_type": "markdown",
   "metadata": {},
   "source": [
    "# Your turn: Practice "
   ]
  },
  {
   "cell_type": "code",
   "execution_count": 40,
   "metadata": {},
   "outputs": [],
   "source": [
    "import datetime\n",
    "import pandas_datareader as pdr\n",
    "\n",
    "start = datetime.datetime(2010, 1, 1) # you can specify start and end dates this way\n",
    "end = datetime.datetime(2013, 1, 27)\n",
    "macro_df = pdr.data.DataReader(['GDP','CPIAUCSL'], 'fred', start, end)"
   ]
  },
  {
   "cell_type": "markdown",
   "metadata": {},
   "source": [
    "## Example 1 "
   ]
  },
  {
   "cell_type": "code",
   "execution_count": 43,
   "metadata": {},
   "outputs": [
    {
     "data": {
      "text/plain": [
       "GDP         13\n",
       "CPIAUCSL    36\n",
       "dtype: int64"
      ]
     },
     "execution_count": 43,
     "metadata": {},
     "output_type": "execute_result"
    }
   ],
   "source": [
    "#Q0: Do each of the four new golden rules for initial data exploration, from the lecture.\n",
    "start = datetime.datetime(2010, 1, 1) # you can specify start and end dates this way\n",
    "end = datetime.datetime(2013, 1, 27)\n",
    "macro_df = pdr.data.DataReader(['GDP','CPIAUCSL'], 'fred', start, end)\n",
    "\n",
    "macro_df.describe()\n",
    "macro_df.head()\n",
    "macro_df.tail()\n",
    "macro_df.nunique()"
   ]
  },
  {
   "cell_type": "code",
   "execution_count": null,
   "metadata": {},
   "outputs": [],
   "source": [
    "#Q1: What is the second series above?\n"
   ]
  },
  {
   "cell_type": "code",
   "execution_count": 46,
   "metadata": {},
   "outputs": [
    {
     "data": {
      "text/plain": [
       "GDP         13\n",
       "CPIAUCSL    37\n",
       "dtype: int64"
      ]
     },
     "execution_count": 46,
     "metadata": {},
     "output_type": "execute_result"
    }
   ],
   "source": [
    "#Q2: What is the frequency of the series?\n",
    "start = datetime.datetime(2010, 1, 1) # you can specify start and end dates this way\n",
    "end = datetime.datetime(2013, 1, 27)\n",
    "macro_df = pdr.data.DataReader(['GDP','CPIAUCSL'], 'fred', start, end)\n",
    "macro_df.count()"
   ]
  },
  {
   "cell_type": "code",
   "execution_count": 38,
   "metadata": {},
   "outputs": [
    {
     "data": {
      "text/plain": [
       "count    58.000000\n",
       "mean      0.030719\n",
       "std       0.020534\n",
       "min      -0.025368\n",
       "25%       0.019769\n",
       "50%       0.031455\n",
       "75%       0.044242\n",
       "max       0.072366\n",
       "Name: GDPCA, dtype: float64"
      ]
     },
     "execution_count": 38,
     "metadata": {},
     "output_type": "execute_result"
    }
   ],
   "source": [
    "#Q3: What is the average ANNUAL GDP, based on the data?\n",
    "start = datetime.datetime(1960, 1, 1) # you can specify start and end dates this way\n",
    "end = datetime.datetime(2018, 1, 27)\n",
    "macro_df=pdr.data.DataReader(['GDPCA'], 'fred', start, end)\n",
    "\n",
    "macro_df['GDPCA'].pct_change().describe()"
   ]
  },
  {
   "cell_type": "markdown",
   "metadata": {},
   "source": [
    "## Example 2 "
   ]
  },
  {
   "cell_type": "code",
   "execution_count": 34,
   "metadata": {},
   "outputs": [
    {
     "data": {
      "text/plain": [
       "GDPCA    0.030719\n",
       "dtype: float64"
      ]
     },
     "execution_count": 34,
     "metadata": {},
     "output_type": "execute_result"
    }
   ],
   "source": [
    "#Q4: Download the annual real gdp from 1960 to 2018 from FRED and compute the average annual percent change\n",
    "start = datetime.datetime(1960, 1, 1) # you can specify start and end dates this way\n",
    "end = datetime.datetime(2018, 12, 31)\n",
    "macro_df=pdr.data.DataReader(['GDPCA'], 'fred', start, end)\n",
    "#retrieves dataset from fred\n",
    "macro_df.pct_change().mean()\n",
    "#converts data set to percent change then find the mean \n",
    "#average annual percent change=0.030719"
   ]
  },
  {
   "cell_type": "code",
   "execution_count": 35,
   "metadata": {},
   "outputs": [
    {
     "data": {
      "text/html": [
       "<div>\n",
       "<style scoped>\n",
       "    .dataframe tbody tr th:only-of-type {\n",
       "        vertical-align: middle;\n",
       "    }\n",
       "\n",
       "    .dataframe tbody tr th {\n",
       "        vertical-align: top;\n",
       "    }\n",
       "\n",
       "    .dataframe thead th {\n",
       "        text-align: right;\n",
       "    }\n",
       "</style>\n",
       "<table border=\"1\" class=\"dataframe\">\n",
       "  <thead>\n",
       "    <tr style=\"text-align: right;\">\n",
       "      <th></th>\n",
       "      <th>GDPCA</th>\n",
       "    </tr>\n",
       "    <tr>\n",
       "      <th>DATE</th>\n",
       "      <th></th>\n",
       "    </tr>\n",
       "  </thead>\n",
       "  <tbody>\n",
       "    <tr>\n",
       "      <th>1960</th>\n",
       "      <td>0.047426</td>\n",
       "    </tr>\n",
       "    <tr>\n",
       "      <th>1970</th>\n",
       "      <td>0.032352</td>\n",
       "    </tr>\n",
       "    <tr>\n",
       "      <th>1980</th>\n",
       "      <td>0.031240</td>\n",
       "    </tr>\n",
       "    <tr>\n",
       "      <th>1990</th>\n",
       "      <td>0.032220</td>\n",
       "    </tr>\n",
       "    <tr>\n",
       "      <th>2000</th>\n",
       "      <td>0.019099</td>\n",
       "    </tr>\n",
       "    <tr>\n",
       "      <th>2010</th>\n",
       "      <td>0.022861</td>\n",
       "    </tr>\n",
       "  </tbody>\n",
       "</table>\n",
       "</div>"
      ],
      "text/plain": [
       "         GDPCA\n",
       "DATE          \n",
       "1960  0.047426\n",
       "1970  0.032352\n",
       "1980  0.031240\n",
       "1990  0.032220\n",
       "2000  0.019099\n",
       "2010  0.022861"
      ]
     },
     "execution_count": 35,
     "metadata": {},
     "output_type": "execute_result"
    }
   ],
   "source": [
    "#Q5: Compute the average gdp percent change within each decade\n",
    "start = datetime.datetime(1960, 1, 1) # you can specify start and end dates this way\n",
    "end = datetime.datetime(2018, 12, 31)\n",
    "macro_df=pdr.data.DataReader(['GDPCA'], 'fred', start, end)\n",
    "#retrieves data from fred\n",
    "macro_df.pct_change().groupby((macro_df.index.year//10)*10).mean()\n",
    "#converts data set into percentage change, then group by decade, then computes mean for each decade"
   ]
  },
  {
   "cell_type": "markdown",
   "metadata": {},
   "source": [
    "## Example 3 \n",
    "First, I'll load January data on unemployment, the Case-Shiller housing index, and median household income in three states (CA/MI/PA)."
   ]
  },
  {
   "cell_type": "code",
   "execution_count": 28,
   "metadata": {},
   "outputs": [
    {
     "name": "stdout",
     "output_type": "stream",
     "text": [
      "\n",
      "\n",
      " DATA BEFORE FORMATTING: \n",
      "\n",
      "\n",
      "      CAUR  MIUR  PAUR      LXXRSA      DEXRSA      WDXRSA  MEHOINUSCAA672N  \\\n",
      "DATE                                                                          \n",
      "1990   5.2   7.8   5.1  100.471193         NaN   93.362855          62206.0   \n",
      "1991   7.1   8.8   6.6   95.569015   58.420806   89.706871          60697.0   \n",
      "1992   8.5   9.4   7.5   92.786926   59.748947   88.573807          61404.0   \n",
      "1993   9.7   7.6   7.3   85.246295   61.564205   89.065118          58470.0   \n",
      "1994   9.2   7.1   6.6   77.395052   64.526663   88.988467          59388.0   \n",
      "1995   7.7   5.2   5.8   76.376389   68.973289   89.670303          60745.0   \n",
      "1996   7.7   4.9   5.9   73.919989   73.582339   88.655369          62052.0   \n",
      "1997   6.8   4.7   5.3   74.536884   79.347642   88.775224          62120.0   \n",
      "1998   6.0   4.0   4.7   81.035037   85.183613   90.108149          63204.0   \n",
      "1999   5.6   3.9   4.5   92.140086   92.433567   94.188054          65961.0   \n",
      "2000   5.0   3.3   4.1  101.031209  100.145625  100.871833          68456.0   \n",
      "2001   4.8   4.4   4.3  112.031476  107.327208  113.794412          67195.0   \n",
      "2002   6.5   6.4   5.5  122.706507  111.468549  127.245703          66397.0   \n",
      "2003   6.8   6.6   5.8  145.752401  115.704198  146.676856          67473.0   \n",
      "2004   6.5   6.8   5.5  178.773753  119.772721  169.535302          65594.0   \n",
      "2005   5.8   7.2   5.2  221.471372  123.264825  210.799924          66710.0   \n",
      "2006   5.0   6.8   4.7  268.208865  126.872658  250.272485          69065.0   \n",
      "2007   4.9   6.9   4.3  270.804957  118.163826  241.411021          67664.0   \n",
      "2008   6.0   7.1   4.7  226.112015  100.378481  215.656292          66658.0   \n",
      "2009   9.7  10.9   7.0  167.831286   77.690725  174.183583          65858.0   \n",
      "\n",
      "      MEHOINUSMIA672N  MEHOINUSPAA672N  \n",
      "DATE                                    \n",
      "1990          55941.0          54199.0  \n",
      "1991          57908.0          54752.0  \n",
      "1992          56767.0          52571.0  \n",
      "1993          56048.0          53188.0  \n",
      "1994          59309.0          53900.0  \n",
      "1995          59788.0          56667.0  \n",
      "1996          62713.0          55796.0  \n",
      "1997          60630.0          58713.0  \n",
      "1998          64574.0          60241.0  \n",
      "1999          69680.0          57085.0  \n",
      "2000          66549.0          61671.0  \n",
      "2001          64046.0          61845.0  \n",
      "2002          59788.0          59484.0  \n",
      "2003          61618.0          58759.0  \n",
      "2004          56311.0          58776.0  \n",
      "2005          59205.0          59678.0  \n",
      "2006          60735.0          60523.0  \n",
      "2007          59938.0          58805.0  \n",
      "2008          58209.0          60096.0  \n",
      "2009          53961.0          56517.0  \n",
      "\n",
      "\n",
      " DATA AFTER FORMATTING: \n",
      "\n",
      "\n",
      "     Unemployment               HouseIdx                         MedIncome  \\\n",
      "               CA    MI   PA          CA          MI          PA        CA   \n",
      "DATE                                                                         \n",
      "1990          5.2   7.8  5.1  100.471193         NaN   93.362855   62206.0   \n",
      "1991          7.1   8.8  6.6   95.569015   58.420806   89.706871   60697.0   \n",
      "1992          8.5   9.4  7.5   92.786926   59.748947   88.573807   61404.0   \n",
      "1993          9.7   7.6  7.3   85.246295   61.564205   89.065118   58470.0   \n",
      "1994          9.2   7.1  6.6   77.395052   64.526663   88.988467   59388.0   \n",
      "1995          7.7   5.2  5.8   76.376389   68.973289   89.670303   60745.0   \n",
      "1996          7.7   4.9  5.9   73.919989   73.582339   88.655369   62052.0   \n",
      "1997          6.8   4.7  5.3   74.536884   79.347642   88.775224   62120.0   \n",
      "1998          6.0   4.0  4.7   81.035037   85.183613   90.108149   63204.0   \n",
      "1999          5.6   3.9  4.5   92.140086   92.433567   94.188054   65961.0   \n",
      "2000          5.0   3.3  4.1  101.031209  100.145625  100.871833   68456.0   \n",
      "2001          4.8   4.4  4.3  112.031476  107.327208  113.794412   67195.0   \n",
      "2002          6.5   6.4  5.5  122.706507  111.468549  127.245703   66397.0   \n",
      "2003          6.8   6.6  5.8  145.752401  115.704198  146.676856   67473.0   \n",
      "2004          6.5   6.8  5.5  178.773753  119.772721  169.535302   65594.0   \n",
      "2005          5.8   7.2  5.2  221.471372  123.264825  210.799924   66710.0   \n",
      "2006          5.0   6.8  4.7  268.208865  126.872658  250.272485   69065.0   \n",
      "2007          4.9   6.9  4.3  270.804957  118.163826  241.411021   67664.0   \n",
      "2008          6.0   7.1  4.7  226.112015  100.378481  215.656292   66658.0   \n",
      "2009          9.7  10.9  7.0  167.831286   77.690725  174.183583   65858.0   \n",
      "\n",
      "                        \n",
      "           MI       PA  \n",
      "DATE                    \n",
      "1990  55941.0  54199.0  \n",
      "1991  57908.0  54752.0  \n",
      "1992  56767.0  52571.0  \n",
      "1993  56048.0  53188.0  \n",
      "1994  59309.0  53900.0  \n",
      "1995  59788.0  56667.0  \n",
      "1996  62713.0  55796.0  \n",
      "1997  60630.0  58713.0  \n",
      "1998  64574.0  60241.0  \n",
      "1999  69680.0  57085.0  \n",
      "2000  66549.0  61671.0  \n",
      "2001  64046.0  61845.0  \n",
      "2002  59788.0  59484.0  \n",
      "2003  61618.0  58759.0  \n",
      "2004  56311.0  58776.0  \n",
      "2005  59205.0  59678.0  \n",
      "2006  60735.0  60523.0  \n",
      "2007  59938.0  58805.0  \n",
      "2008  58209.0  60096.0  \n",
      "2009  53961.0  56517.0  \n"
     ]
    }
   ],
   "source": [
    "# LOAD DATA AND CONVERT TO ANNUAL\n",
    "\n",
    "start = 1990 # pandas datareader can infer these are years\n",
    "end = 2018\n",
    "macro_data = pdr.data.DataReader(['CAUR','MIUR','PAUR', # unemployment \n",
    "                                  'LXXRSA','DEXRSA','WDXRSA', # case shiller index in LA, Detroit, DC (no PA  available!)\n",
    "                                  'MEHOINUSCAA672N','MEHOINUSMIA672N','MEHOINUSPAA672N'], #  \n",
    "                                 'fred', start, end)\n",
    "macro_data = macro_data.resample('Y').first() # get's the first observation for each variable in a given year\n",
    "\n",
    "# CLEAN UP THE FORMATING SOMEWHAT\n",
    "\n",
    "macro_data.index = macro_data.index.year\n",
    "print(\"\\n\\n DATA BEFORE FORMATTING: \\n\\n\")\n",
    "print(macro_data[:20]) # see how the data looks now? ugly variable names, but its an annual dataset at least\n",
    "macro_data.columns=pd.MultiIndex.from_tuples([\n",
    "    ('Unemployment','CA'),('Unemployment','MI'),('Unemployment','PA'),\n",
    "    ('HouseIdx','CA'),('HouseIdx','MI'),('HouseIdx','PA'),\n",
    "    ('MedIncome','CA'),('MedIncome','MI'),('MedIncome','PA')\n",
    "    ])\n",
    "print(\"\\n\\n DATA AFTER FORMATTING: \\n\\n\")\n",
    "print(macro_data[:20]) # this is a dataset that is \"wide\", and now \n",
    "                       # the column variable names have 2 levels - var name, \n",
    "                       # and unit/state that variable applies to"
   ]
  },
  {
   "cell_type": "code",
   "execution_count": null,
   "metadata": {},
   "outputs": [],
   "source": [
    "#Q6: for each decade and state, report the average annual CHANGE (level, not percent) in unemployment"
   ]
  },
  {
   "cell_type": "code",
   "execution_count": 29,
   "metadata": {},
   "outputs": [],
   "source": [
    "#Q7: for each decade and state, report the average annual PERCENT CHANGE in house prices and household income"
   ]
  }
 ],
 "metadata": {
  "kernelspec": {
   "display_name": "Python 3",
   "language": "python",
   "name": "python3"
  },
  "language_info": {
   "codemirror_mode": {
    "name": "ipython",
    "version": 3
   },
   "file_extension": ".py",
   "mimetype": "text/x-python",
   "name": "python",
   "nbconvert_exporter": "python",
   "pygments_lexer": "ipython3",
   "version": "3.7.4"
  }
 },
 "nbformat": 4,
 "nbformat_minor": 2
}
