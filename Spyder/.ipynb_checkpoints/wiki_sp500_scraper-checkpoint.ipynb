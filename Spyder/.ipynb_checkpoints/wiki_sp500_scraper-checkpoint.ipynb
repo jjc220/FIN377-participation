{
 "cells": [
  {
   "cell_type": "code",
   "execution_count": null,
   "metadata": {},
   "outputs": [],
   "source": [
    "import pandas as pd\n",
    "from requests_html import HTMLSession\n",
    "\n",
    "###Section 1: get urls to crawl\n",
    "\n",
    "#1. aquire the data/urls to crawl\n",
    "#2. save that data/urls\n",
    "\n",
    "#else\n",
    "    #open that file\n",
    "import pandas as pd\n",
    "from requests_html import HTMLSession\n",
    "\n",
    "if not os.path.exists('inputs/'):\n",
    "    os.makedirs('inputs/')\n",
    "    \n",
    "if not os.path.exists('inputs/sp500_wiki_urls.csv'):\n",
    "\n",
    "    #open page\n",
    "    url='https://en.wikipedia.org/wiki/List_of_S%26P_500_companies'\n",
    "    session=HTMLSession()\n",
    "    r=session.get(url)\n",
    "\n",
    "\n",
    "#grab the URLAs\n",
    "    table= r.html.find('#constituents') [0]\n",
    "    table_rows=table.find('tr')\n",
    "    colinks=[]\n",
    "    \n",
    "    for row in table_rows[1:]:\n",
    "        colinks.append(list(row.find('td')[1].absolute_links)[0])\n",
    "    \n",
    "    #save it\n",
    "    \n",
    "    pd.DataFrame(colinks).to_csv('inputs/sp500_wiki_urls.csv', index=False, header=False)\n",
    "    \n",
    "    \n",
    "    \n",
    "else:\n",
    "    colinks=pd.read_csv('inputs/sp500_wiki_urls.csv',names=['firms'].to_list()\n",
    "                        "
   ]
  },
  {
   "cell_type": "code",
   "execution_count": null,
   "metadata": {},
   "outputs": [],
   "source": [
    "for url in colinks\n",
    "\n",
    "'wiki_html/'+ colinks[4].split('/')[+1]+ '.txt'"
   ]
  },
  {
   "cell_type": "markdown",
   "metadata": {},
   "source": [
    "#### Section3 -\"measure risk\"\n",
    "repository settling, ignored files, an say what ti ignore \n",
    "loop over 10Ks, and \"search\" them"
   ]
  },
  {
   "cell_type": "code",
   "execution_count": null,
   "metadata": {},
   "outputs": [],
   "source": [
    "#### Sectiion4- data analysis "
   ]
  },
  {
   "cell_type": "code",
   "execution_count": 1,
   "metadata": {},
   "outputs": [
    {
     "ename": "NameError",
     "evalue": "name 'pd' is not defined",
     "output_type": "error",
     "traceback": [
      "\u001b[0;31m---------------------------------------------------------------------------\u001b[0m",
      "\u001b[0;31mNameError\u001b[0m                                 Traceback (most recent call last)",
      "\u001b[0;32m<ipython-input-1-49f949842019>\u001b[0m in \u001b[0;36m<module>\u001b[0;34m\u001b[0m\n\u001b[0;32m----> 1\u001b[0;31m \u001b[0mfile_2007\u001b[0m\u001b[0;34m=\u001b[0m\u001b[0mpd\u001b[0m\u001b[0;34m.\u001b[0m\u001b[0mread_stata\u001b[0m\u001b[0;34m(\u001b[0m\u001b[0;34m'input/2007_inv_and_tech (1).dta'\u001b[0m\u001b[0;34m)\u001b[0m\u001b[0;34m\u001b[0m\u001b[0;34m\u001b[0m\u001b[0m\n\u001b[0m",
      "\u001b[0;31mNameError\u001b[0m: name 'pd' is not defined"
     ]
    }
   ],
   "source": [
    "file_2007=pd.read_stata('input/2007_inv_and_tech (1).dta')"
   ]
  },
  {
   "cell_type": "code",
   "execution_count": null,
   "metadata": {},
   "outputs": [],
   "source": []
  }
 ],
 "metadata": {
  "kernelspec": {
   "display_name": "Python 3",
   "language": "python",
   "name": "python3"
  },
  "language_info": {
   "codemirror_mode": {
    "name": "ipython",
    "version": 3
   },
   "file_extension": ".py",
   "mimetype": "text/x-python",
   "name": "python",
   "nbconvert_exporter": "python",
   "pygments_lexer": "ipython3",
   "version": "3.7.4"
  }
 },
 "nbformat": 4,
 "nbformat_minor": 2
}
