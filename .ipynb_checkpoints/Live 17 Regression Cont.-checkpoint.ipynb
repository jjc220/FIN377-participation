{
 "cells": [
  {
   "cell_type": "code",
   "execution_count": 26,
   "metadata": {},
   "outputs": [],
   "source": [
    "# load some data to practice regressions\n",
    "import seaborn as sns\n",
    "import numpy as np\n",
    "diamonds = sns.load_dataset('diamonds')\n",
    "\n",
    "# this alteration is not strictly necessary to practice a regression\n",
    "# but we use this in livecoding\n",
    "diamonds2 = (diamonds.query('carat < 2.5')               # censor/remove outliers\n",
    "            .assign(lprice = np.log(diamonds['price']))  # log transform price\n",
    "            .assign(lcarat = np.log(diamonds['carat']))  # log transform carats\n",
    "            .assign(ideal = diamonds['cut'] == 'Ideal') \n",
    "             \n",
    "             # some regression packages want you to explicitly provide \n",
    "             # a variable for the constant\n",
    "            .assign(const = 1)                           \n",
    "            )  "
   ]
  },
  {
   "cell_type": "markdown",
   "metadata": {},
   "source": [
    "## method 1: statsmodels.api"
   ]
  },
  {
   "cell_type": "code",
   "execution_count": 27,
   "metadata": {},
   "outputs": [
    {
     "name": "stdout",
     "output_type": "stream",
     "text": [
      "                            OLS Regression Results                            \n",
      "==============================================================================\n",
      "Dep. Variable:                 lprice   R-squared:                       0.933\n",
      "Model:                            OLS   Adj. R-squared:                  0.933\n",
      "Method:                 Least Squares   F-statistic:                 7.542e+05\n",
      "Date:                Thu, 26 Mar 2020   Prob (F-statistic):               0.00\n",
      "Time:                        19:10:34   Log-Likelihood:                -4073.2\n",
      "No. Observations:               53797   AIC:                             8150.\n",
      "Df Residuals:                   53795   BIC:                             8168.\n",
      "Df Model:                           1                                         \n",
      "Covariance Type:            nonrobust                                         \n",
      "==============================================================================\n",
      "                 coef    std err          t      P>|t|      [0.025      0.975]\n",
      "------------------------------------------------------------------------------\n",
      "const          8.4525      0.001   6193.432      0.000       8.450       8.455\n",
      "lcarat         1.6819      0.002    868.465      0.000       1.678       1.686\n",
      "==============================================================================\n",
      "Omnibus:                      775.052   Durbin-Watson:                   1.211\n",
      "Prob(Omnibus):                  0.000   Jarque-Bera (JB):             1334.265\n",
      "Skew:                           0.106   Prob(JB):                    1.85e-290\n",
      "Kurtosis:                       3.742   Cond. No.                         2.10\n",
      "==============================================================================\n",
      "\n",
      "Warnings:\n",
      "[1] Standard Errors assume that the covariance matrix of the errors is correctly specified.\n"
     ]
    }
   ],
   "source": [
    "import statsmodels.api as sm  \n",
    "\n",
    "y = diamonds2['lprice']\n",
    "X = diamonds2[['const','lcarat']]\n",
    "\n",
    "model1 = sm.OLS(y,X)                # pick model type and specify model features\n",
    "results1 = model1.fit()             # estimate / fit\n",
    "print(results1.summary())           # view results \n",
    "y_predicted1 = results1.predict()   # get the predicted results\n",
    "residuals1 = results1.resid         # get the residuals\n",
    "#residuals1 = y - y_predicted1      # another way to get the residuals"
   ]
  },
  {
   "cell_type": "markdown",
   "metadata": {},
   "source": [
    "## there has to be a better way. Example:2"
   ]
  },
  {
   "cell_type": "code",
   "execution_count": 28,
   "metadata": {},
   "outputs": [
    {
     "name": "stdout",
     "output_type": "stream",
     "text": [
      "                            OLS Regression Results                            \n",
      "==============================================================================\n",
      "Dep. Variable:                 lprice   R-squared:                       0.933\n",
      "Model:                            OLS   Adj. R-squared:                  0.933\n",
      "Method:                 Least Squares   F-statistic:                 7.542e+05\n",
      "Date:                Thu, 26 Mar 2020   Prob (F-statistic):               0.00\n",
      "Time:                        19:10:34   Log-Likelihood:                -4073.2\n",
      "No. Observations:               53797   AIC:                             8150.\n",
      "Df Residuals:                   53795   BIC:                             8168.\n",
      "Df Model:                           1                                         \n",
      "Covariance Type:            nonrobust                                         \n",
      "==============================================================================\n",
      "                 coef    std err          t      P>|t|      [0.025      0.975]\n",
      "------------------------------------------------------------------------------\n",
      "Intercept      8.4525      0.001   6193.432      0.000       8.450       8.455\n",
      "lcarat         1.6819      0.002    868.465      0.000       1.678       1.686\n",
      "==============================================================================\n",
      "Omnibus:                      775.052   Durbin-Watson:                   1.211\n",
      "Prob(Omnibus):                  0.000   Jarque-Bera (JB):             1334.265\n",
      "Skew:                           0.106   Prob(JB):                    1.85e-290\n",
      "Kurtosis:                       3.742   Cond. No.                         2.10\n",
      "==============================================================================\n",
      "\n",
      "Warnings:\n",
      "[1] Standard Errors assume that the covariance matrix of the errors is correctly specified.\n"
     ]
    }
   ],
   "source": [
    "from statsmodels.formula.api import ols as sm_ols\n",
    "model2   = sm_ols('lprice ~ lcarat',  # specify model (you don't need to include the constant!)\n",
    "                  data=diamonds2)\n",
    "results2 = model2.fit()               # estimate / fit\n",
    "print(results2.summary())             # view results ... identical to before\n",
    "\n",
    "# the prediction and residual and plotting are the exact same"
   ]
  },
  {
   "cell_type": "markdown",
   "metadata": {},
   "source": [
    "## visualize regressions"
   ]
  },
  {
   "cell_type": "code",
   "execution_count": 29,
   "metadata": {},
   "outputs": [
    {
     "data": {
      "text/plain": [
       "<matplotlib.axes._subplots.AxesSubplot at 0x1c26d4de90>"
      ]
     },
     "execution_count": 29,
     "metadata": {},
     "output_type": "execute_result"
    },
    {
     "data": {
      "image/png": "[encoded data removed]",
      "text/plain": [
       "<Figure size 432x288 with 1 Axes>"
      ]
     },
     "metadata": {
      "needs_background": "light"
     },
     "output_type": "display_data"
    }
   ],
   "source": [
    "#sns.regplot\n",
    "#sns.lmplot\n",
    "\n",
    "import matplotlib.pyplot as plt\n",
    "\n",
    "# let's plot our data with the OLS predicted fit\n",
    "sns.scatterplot(x='lcarat',y='lprice',data=diamonds2.sample(1000)) # sampled just to avoid overplotting\n",
    "sns.lineplot(x=diamonds2['lcarat'],y=y_predicted1,color='red')"
   ]
  },
  {
   "cell_type": "code",
   "execution_count": 30,
   "metadata": {},
   "outputs": [
    {
     "data": {
      "text/plain": [
       "Text(0.5, 1.0, 'Which is the same fit sns will give')"
      ]
     },
     "execution_count": 30,
     "metadata": {},
     "output_type": "execute_result"
    },
    {
     "data": {
      "image/png": "[encoded data removed]",
      "text/plain": [
       "<Figure size 432x288 with 1 Axes>"
      ]
     },
     "metadata": {
      "needs_background": "light"
     },
     "output_type": "display_data"
    }
   ],
   "source": [
    "# compare this to the built-in sns produces\n",
    "plt.show()\n",
    "sns.regplot(x='lcarat',y='lprice',data=diamonds2.sample(1000),\n",
    "            line_kws={'color':'red'}).set_title(\"Which is the same fit sns will give\")"
   ]
  },
  {
   "cell_type": "code",
   "execution_count": 31,
   "metadata": {},
   "outputs": [],
   "source": [
    "diamonds2['lprice_predict_error']=results1.resid  # the residuals, the prediction errors"
   ]
  },
  {
   "cell_type": "code",
   "execution_count": 32,
   "metadata": {},
   "outputs": [
    {
     "data": {
      "text/plain": [
       "<matplotlib.axes._subplots.AxesSubplot at 0x1c256021d0>"
      ]
     },
     "execution_count": 32,
     "metadata": {},
     "output_type": "execute_result"
    },
    {
     "data": {
      "image/png": "[encoded data removed]",
      "text/plain": [
       "<Figure size 432x288 with 1 Axes>"
      ]
     },
     "metadata": {
      "needs_background": "light"
     },
     "output_type": "display_data"
    }
   ],
   "source": [
    "sns.scatterplot(x='lcarat',y='lprice_predict_error',data=diamonds2.sample(1000))"
   ]
  },
  {
   "cell_type": "code",
   "execution_count": 33,
   "metadata": {},
   "outputs": [],
   "source": [
    "diamonds2['lprice_predict']=results1.predict()\n",
    "diamonds2['price_predict']=np.exp(diamonds2['lprice_predict']) #residual"
   ]
  },
  {
   "cell_type": "code",
   "execution_count": 34,
   "metadata": {},
   "outputs": [
    {
     "data": {
      "text/html": [
       "<div>\n",
       "<style scoped>\n",
       "    .dataframe tbody tr th:only-of-type {\n",
       "        vertical-align: middle;\n",
       "    }\n",
       "\n",
       "    .dataframe tbody tr th {\n",
       "        vertical-align: top;\n",
       "    }\n",
       "\n",
       "    .dataframe thead th {\n",
       "        text-align: right;\n",
       "    }\n",
       "</style>\n",
       "<table border=\"1\" class=\"dataframe\">\n",
       "  <thead>\n",
       "    <tr style=\"text-align: right;\">\n",
       "      <th></th>\n",
       "      <th>lprice</th>\n",
       "      <th>lcarat</th>\n",
       "      <th>const</th>\n",
       "      <th>lprice_predict_error</th>\n",
       "      <th>lprice_predict</th>\n",
       "      <th>price_predict</th>\n",
       "    </tr>\n",
       "  </thead>\n",
       "  <tbody>\n",
       "    <tr>\n",
       "      <th>count</th>\n",
       "      <td>53797.000000</td>\n",
       "      <td>53797.000000</td>\n",
       "      <td>53797.0</td>\n",
       "      <td>5.379700e+04</td>\n",
       "      <td>53797.000000</td>\n",
       "      <td>53797.000000</td>\n",
       "    </tr>\n",
       "    <tr>\n",
       "      <th>mean</th>\n",
       "      <td>7.781923</td>\n",
       "      <td>-0.398700</td>\n",
       "      <td>1.0</td>\n",
       "      <td>-6.316737e-15</td>\n",
       "      <td>7.781923</td>\n",
       "      <td>3771.138812</td>\n",
       "    </tr>\n",
       "    <tr>\n",
       "      <th>std</th>\n",
       "      <td>1.011557</td>\n",
       "      <td>0.581060</td>\n",
       "      <td>0.0</td>\n",
       "      <td>2.610050e-01</td>\n",
       "      <td>0.977305</td>\n",
       "      <td>3700.038164</td>\n",
       "    </tr>\n",
       "    <tr>\n",
       "      <th>min</th>\n",
       "      <td>5.786897</td>\n",
       "      <td>-1.609438</td>\n",
       "      <td>1.0</td>\n",
       "      <td>-1.361775e+00</td>\n",
       "      <td>5.745541</td>\n",
       "      <td>312.792742</td>\n",
       "    </tr>\n",
       "    <tr>\n",
       "      <th>25%</th>\n",
       "      <td>6.854355</td>\n",
       "      <td>-0.916291</td>\n",
       "      <td>1.0</td>\n",
       "      <td>-1.700728e-01</td>\n",
       "      <td>6.911370</td>\n",
       "      <td>1003.621032</td>\n",
       "    </tr>\n",
       "    <tr>\n",
       "      <th>50%</th>\n",
       "      <td>7.781556</td>\n",
       "      <td>-0.356675</td>\n",
       "      <td>1.0</td>\n",
       "      <td>-6.028933e-03</td>\n",
       "      <td>7.852608</td>\n",
       "      <td>2572.433260</td>\n",
       "    </tr>\n",
       "    <tr>\n",
       "      <th>75%</th>\n",
       "      <td>8.573952</td>\n",
       "      <td>0.039221</td>\n",
       "      <td>1.0</td>\n",
       "      <td>1.659037e-01</td>\n",
       "      <td>8.518479</td>\n",
       "      <td>5006.430921</td>\n",
       "    </tr>\n",
       "    <tr>\n",
       "      <th>max</th>\n",
       "      <td>9.842835</td>\n",
       "      <td>0.912283</td>\n",
       "      <td>1.0</td>\n",
       "      <td>1.341449e+00</td>\n",
       "      <td>9.986913</td>\n",
       "      <td>21740.076097</td>\n",
       "    </tr>\n",
       "  </tbody>\n",
       "</table>\n",
       "</div>"
      ],
      "text/plain": [
       "             lprice        lcarat    const  lprice_predict_error  \\\n",
       "count  53797.000000  53797.000000  53797.0          5.379700e+04   \n",
       "mean       7.781923     -0.398700      1.0         -6.316737e-15   \n",
       "std        1.011557      0.581060      0.0          2.610050e-01   \n",
       "min        5.786897     -1.609438      1.0         -1.361775e+00   \n",
       "25%        6.854355     -0.916291      1.0         -1.700728e-01   \n",
       "50%        7.781556     -0.356675      1.0         -6.028933e-03   \n",
       "75%        8.573952      0.039221      1.0          1.659037e-01   \n",
       "max        9.842835      0.912283      1.0          1.341449e+00   \n",
       "\n",
       "       lprice_predict  price_predict  \n",
       "count    53797.000000   53797.000000  \n",
       "mean         7.781923    3771.138812  \n",
       "std          0.977305    3700.038164  \n",
       "min          5.745541     312.792742  \n",
       "25%          6.911370    1003.621032  \n",
       "50%          7.852608    2572.433260  \n",
       "75%          8.518479    5006.430921  \n",
       "max          9.986913   21740.076097  "
      ]
     },
     "execution_count": 34,
     "metadata": {},
     "output_type": "execute_result"
    }
   ],
   "source": [
    "diamonds2.iloc[:,-7:].describe() #regression errors are always avg=0 (If you include constant)"
   ]
  },
  {
   "cell_type": "code",
   "execution_count": 35,
   "metadata": {},
   "outputs": [
    {
     "data": {
      "text/plain": [
       "<matplotlib.axes._subplots.AxesSubplot at 0x1c2767d750>"
      ]
     },
     "execution_count": 35,
     "metadata": {},
     "output_type": "execute_result"
    },
    {
     "data": {
      "image/png": "[encoded data removed]",
      "text/plain": [
       "<Figure size 432x288 with 1 Axes>"
      ]
     },
     "metadata": {
      "needs_background": "light"
     },
     "output_type": "display_data"
    }
   ],
   "source": [
    "g=sns.scatterplot(data=diamonds2.sample(500), y='price', x='carat')\n",
    "sns.lineplot(data=diamonds2, y='price_predict', x='carat', color='red')"
   ]
  },
  {
   "cell_type": "code",
   "execution_count": 36,
   "metadata": {},
   "outputs": [
    {
     "data": {
      "text/plain": [
       "<seaborn.axisgrid.FacetGrid at 0x1c26cc7750>"
      ]
     },
     "execution_count": 36,
     "metadata": {},
     "output_type": "execute_result"
    },
    {
     "data": {
      "image/png": "[encoded data removed]",
      "text/plain": [
       "<Figure size 360x360 with 1 Axes>"
      ]
     },
     "metadata": {
      "needs_background": "light"
     },
     "output_type": "display_data"
    }
   ],
   "source": [
    "sns.catplot(data=diamonds2, y='lprice_predict_error', x='cut', kind='box')"
   ]
  },
  {
   "cell_type": "code",
   "execution_count": 37,
   "metadata": {},
   "outputs": [
    {
     "data": {
      "text/html": [
       "<table class=\"simpletable\">\n",
       "<caption>OLS Regression Results</caption>\n",
       "<tr>\n",
       "  <th>Dep. Variable:</th>         <td>lprice</td>      <th>  R-squared:         </th> <td>   0.934</td> \n",
       "</tr>\n",
       "<tr>\n",
       "  <th>Model:</th>                   <td>OLS</td>       <th>  Adj. R-squared:    </th> <td>   0.934</td> \n",
       "</tr>\n",
       "<tr>\n",
       "  <th>Method:</th>             <td>Least Squares</td>  <th>  F-statistic:       </th> <td>3.789e+05</td>\n",
       "</tr>\n",
       "<tr>\n",
       "  <th>Date:</th>             <td>Thu, 26 Mar 2020</td> <th>  Prob (F-statistic):</th>  <td>  0.00</td>  \n",
       "</tr>\n",
       "<tr>\n",
       "  <th>Time:</th>                 <td>19:10:44</td>     <th>  Log-Likelihood:    </th> <td> -3957.1</td> \n",
       "</tr>\n",
       "<tr>\n",
       "  <th>No. Observations:</th>      <td> 53797</td>      <th>  AIC:               </th> <td>   7920.</td> \n",
       "</tr>\n",
       "<tr>\n",
       "  <th>Df Residuals:</th>          <td> 53794</td>      <th>  BIC:               </th> <td>   7947.</td> \n",
       "</tr>\n",
       "<tr>\n",
       "  <th>Df Model:</th>              <td>     2</td>      <th>                     </th>     <td> </td>    \n",
       "</tr>\n",
       "<tr>\n",
       "  <th>Covariance Type:</th>      <td>nonrobust</td>    <th>                     </th>     <td> </td>    \n",
       "</tr>\n",
       "</table>\n",
       "<table class=\"simpletable\">\n",
       "<tr>\n",
       "      <td></td>         <th>coef</th>     <th>std err</th>      <th>t</th>      <th>P>|t|</th>  <th>[0.025</th>    <th>0.975]</th>  \n",
       "</tr>\n",
       "<tr>\n",
       "  <th>Intercept</th> <td>    7.7340</td> <td>    0.047</td> <td>  164.086</td> <td> 0.000</td> <td>    7.642</td> <td>    7.826</td>\n",
       "</tr>\n",
       "<tr>\n",
       "  <th>lcarat</th>    <td>    1.4719</td> <td>    0.014</td> <td>  105.852</td> <td> 0.000</td> <td>    1.445</td> <td>    1.499</td>\n",
       "</tr>\n",
       "<tr>\n",
       "  <th>x</th>         <td>    0.1109</td> <td>    0.007</td> <td>   15.250</td> <td> 0.000</td> <td>    0.097</td> <td>    0.125</td>\n",
       "</tr>\n",
       "</table>\n",
       "<table class=\"simpletable\">\n",
       "<tr>\n",
       "  <th>Omnibus:</th>       <td>861.522</td> <th>  Durbin-Watson:     </th> <td>   1.239</td>\n",
       "</tr>\n",
       "<tr>\n",
       "  <th>Prob(Omnibus):</th> <td> 0.000</td>  <th>  Jarque-Bera (JB):  </th> <td>1526.077</td>\n",
       "</tr>\n",
       "<tr>\n",
       "  <th>Skew:</th>          <td> 0.114</td>  <th>  Prob(JB):          </th> <td>    0.00</td>\n",
       "</tr>\n",
       "<tr>\n",
       "  <th>Kurtosis:</th>      <td> 3.793</td>  <th>  Cond. No.          </th> <td>    262.</td>\n",
       "</tr>\n",
       "</table><br/><br/>Warnings:<br/>[1] Standard Errors assume that the covariance matrix of the errors is correctly specified."
      ],
      "text/plain": [
       "<class 'statsmodels.iolib.summary.Summary'>\n",
       "\"\"\"\n",
       "                            OLS Regression Results                            \n",
       "==============================================================================\n",
       "Dep. Variable:                 lprice   R-squared:                       0.934\n",
       "Model:                            OLS   Adj. R-squared:                  0.934\n",
       "Method:                 Least Squares   F-statistic:                 3.789e+05\n",
       "Date:                Thu, 26 Mar 2020   Prob (F-statistic):               0.00\n",
       "Time:                        19:10:44   Log-Likelihood:                -3957.1\n",
       "No. Observations:               53797   AIC:                             7920.\n",
       "Df Residuals:                   53794   BIC:                             7947.\n",
       "Df Model:                           2                                         \n",
       "Covariance Type:            nonrobust                                         \n",
       "==============================================================================\n",
       "                 coef    std err          t      P>|t|      [0.025      0.975]\n",
       "------------------------------------------------------------------------------\n",
       "Intercept      7.7340      0.047    164.086      0.000       7.642       7.826\n",
       "lcarat         1.4719      0.014    105.852      0.000       1.445       1.499\n",
       "x              0.1109      0.007     15.250      0.000       0.097       0.125\n",
       "==============================================================================\n",
       "Omnibus:                      861.522   Durbin-Watson:                   1.239\n",
       "Prob(Omnibus):                  0.000   Jarque-Bera (JB):             1526.077\n",
       "Skew:                           0.114   Prob(JB):                         0.00\n",
       "Kurtosis:                       3.793   Cond. No.                         262.\n",
       "==============================================================================\n",
       "\n",
       "Warnings:\n",
       "[1] Standard Errors assume that the covariance matrix of the errors is correctly specified.\n",
       "\"\"\""
      ]
     },
     "execution_count": 37,
     "metadata": {},
     "output_type": "execute_result"
    }
   ],
   "source": [
    "#### let's work here\n",
    "sm_ols('lprice~ lcarat + x', data=diamonds2).fit().summary()"
   ]
  },
  {
   "cell_type": "code",
   "execution_count": 38,
   "metadata": {},
   "outputs": [
    {
     "data": {
      "text/html": [
       "<table class=\"simpletable\">\n",
       "<caption>OLS Regression Results</caption>\n",
       "<tr>\n",
       "  <th>Dep. Variable:</th>         <td>lprice</td>      <th>  R-squared:         </th> <td>   0.860</td> \n",
       "</tr>\n",
       "<tr>\n",
       "  <th>Model:</th>                   <td>OLS</td>       <th>  Adj. R-squared:    </th> <td>   0.860</td> \n",
       "</tr>\n",
       "<tr>\n",
       "  <th>Method:</th>             <td>Least Squares</td>  <th>  F-statistic:       </th> <td>1.655e+05</td>\n",
       "</tr>\n",
       "<tr>\n",
       "  <th>Date:</th>             <td>Thu, 26 Mar 2020</td> <th>  Prob (F-statistic):</th>  <td>  0.00</td>  \n",
       "</tr>\n",
       "<tr>\n",
       "  <th>Time:</th>                 <td>19:10:44</td>     <th>  Log-Likelihood:    </th> <td> -24032.</td> \n",
       "</tr>\n",
       "<tr>\n",
       "  <th>No. Observations:</th>      <td> 53797</td>      <th>  AIC:               </th> <td>4.807e+04</td>\n",
       "</tr>\n",
       "<tr>\n",
       "  <th>Df Residuals:</th>          <td> 53794</td>      <th>  BIC:               </th> <td>4.810e+04</td>\n",
       "</tr>\n",
       "<tr>\n",
       "  <th>Df Model:</th>              <td>     2</td>      <th>                     </th>     <td> </td>    \n",
       "</tr>\n",
       "<tr>\n",
       "  <th>Covariance Type:</th>      <td>nonrobust</td>    <th>                     </th>     <td> </td>    \n",
       "</tr>\n",
       "</table>\n",
       "<table class=\"simpletable\">\n",
       "<tr>\n",
       "        <td></td>           <th>coef</th>     <th>std err</th>      <th>t</th>      <th>P>|t|</th>  <th>[0.025</th>    <th>0.975]</th>  \n",
       "</tr>\n",
       "<tr>\n",
       "  <th>Intercept</th>     <td>    6.1387</td> <td>    0.004</td> <td> 1656.718</td> <td> 0.000</td> <td>    6.131</td> <td>    6.146</td>\n",
       "</tr>\n",
       "<tr>\n",
       "  <th>ideal[T.True]</th> <td>    0.0717</td> <td>    0.003</td> <td>   21.264</td> <td> 0.000</td> <td>    0.065</td> <td>    0.078</td>\n",
       "</tr>\n",
       "<tr>\n",
       "  <th>carat</th>         <td>    2.0368</td> <td>    0.004</td> <td>  570.680</td> <td> 0.000</td> <td>    2.030</td> <td>    2.044</td>\n",
       "</tr>\n",
       "</table>\n",
       "<table class=\"simpletable\">\n",
       "<tr>\n",
       "  <th>Omnibus:</th>       <td>1907.568</td> <th>  Durbin-Watson:     </th> <td>   0.978</td>\n",
       "</tr>\n",
       "<tr>\n",
       "  <th>Prob(Omnibus):</th>  <td> 0.000</td>  <th>  Jarque-Bera (JB):  </th> <td>2652.335</td>\n",
       "</tr>\n",
       "<tr>\n",
       "  <th>Skew:</th>           <td>-0.371</td>  <th>  Prob(JB):          </th> <td>    0.00</td>\n",
       "</tr>\n",
       "<tr>\n",
       "  <th>Kurtosis:</th>       <td> 3.795</td>  <th>  Cond. No.          </th> <td>    4.32</td>\n",
       "</tr>\n",
       "</table><br/><br/>Warnings:<br/>[1] Standard Errors assume that the covariance matrix of the errors is correctly specified."
      ],
      "text/plain": [
       "<class 'statsmodels.iolib.summary.Summary'>\n",
       "\"\"\"\n",
       "                            OLS Regression Results                            \n",
       "==============================================================================\n",
       "Dep. Variable:                 lprice   R-squared:                       0.860\n",
       "Model:                            OLS   Adj. R-squared:                  0.860\n",
       "Method:                 Least Squares   F-statistic:                 1.655e+05\n",
       "Date:                Thu, 26 Mar 2020   Prob (F-statistic):               0.00\n",
       "Time:                        19:10:44   Log-Likelihood:                -24032.\n",
       "No. Observations:               53797   AIC:                         4.807e+04\n",
       "Df Residuals:                   53794   BIC:                         4.810e+04\n",
       "Df Model:                           2                                         \n",
       "Covariance Type:            nonrobust                                         \n",
       "=================================================================================\n",
       "                    coef    std err          t      P>|t|      [0.025      0.975]\n",
       "---------------------------------------------------------------------------------\n",
       "Intercept         6.1387      0.004   1656.718      0.000       6.131       6.146\n",
       "ideal[T.True]     0.0717      0.003     21.264      0.000       0.065       0.078\n",
       "carat             2.0368      0.004    570.680      0.000       2.030       2.044\n",
       "==============================================================================\n",
       "Omnibus:                     1907.568   Durbin-Watson:                   0.978\n",
       "Prob(Omnibus):                  0.000   Jarque-Bera (JB):             2652.335\n",
       "Skew:                          -0.371   Prob(JB):                         0.00\n",
       "Kurtosis:                       3.795   Cond. No.                         4.32\n",
       "==============================================================================\n",
       "\n",
       "Warnings:\n",
       "[1] Standard Errors assume that the covariance matrix of the errors is correctly specified.\n",
       "\"\"\""
      ]
     },
     "execution_count": 38,
     "metadata": {},
     "output_type": "execute_result"
    }
   ],
   "source": [
    "# exercise time...\n",
    "#% increase in price for ideal diamonds..\n",
    "sm_ols('lprice~ carat + ideal', data=diamonds2).fit().summary()"
   ]
  },
  {
   "cell_type": "markdown",
   "metadata": {},
   "source": [
    "### questions\n",
    "If x (the diamonds 2 variable \"x\") goes up by\n",
    "A.    1%, how much does price go up?\n",
    "B.    1, how much does price go up?\n",
    "C.    1%, what % does price go up?\n",
    "D.    1, what % does price go up?"
   ]
  },
  {
   "cell_type": "code",
   "execution_count": 40,
   "metadata": {},
   "outputs": [
    {
     "data": {
      "text/html": [
       "<table class=\"simpletable\">\n",
       "<caption>OLS Regression Results</caption>\n",
       "<tr>\n",
       "  <th>Dep. Variable:</th>          <td>price</td>      <th>  R-squared:         </th>  <td>   0.721</td>  \n",
       "</tr>\n",
       "<tr>\n",
       "  <th>Model:</th>                   <td>OLS</td>       <th>  Adj. R-squared:    </th>  <td>   0.721</td>  \n",
       "</tr>\n",
       "<tr>\n",
       "  <th>Method:</th>             <td>Least Squares</td>  <th>  F-statistic:       </th>  <td>1.393e+05</td> \n",
       "</tr>\n",
       "<tr>\n",
       "  <th>Date:</th>             <td>Thu, 26 Mar 2020</td> <th>  Prob (F-statistic):</th>   <td>  0.00</td>   \n",
       "</tr>\n",
       "<tr>\n",
       "  <th>Time:</th>                 <td>19:10:55</td>     <th>  Log-Likelihood:    </th> <td>-4.8745e+05</td>\n",
       "</tr>\n",
       "<tr>\n",
       "  <th>No. Observations:</th>      <td> 53797</td>      <th>  AIC:               </th>  <td>9.749e+05</td> \n",
       "</tr>\n",
       "<tr>\n",
       "  <th>Df Residuals:</th>          <td> 53795</td>      <th>  BIC:               </th>  <td>9.749e+05</td> \n",
       "</tr>\n",
       "<tr>\n",
       "  <th>Df Model:</th>              <td>     1</td>      <th>                     </th>      <td> </td>     \n",
       "</tr>\n",
       "<tr>\n",
       "  <th>Covariance Type:</th>      <td>nonrobust</td>    <th>                     </th>      <td> </td>     \n",
       "</tr>\n",
       "</table>\n",
       "<table class=\"simpletable\">\n",
       "<tr>\n",
       "      <td></td>         <th>coef</th>     <th>std err</th>      <th>t</th>      <th>P>|t|</th>  <th>[0.025</th>    <th>0.975]</th>  \n",
       "</tr>\n",
       "<tr>\n",
       "  <th>Intercept</th> <td>-3.454e+04</td> <td>  103.384</td> <td> -334.082</td> <td> 0.000</td> <td>-3.47e+04</td> <td>-3.43e+04</td>\n",
       "</tr>\n",
       "<tr>\n",
       "  <th>lx</th>        <td> 2.032e+04</td> <td>   54.439</td> <td>  373.243</td> <td> 0.000</td> <td> 2.02e+04</td> <td> 2.04e+04</td>\n",
       "</tr>\n",
       "</table>\n",
       "<table class=\"simpletable\">\n",
       "<tr>\n",
       "  <th>Omnibus:</th>       <td>36969.119</td> <th>  Durbin-Watson:     </th>  <td>   0.348</td>  \n",
       "</tr>\n",
       "<tr>\n",
       "  <th>Prob(Omnibus):</th>  <td> 0.000</td>   <th>  Jarque-Bera (JB):  </th> <td>2403694.165</td>\n",
       "</tr>\n",
       "<tr>\n",
       "  <th>Skew:</th>           <td> 2.641</td>   <th>  Prob(JB):          </th>  <td>    0.00</td>  \n",
       "</tr>\n",
       "<tr>\n",
       "  <th>Kurtosis:</th>       <td>35.318</td>   <th>  Cond. No.          </th>  <td>    27.9</td>  \n",
       "</tr>\n",
       "</table><br/><br/>Warnings:<br/>[1] Standard Errors assume that the covariance matrix of the errors is correctly specified."
      ],
      "text/plain": [
       "<class 'statsmodels.iolib.summary.Summary'>\n",
       "\"\"\"\n",
       "                            OLS Regression Results                            \n",
       "==============================================================================\n",
       "Dep. Variable:                  price   R-squared:                       0.721\n",
       "Model:                            OLS   Adj. R-squared:                  0.721\n",
       "Method:                 Least Squares   F-statistic:                 1.393e+05\n",
       "Date:                Thu, 26 Mar 2020   Prob (F-statistic):               0.00\n",
       "Time:                        19:10:55   Log-Likelihood:            -4.8745e+05\n",
       "No. Observations:               53797   AIC:                         9.749e+05\n",
       "Df Residuals:                   53795   BIC:                         9.749e+05\n",
       "Df Model:                           1                                         \n",
       "Covariance Type:            nonrobust                                         \n",
       "==============================================================================\n",
       "                 coef    std err          t      P>|t|      [0.025      0.975]\n",
       "------------------------------------------------------------------------------\n",
       "Intercept  -3.454e+04    103.384   -334.082      0.000   -3.47e+04   -3.43e+04\n",
       "lx          2.032e+04     54.439    373.243      0.000    2.02e+04    2.04e+04\n",
       "==============================================================================\n",
       "Omnibus:                    36969.119   Durbin-Watson:                   0.348\n",
       "Prob(Omnibus):                  0.000   Jarque-Bera (JB):          2403694.165\n",
       "Skew:                           2.641   Prob(JB):                         0.00\n",
       "Kurtosis:                      35.318   Cond. No.                         27.9\n",
       "==============================================================================\n",
       "\n",
       "Warnings:\n",
       "[1] Standard Errors assume that the covariance matrix of the errors is correctly specified.\n",
       "\"\"\""
      ]
     },
     "execution_count": 40,
     "metadata": {},
     "output_type": "execute_result"
    }
   ],
   "source": [
    "sm_ols('lprice~x', data=diamonds2).fit().summary()  #87%....Part D\n",
    "sm_ols('price~x', data=diamonds2).fit().summary()  #PArt B= $3,3,137\n",
    "sm_ols('price~lx', data=diamonds2.assign(lx=np.log(1+diamonds2['x']))\n",
    "      ).fit().summary()"
   ]
  },
  {
   "cell_type": "code",
   "execution_count": 41,
   "metadata": {},
   "outputs": [],
   "source": [
    "ideal_reg=sm_ols('lprice~lcarat + ideal',\n",
    "                data=diamonds2).fit()\n",
    "diamonds2['y_pred_ideal']=ideal_reg.predict()"
   ]
  },
  {
   "cell_type": "code",
   "execution_count": 42,
   "metadata": {},
   "outputs": [
    {
     "data": {
      "text/plain": [
       "<matplotlib.axes._subplots.AxesSubplot at 0x1c29450810>"
      ]
     },
     "execution_count": 42,
     "metadata": {},
     "output_type": "execute_result"
    },
    {
     "data": {
      "image/png": "[encoded data removed]",
      "text/plain": [
       "<Figure size 432x288 with 1 Axes>"
      ]
     },
     "metadata": {
      "needs_background": "light"
     },
     "output_type": "display_data"
    }
   ],
   "source": [
    "g=sns.scatterplot(data=diamonds2.sample(50), y='lprice', x='carat')\n",
    "sns.lineplot(data=diamonds2.query('ideal==True').sample(50), \n",
    "             y='y_pred_ideal', x='lcarat', color='red')\n",
    "sns.lineplot(data=diamonds2.query('ideal==False').sample(50), \n",
    "             y='y_pred_ideal', x='lcarat', color='black')"
   ]
  },
  {
   "cell_type": "code",
   "execution_count": 43,
   "metadata": {},
   "outputs": [
    {
     "data": {
      "text/html": [
       "<table class=\"simpletable\">\n",
       "<caption>OLS Regression Results</caption>\n",
       "<tr>\n",
       "  <th>Dep. Variable:</th>         <td>lprice</td>      <th>  R-squared:         </th> <td>   0.936</td> \n",
       "</tr>\n",
       "<tr>\n",
       "  <th>Model:</th>                   <td>OLS</td>       <th>  Adj. R-squared:    </th> <td>   0.936</td> \n",
       "</tr>\n",
       "<tr>\n",
       "  <th>Method:</th>             <td>Least Squares</td>  <th>  F-statistic:       </th> <td>3.914e+05</td>\n",
       "</tr>\n",
       "<tr>\n",
       "  <th>Date:</th>             <td>Thu, 26 Mar 2020</td> <th>  Prob (F-statistic):</th>  <td>  0.00</td>  \n",
       "</tr>\n",
       "<tr>\n",
       "  <th>Time:</th>                 <td>19:10:59</td>     <th>  Log-Likelihood:    </th> <td> -3136.4</td> \n",
       "</tr>\n",
       "<tr>\n",
       "  <th>No. Observations:</th>      <td> 53797</td>      <th>  AIC:               </th> <td>   6279.</td> \n",
       "</tr>\n",
       "<tr>\n",
       "  <th>Df Residuals:</th>          <td> 53794</td>      <th>  BIC:               </th> <td>   6306.</td> \n",
       "</tr>\n",
       "<tr>\n",
       "  <th>Df Model:</th>              <td>     2</td>      <th>                     </th>     <td> </td>    \n",
       "</tr>\n",
       "<tr>\n",
       "  <th>Covariance Type:</th>      <td>nonrobust</td>    <th>                     </th>     <td> </td>    \n",
       "</tr>\n",
       "</table>\n",
       "<table class=\"simpletable\">\n",
       "<tr>\n",
       "        <td></td>           <th>coef</th>     <th>std err</th>      <th>t</th>      <th>P>|t|</th>  <th>[0.025</th>    <th>0.975]</th>  \n",
       "</tr>\n",
       "<tr>\n",
       "  <th>Intercept</th>     <td>    8.4182</td> <td>    0.002</td> <td> 5415.779</td> <td> 0.000</td> <td>    8.415</td> <td>    8.421</td>\n",
       "</tr>\n",
       "<tr>\n",
       "  <th>ideal[T.True]</th> <td>    0.1000</td> <td>    0.002</td> <td>   43.662</td> <td> 0.000</td> <td>    0.096</td> <td>    0.105</td>\n",
       "</tr>\n",
       "<tr>\n",
       "  <th>lcarat</th>        <td>    1.6963</td> <td>    0.002</td> <td>  878.286</td> <td> 0.000</td> <td>    1.692</td> <td>    1.700</td>\n",
       "</tr>\n",
       "</table>\n",
       "<table class=\"simpletable\">\n",
       "<tr>\n",
       "  <th>Omnibus:</th>       <td>794.680</td> <th>  Durbin-Watson:     </th> <td>   1.241</td> \n",
       "</tr>\n",
       "<tr>\n",
       "  <th>Prob(Omnibus):</th> <td> 0.000</td>  <th>  Jarque-Bera (JB):  </th> <td>1394.941</td> \n",
       "</tr>\n",
       "<tr>\n",
       "  <th>Skew:</th>          <td> 0.101</td>  <th>  Prob(JB):          </th> <td>1.24e-303</td>\n",
       "</tr>\n",
       "<tr>\n",
       "  <th>Kurtosis:</th>      <td> 3.763</td>  <th>  Cond. No.          </th> <td>    2.67</td> \n",
       "</tr>\n",
       "</table><br/><br/>Warnings:<br/>[1] Standard Errors assume that the covariance matrix of the errors is correctly specified."
      ],
      "text/plain": [
       "<class 'statsmodels.iolib.summary.Summary'>\n",
       "\"\"\"\n",
       "                            OLS Regression Results                            \n",
       "==============================================================================\n",
       "Dep. Variable:                 lprice   R-squared:                       0.936\n",
       "Model:                            OLS   Adj. R-squared:                  0.936\n",
       "Method:                 Least Squares   F-statistic:                 3.914e+05\n",
       "Date:                Thu, 26 Mar 2020   Prob (F-statistic):               0.00\n",
       "Time:                        19:10:59   Log-Likelihood:                -3136.4\n",
       "No. Observations:               53797   AIC:                             6279.\n",
       "Df Residuals:                   53794   BIC:                             6306.\n",
       "Df Model:                           2                                         \n",
       "Covariance Type:            nonrobust                                         \n",
       "=================================================================================\n",
       "                    coef    std err          t      P>|t|      [0.025      0.975]\n",
       "---------------------------------------------------------------------------------\n",
       "Intercept         8.4182      0.002   5415.779      0.000       8.415       8.421\n",
       "ideal[T.True]     0.1000      0.002     43.662      0.000       0.096       0.105\n",
       "lcarat            1.6963      0.002    878.286      0.000       1.692       1.700\n",
       "==============================================================================\n",
       "Omnibus:                      794.680   Durbin-Watson:                   1.241\n",
       "Prob(Omnibus):                  0.000   Jarque-Bera (JB):             1394.941\n",
       "Skew:                           0.101   Prob(JB):                    1.24e-303\n",
       "Kurtosis:                       3.763   Cond. No.                         2.67\n",
       "==============================================================================\n",
       "\n",
       "Warnings:\n",
       "[1] Standard Errors assume that the covariance matrix of the errors is correctly specified.\n",
       "\"\"\""
      ]
     },
     "execution_count": 43,
     "metadata": {},
     "output_type": "execute_result"
    }
   ],
   "source": [
    "sm_ols('lprice~lcarat + ideal',\n",
    "      data=diamonds2).fit().summary()"
   ]
  },
  {
   "cell_type": "code",
   "execution_count": 44,
   "metadata": {},
   "outputs": [
    {
     "data": {
      "text/plain": [
       "count    53797.000000\n",
       "mean        -0.398700\n",
       "std          0.581060\n",
       "min         -1.609438\n",
       "25%         -0.916291\n",
       "50%         -0.356675\n",
       "75%          0.039221\n",
       "max          0.912283\n",
       "Name: lcarat, dtype: float64"
      ]
     },
     "execution_count": 44,
     "metadata": {},
     "output_type": "execute_result"
    }
   ],
   "source": [
    "diamonds2['lcarat'].describe()"
   ]
  },
  {
   "cell_type": "code",
   "execution_count": null,
   "metadata": {},
   "outputs": [],
   "source": []
  },
  {
   "cell_type": "code",
   "execution_count": null,
   "metadata": {},
   "outputs": [],
   "source": []
  },
  {
   "cell_type": "code",
   "execution_count": null,
   "metadata": {},
   "outputs": [],
   "source": []
  },
  {
   "cell_type": "code",
   "execution_count": null,
   "metadata": {},
   "outputs": [],
   "source": []
  }
 ],
 "metadata": {
  "kernelspec": {
   "display_name": "Python 3",
   "language": "python",
   "name": "python3"
  },
  "language_info": {
   "codemirror_mode": {
    "name": "ipython",
    "version": 3
   },
   "file_extension": ".py",
   "mimetype": "text/x-python",
   "name": "python",
   "nbconvert_exporter": "python",
   "pygments_lexer": "ipython3",
   "version": "3.7.4"
  }
 },
 "nbformat": 4,
 "nbformat_minor": 2
}
