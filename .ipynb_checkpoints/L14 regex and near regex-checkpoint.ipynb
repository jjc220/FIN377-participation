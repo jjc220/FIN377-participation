{
 "cells": [
  {
   "cell_type": "markdown",
   "metadata": {},
   "source": [
    "# Importing Data and Using Near Regex"
   ]
  },
  {
   "cell_type": "code",
   "execution_count": 33,
   "metadata": {},
   "outputs": [
    {
     "name": "stdout",
     "output_type": "stream",
     "text": [
      "found a match!\n",
      "no match!\n"
     ]
    },
    {
     "data": {
      "text/plain": [
       "['hey', 'guy']"
      ]
     },
     "execution_count": 33,
     "metadata": {},
     "output_type": "execute_result"
    }
   ],
   "source": [
    "import re\n",
    "# functions: search, findall, findeiter, group\n",
    "\n",
    "re.search(\"c\", \"abcdef\") # re.search(pattern,text)\n",
    "# where in the string match is find.... as string that matches it + well as where it is\n",
    "\n",
    "re.search(\"[d-f]\", \"abcdef\") # returns a match object\n",
    "\n",
    "type(re.search(\"[d-f]\", \"abcdef\")) # match objects can be \"true or false\"\n",
    "\n",
    "if re.search(\"[d-f]\", \"abcdef\"):\n",
    "    \n",
    "        print(\"found a match!\")\n",
    "    \n",
    "else:\n",
    "        print(\"no match!\")\n",
    "\n",
    "\n",
    "if re.search(\"[x-z]\", \"abcdef\"):\n",
    "        print(\"found a match!\")\n",
    "else:\n",
    "        print(\"no match!\")\n",
    "        \n",
    "# how many hits are there\n",
    "re.findall(\"[d-f]{2}\",\"abcdef\") # findall returns a list of all match\n",
    "\n",
    "len(re.findall(\"[d-f]\", \"abcdef\")) # how many strings there are\n",
    "\n",
    "re.findall(r\"\\bc\",\"cabccccccccdef\") # should match but doesn't\n",
    "\n",
    "\n",
    "\n",
    "r\"\\bc\" # that must literlly means a slash, don't change it\n",
    "\n",
    "\n",
    "# \\w -->> \"word\" characters [A-Za-z0-9]\n",
    "# finds chucks of things\n",
    "\n",
    "# {m} \n",
    "\n",
    "text = \"hey there guy\" # want to find #2\n",
    "re.findall(r'\\b\\w{3}\\b',text)"
   ]
  },
  {
   "cell_type": "code",
   "execution_count": 34,
   "metadata": {},
   "outputs": [
    {
     "ename": "NameError",
     "evalue": "name 'NEAR_regex' is not defined",
     "output_type": "error",
     "traceback": [
      "\u001b[0;31m---------------------------------------------------------------------------\u001b[0m",
      "\u001b[0;31mNameError\u001b[0m                                 Traceback (most recent call last)",
      "\u001b[0;32m<ipython-input-34-3a77f07cd547>\u001b[0m in \u001b[0;36m<module>\u001b[0;34m\u001b[0m\n\u001b[1;32m     13\u001b[0m \u001b[0mwords\u001b[0m \u001b[0;34m=\u001b[0m \u001b[0;34m[\u001b[0m\u001b[0;34m'jack'\u001b[0m\u001b[0;34m,\u001b[0m\u001b[0;34m'hill'\u001b[0m\u001b[0;34m]\u001b[0m \u001b[0;31m# find jack near hill\u001b[0m\u001b[0;34m\u001b[0m\u001b[0;34m\u001b[0m\u001b[0m\n\u001b[1;32m     14\u001b[0m \u001b[0;31m# words = ['lithium','(risk|price)']\u001b[0m\u001b[0;34m\u001b[0m\u001b[0;34m\u001b[0m\u001b[0;34m\u001b[0m\u001b[0m\n\u001b[0;32m---> 15\u001b[0;31m \u001b[0mrgx\u001b[0m \u001b[0;34m=\u001b[0m \u001b[0mNEAR_regex\u001b[0m\u001b[0;34m.\u001b[0m\u001b[0mNEAR_regex\u001b[0m\u001b[0;34m(\u001b[0m\u001b[0mwords\u001b[0m\u001b[0;34m,\u001b[0m \u001b[0mmax_words_between\u001b[0m\u001b[0;34m=\u001b[0m\u001b[0;36m1\u001b[0m\u001b[0;34m)\u001b[0m\u001b[0;34m\u001b[0m\u001b[0;34m\u001b[0m\u001b[0m\n\u001b[0m\u001b[1;32m     16\u001b[0m \u001b[0;34m\u001b[0m\u001b[0m\n\u001b[1;32m     17\u001b[0m \u001b[0;34m\u001b[0m\u001b[0m\n",
      "\u001b[0;31mNameError\u001b[0m: name 'NEAR_regex' is not defined"
     ]
    }
   ],
   "source": [
    "# Let's do something more \"real\"\n",
    "from NEAR_regex import *\n",
    "\n",
    "# download NEAR_regex.py from assignments_data and put into the participation folder. \n",
    "\n",
    "# builds complicated pattern for you\n",
    "\n",
    "# WORD1 \"near\" WORD2\n",
    "# read the case for assignment\n",
    "# default number of words in the middle is\n",
    "\n",
    "a_string_you_have = 'Jack and Jill went up the hill and Jack again hills'\n",
    "words = ['jack','hill'] # find jack near hill \n",
    "# words = ['lithium','(risk|price)']\n",
    "rgx = NEAR_regex.NEAR_regex(words, max_words_between=1)\n",
    "\n",
    "\n",
    "a_string_you_have = a_string_you_have.lower() # REMEMBER TO ALWAYS LOWER CASE YOUR STRING\n",
    "len(re.findall(rgx,a_string_you_have))"
   ]
  },
  {
   "cell_type": "code",
   "execution_count": 35,
   "metadata": {},
   "outputs": [
    {
     "ename": "SyntaxError",
     "evalue": "invalid character in identifier (<ipython-input-35-4976460a5a25>, line 5)",
     "output_type": "error",
     "traceback": [
      "\u001b[0;36m  File \u001b[0;32m\"<ipython-input-35-4976460a5a25>\"\u001b[0;36m, line \u001b[0;32m5\u001b[0m\n\u001b[0;31m    no_tags = BeautifulSoup(text).get_text()   # BS removes the html tags\u001b[0m\n\u001b[0m                                              ^\u001b[0m\n\u001b[0;31mSyntaxError\u001b[0m\u001b[0;31m:\u001b[0m invalid character in identifier\n"
     ]
    }
   ],
   "source": [
    "# loaded_file\n",
    "from bs4 import BeautifulSoup\n",
    "text = '''<p>    \\n\\r\\t      <b> hey</b>  THERE-hasn't John </p> '''\n",
    "# golden rule steps 2-5 (these #s refer to the list on the website which has an extra item)\n",
    "no_tags = BeautifulSoup(text).get_text()   # BS removes the html tags\n",
    "print(no_tags)\n",
    "\n",
    "lower = no_tags.lower() # make lower case\n",
    "print(lower)\n",
    "\n",
    "no_punc = re.sub(r'\\W',' ',lower)  # remove all punctuation mark (\\w is word chars, \\W is the opposite)\n",
    "print(no_punc)\n",
    "\n",
    "cleaned = re.sub(r'\\s+',' ',no_punc).strip()  # remove excess whitespace (\\s is all whitespace)\n",
    "print(cleaned) # take out all the white spaces\n",
    "\n",
    "print(len(re.findall(NEAR_regex(['hey','john']),   cleaned)))\n",
    "\n",
    "# So those are the golden rule steps in action to clean an HTML string and search it."
   ]
  },
  {
   "cell_type": "code",
   "execution_count": 36,
   "metadata": {},
   "outputs": [
    {
     "ename": "SyntaxError",
     "evalue": "invalid character in identifier (<ipython-input-36-3d7dc88bb000>, line 4)",
     "output_type": "error",
     "traceback": [
      "\u001b[0;36m  File \u001b[0;32m\"<ipython-input-36-3d7dc88bb000>\"\u001b[0;36m, line \u001b[0;32m4\u001b[0m\n\u001b[0;31m    from NEAR_regex import NEAR_regex  # copy this file into the asgn folder\u001b[0m\n\u001b[0m                                      ^\u001b[0m\n\u001b[0;31mSyntaxError\u001b[0m\u001b[0;31m:\u001b[0m invalid character in identifier\n"
     ]
    }
   ],
   "source": [
    "# For the assignment\n",
    "# download_10ks.ipynb will downloads the 10ks. Then, inside parse_10ks.ipynb,\n",
    "\n",
    "from NEAR_regex import NEAR_regex  # copy this file into the asgn folder\n",
    "from bs4 import BeautifulSoup\n",
    "\n",
    "# load the dataset I gave you\n",
    "# something goes here\n",
    "\n",
    "# set up risk \"dictionaries\"\n",
    "battery_risks = ['lithium','risk']\n",
    "# you should set up 3-5 dictionaries of your own. do not use battery risks on the asgn\n",
    "\n",
    "\n",
    "################################################################\n",
    "# practice: parse ONE 10k\n",
    "# when you get this section right, change it so it loops over the 10k on your computer\n",
    "#\n",
    "# i'm not going to load a 10k here, for illustration i'm just downloading tesla's 10k\n",
    "# but again: you should delete the next 3 lines of code and load a 10k from your \n",
    "# directory using the dataset I gave you\n",
    "################################################################\n",
    "\n",
    "\n",
    "from bs4 import BeautifulSoup\n",
    "import requests\n",
    "\n",
    "url = 'https://www.sec.gov/Archives/edgar/data/1318605/000156459019003165/0001564590-19-003165.txt'\n",
    "edgar_resp = requests.get(url)\n",
    "loaded_file = edgar_resp.content\n",
    "# save the url\n",
    "# then in the next part of assignment, youll load it again\n",
    "# here - i'm skipping those steps so we can grab one document to look at\n",
    "\n",
    "# clean the 10k before searching\n",
    "lower = BeautifulSoup(loaded_file).get_text().lower()\n",
    "no_punc = re.sub(r'\\W',' ',lower)\n",
    "cleaned = re.sub(r'\\s+',' ',no_punc).strip()\n",
    "\n",
    "### now do your searches\n",
    "\n",
    "# search 1\n",
    "rgx = NEAR_regex(battery_risks,max_words_between=100,partial=True)\n",
    "s1_hits = len(re.findall(rgx,cleaned))\n",
    "# todo - you need to store the s1_hits in a dataset you can use later\n",
    "\n",
    "# searches 2-5\n",
    "# similar to search 1, but different\n",
    "\n",
    "\n",
    "\n",
    "\n",
    "\n",
    "# lithium is never near risk -- sucks\n",
    "\n",
    "pattern = NEAR_regex(['lithium', 'risk'],max_words_between=70)\n",
    "len(re.findall(pattern,cleaned))\n",
    "\n",
    "\n",
    "\n",
    "\n",
    "\n",
    "secondary_list = ['risk','expense']\n",
    "\n",
    "# measure 3 different ways, change partial or max_words_between\n",
    "for word in secondary_list:\n",
    "    pattern = NEAR_regex(['lithium',word], max_words_between=70,partial=True)\n",
    "    len(re.findall(pattern,cleaned))"
   ]
  },
  {
   "cell_type": "code",
   "execution_count": null,
   "metadata": {},
   "outputs": [],
   "source": []
  },
  {
   "cell_type": "code",
   "execution_count": null,
   "metadata": {},
   "outputs": [],
   "source": []
  }
 ],
 "metadata": {
  "kernelspec": {
   "display_name": "Python 3",
   "language": "python",
   "name": "python3"
  },
  "language_info": {
   "codemirror_mode": {
    "name": "ipython",
    "version": 3
   },
   "file_extension": ".py",
   "mimetype": "text/x-python",
   "name": "python",
   "nbconvert_exporter": "python",
   "pygments_lexer": "ipython3",
   "version": "3.7.4"
  }
 },
 "nbformat": 4,
 "nbformat_minor": 2
}
