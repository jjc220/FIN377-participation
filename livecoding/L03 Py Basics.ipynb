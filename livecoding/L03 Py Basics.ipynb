{
 "cells": [
  {
   "cell_type": "markdown",
   "metadata": {},
   "source": [
    "# Py Basics"
   ]
  },
  {
   "cell_type": "markdown",
   "metadata": {},
   "source": [
    "## First things first \n",
    "1. The assignment was posted. If you haven't received an email, please let me or the TA know immediately by tagging us in a GitHub issue.\n",
    "2. **Open a folder on your computer with your participation files, open Jupyter to that location, and create a new python file. Name it \"Class 3 live coding\".**\n",
    "Going forward, have Jupyter opened to your participation repo before the start of every class. This is an interactive class, and will be all semester!\n"
   ]
  },
  {
   "cell_type": "markdown",
   "metadata": {},
   "source": [
    "## Python essentials"
   ]
  },
  {
   "cell_type": "markdown",
   "metadata": {},
   "source": [
    "### Arithmetic"
   ]
  },
  {
   "cell_type": "code",
   "execution_count": 2,
   "metadata": {},
   "outputs": [
    {
     "name": "stdout",
     "output_type": "stream",
     "text": [
      "5\n",
      "-1\n",
      "0.6666666666666666\n",
      "<class 'int'> <class 'float'>\n",
      "0 <class 'int'>\n"
     ]
    }
   ],
   "source": [
    "# YOU: TYPE ALL OF THESE OUT ON YOUR OTHER PARTICIPATION SHEET... YOU CAN OMIT THE COMMENTS IF YOU WANT\n",
    "# YOU: TRY VARIATIONS TOO...\n",
    "\n",
    "print(2+3) # addition\n",
    "print(2-3) # subtraction\n",
    "print(2/3) # division - in Python 3, division of integers (a data type) inherently returns floats (a data type)\n",
    "print(type(2), type(2/3)) # see?\n",
    "print(2//3, type(2//3)) # floor division returns an integer. \n",
    "# FOR YOU to try: use this to tell me how many full hours are in 7643 minutes?"
   ]
  },
  {
   "cell_type": "code",
   "execution_count": 3,
   "metadata": {},
   "outputs": [
    {
     "name": "stdout",
     "output_type": "stream",
     "text": [
      "6\n",
      "8\n",
      "1\n"
     ]
    },
    {
     "data": {
      "text/plain": [
       "21"
      ]
     },
     "execution_count": 3,
     "metadata": {},
     "output_type": "execute_result"
    }
   ],
   "source": [
    "print(2*3) # multiplication\n",
    "print(2**3) # 2 to the power of three\n",
    "print(2^3) # ^ is NOT the power operator!!! it is a 'bit' operator - you don't need to know this for now\n",
    "\n",
    "int(2+3*(4+15)/3) # 1. PEMDAS applies \n",
    "                  # 2. If the last command in a cell return an *object*, jupyter auto prints it w/o needing print()\n",
    "                  # 3. this should be a float (21.0), but you can convert a float to an int with the int() function\n"
   ]
  },
  {
   "cell_type": "markdown",
   "metadata": {},
   "source": [
    "### Parentheses - Grouping and Calling \n",
    "As the above example shows, parentheses are for grouping ((4+15)/3 forces addition before division) and calling a function (e.g. print() means the print function is called on the inputs inside the parentheses)."
   ]
  },
  {
   "cell_type": "markdown",
   "metadata": {},
   "source": [
    "### Logic and comparisons \n",
    "The **comparison operators** are == (equals), != (Not equal), > (greater than), >= (equal or greater than), <, and <=. Each of these prompts Python to **evaluate the truth** of the comparison and return True or False.\n",
    "\n",
    "True and False are booleans, meaning True is equal to 1, and False is equal to 0."
   ]
  },
  {
   "cell_type": "code",
   "execution_count": 4,
   "metadata": {},
   "outputs": [
    {
     "name": "stdout",
     "output_type": "stream",
     "text": [
      "False\n",
      "True\n",
      "<class 'bool'> 1 <class 'bool'> 0\n"
     ]
    }
   ],
   "source": [
    "# YOU: TYPE ALL OF THESE OUT ON YOUR OTHER PARTICIPATION SHEET... YOU CAN OMIT THE COMMENTS IF YOU WANT\n",
    "# YOU: TRY VARIATIONS TOO...\n",
    "\n",
    "print(3>3)            # 3 is not greater than 3, so this evaluates to...\n",
    "                      # YOU: try 2 of the 3 other comparison operators\n",
    "print(True == 1)      \n",
    "print(type(True), int(True), type(False), int(False)) # print() can print a sequence of objects "
   ]
  },
  {
   "cell_type": "markdown",
   "metadata": {},
   "source": [
    "### The **logic operators** are and, or, and not. They evaluate a sequence of statements and return a true or false boolean."
   ]
  },
  {
   "cell_type": "code",
   "execution_count": 5,
   "metadata": {},
   "outputs": [
    {
     "name": "stdout",
     "output_type": "stream",
     "text": [
      "False\n",
      "True\n",
      "True\n",
      "True\n"
     ]
    }
   ],
   "source": [
    "# YOU: TYPE ALL OF THESE OUT ON YOUR OTHER PARTICIPATION SHEET... YOU CAN OMIT THE COMMENTS IF YOU WANT\n",
    "\n",
    "a = True              # you assign variables by writing: VariableName = Thing. \n",
    "b = False\n",
    "print(a and b)        # if both sides of *and* are true, the whole thing is\n",
    "print(a or b)         # if either side of *or* is true, the whole thing is\n",
    "print(a and not b)    # *not* negates what is after it\n",
    "print(not a or not b) # \"not b\" is true, so the whole thing is true"
   ]
  },
  {
   "cell_type": "markdown",
   "metadata": {},
   "source": [
    "### The identity operators **is and is not** check whether the left side and the right side are the same object."
   ]
  },
  {
   "cell_type": "code",
   "execution_count": 7,
   "metadata": {},
   "outputs": [
    {
     "name": "stdout",
     "output_type": "stream",
     "text": [
      "True\n",
      "False\n",
      "True\n"
     ]
    }
   ],
   "source": [
    "list1 = [] \n",
    "list2 = [] \n",
    "list3=list1 \n",
    "print(list1 == list2)\n",
    "print(list1 is list2)\n",
    "print(list1 is list3)"
   ]
  },
  {
   "cell_type": "markdown",
   "metadata": {},
   "source": [
    "### Parentheses: \n",
    "You can (and certainly will at some point need to) check for the truth of statements involving many variables, and complex logic requests. You can dictate the order Python evaluates statements. So, for example,"
   ]
  },
  {
   "cell_type": "code",
   "execution_count": 8,
   "metadata": {},
   "outputs": [
    {
     "name": "stdout",
     "output_type": "stream",
     "text": [
      "True\n",
      "False\n",
      "True\n"
     ]
    }
   ],
   "source": [
    "# a few silly examples\n",
    "\n",
    "print((3>3) == False) # 1 is not greater than 2, so this evaluates to... \n",
    "print(3>3 == False)   \n",
    "print((3>3) != True)"
   ]
  },
  {
   "cell_type": "markdown",
   "metadata": {},
   "source": [
    "## Variables are pointers \n",
    "Read this page!\n",
    "\n",
    "I'll simply provide the following warning: Unless you read and understand the link above, any time you write x=y, you might be creating a secret bug in your code that will cause potentially enormous errors!\n",
    "\n",
    "To illustrate:"
   ]
  },
  {
   "cell_type": "code",
   "execution_count": 10,
   "metadata": {},
   "outputs": [
    {
     "name": "stdout",
     "output_type": "stream",
     "text": [
      "<class 'list'>\n",
      "[1, 2, 3]\n",
      "[1, 2, 3, 4]\n"
     ]
    }
   ],
   "source": [
    "x = [1, 2, 3]\n",
    "print(type(x))\n",
    "y = x\n",
    "print(y)\n",
    "x.append(4) \n",
    "print(y) # y was changed as well... Why? Read the page above!"
   ]
  },
  {
   "cell_type": "markdown",
   "metadata": {},
   "source": [
    "## Common object types \n",
    "Boolean and int were covered above.\n",
    "\n",
    "None. See here.\n",
    "\n",
    "float. WARNING: Beware of comparing floating point numbers! Below is an example, and see here for the explanation."
   ]
  },
  {
   "cell_type": "code",
   "execution_count": 13,
   "metadata": {},
   "outputs": [
    {
     "name": "stdout",
     "output_type": "stream",
     "text": [
      "True\n",
      "False\n"
     ]
    }
   ],
   "source": [
    "print(1.0+2.0 == 3.0)\n",
    "print(0.1+0.2 == 0.3) # WHAT?!"
   ]
  },
  {
   "cell_type": "markdown",
   "metadata": {},
   "source": [
    "### str. There are built-in functions that work on strings directly"
   ]
  },
  {
   "cell_type": "code",
   "execution_count": 14,
   "metadata": {},
   "outputs": [
    {
     "name": "stdout",
     "output_type": "stream",
     "text": [
      "11\n",
      "SOME STRING\n"
     ]
    }
   ],
   "source": [
    "a='some string' # a = \"some string\" is the same. \n",
    "\n",
    "# some functions work on strings directly\n",
    "print(len(a)) \n",
    "\n",
    "# string types also have many functions as methods\n",
    "print(a.upper())\n",
    "#YOU: type a.<tab> in your notebook, and jupyter will open a list of possible functions!\n"
   ]
  },
  {
   "cell_type": "markdown",
   "metadata": {},
   "source": [
    "## Built in data structures \n",
    "Python has list, tuple, dict, and set. Beginners typically rely on lists extensively, but as you progress, you will find that all four are extremely useful, because their unique traits solve different needs."
   ]
  },
  {
   "cell_type": "code",
   "execution_count": 12,
   "metadata": {},
   "outputs": [
    {
     "data": {
      "text/plain": [
       "[8, 5, 6, 3, 7, 5, 3, 4, 13, 14, 7, [6], [8, 9]]"
      ]
     },
     "execution_count": 12,
     "metadata": {},
     "output_type": "execute_result"
    }
   ],
   "source": [
    "L=[8, 5, 6, 3, 7]\n",
    "L.extend([5])    # extend concatenates\n",
    "L.extend([3,4])  # concatenates work the same with more elemens\n",
    "L = L + [13,14]  # + concatenates\n",
    "L.append(7)      # append adds its entire argument to the list as a new element. \n",
    "L.append([6])    # 7 is an int, so it goes in as an int, but [6] is a *list*, so append puts a list as the element\n",
    "L.append([8,9])  # see, the last element is [8,9]\n",
    "L"
   ]
  },
  {
   "cell_type": "markdown",
   "metadata": {},
   "source": [
    "### For loops \n",
    "#### Python loops are very intuitive:"
   ]
  },
  {
   "cell_type": "code",
   "execution_count": 20,
   "metadata": {},
   "outputs": [],
   "source": [
    "#for state in states:\n",
    "   # capitol=stateCapitals[state]\n",
    "    #print(capitol)\n",
    "    #print(capitol.upper())\n",
    "    #<you can use as many lines as you need, just keep indenting>\n",
    "    #<the indents are 4 spaces, or more commonly, a <tab>>\n",
    "\n",
    "#print(states) # <-- the for loop ends when you write a line of \n",
    "              # code (not a comment!) that is unindented"
   ]
  },
  {
   "cell_type": "code",
   "execution_count": 10,
   "metadata": {},
   "outputs": [
    {
     "name": "stdout",
     "output_type": "stream",
     "text": [
      "WHOA THIS IS NEGATIVE\n",
      "[6, 2]\n",
      "[2, 2]\n",
      "[4, 2]\n",
      "Help on function f in module __main__:\n",
      "\n",
      "f(x, a=1, b=1)\n",
      "    The first argument you give goes to x, the second to a, the third to b.\n",
      "    If you do no provide a or b, they default to the value 1.\n",
      "\n"
     ]
    }
   ],
   "source": [
    "def f(x, a=1, b=1):\n",
    "    '''\n",
    "    The first argument you give goes to x, the second to a, the third to b.\n",
    "    If you do no provide a or b, they default to the value 1.\n",
    "    '''\n",
    "    if x < 0:\n",
    "        return \"WHOA THIS IS NEGATIVE\"\n",
    "    return [a + b * x, 2] # you can return any object(s) you want! this is a list, for example\n",
    "\n",
    "print(f(-100)) #notice it never gets to a+b*x\n",
    "print(f(2,2,2))\n",
    "print(f(1))\n",
    "print(f(1,b=3))\n",
    "help(f)"
   ]
  },
  {
   "cell_type": "markdown",
   "metadata": {},
   "source": [
    "### If, elif, else \n",
    "Syntax:\n",
    "\n",
    "if <condition #1>:                         # you must use the colon!\n",
    "\n",
    "     <do some stuff if condition is true>\n",
    "     \n",
    "elif <condition #2>:                       # as in \"Else-If\"\n",
    "\n",
    "    <if condition #1 is false, and \n",
    "    \n",
    "    condition #2 is true, run this block>\n",
    "    \n",
    "else:\n",
    "\n",
    "    <if neither #1 or #2 are true, do this>"
   ]
  },
  {
   "cell_type": "markdown",
   "metadata": {},
   "source": [
    "# While "
   ]
  },
  {
   "cell_type": "code",
   "execution_count": 11,
   "metadata": {},
   "outputs": [
    {
     "name": "stdout",
     "output_type": "stream",
     "text": [
      "0\n",
      "1\n",
      "2\n",
      "3\n",
      "4\n",
      "5\n",
      "6\n"
     ]
    }
   ],
   "source": [
    "counter = 0\n",
    "while counter < 7:\n",
    "    print(counter)\n",
    "    counter += 1 # \"+=\" is short for \"add to myself\". \n",
    "                 # Here, it's an abbreviation for: counter = counter + 1"
   ]
  },
  {
   "cell_type": "markdown",
   "metadata": {},
   "source": [
    "# Example:\n",
    "The function below shows off positional and keyword arguments, how to write a multiline \"docstring\", how the program ends once a return is executed, outputting a list, and setting default values for inputs."
   ]
  },
  {
   "cell_type": "code",
   "execution_count": 12,
   "metadata": {},
   "outputs": [
    {
     "name": "stdout",
     "output_type": "stream",
     "text": [
      "WHOA THIS IS NEGATIVE\n",
      "[6, 2]\n",
      "[2, 2]\n",
      "[4, 2]\n",
      "Help on function f in module __main__:\n",
      "\n",
      "f(x, a=1, b=1)\n",
      "    The first argument you give goes to x, the second to a, the third to b.\n",
      "    If you do no provide a or b, they default to the value 1.\n",
      "\n"
     ]
    }
   ],
   "source": [
    "def f(x, a=1, b=1):\n",
    "    '''\n",
    "    The first argument you give goes to x, the second to a, the third to b.\n",
    "    If you do no provide a or b, they default to the value 1.\n",
    "    '''\n",
    "    if x < 0:\n",
    "        return \"WHOA THIS IS NEGATIVE\"\n",
    "    return [a + b * x, 2] # you can return any object(s) you want! this is a list, for example\n",
    "\n",
    "print(f(-100)) #notice it never gets to a+b*x\n",
    "print(f(2,2,2))\n",
    "print(f(1))\n",
    "print(f(1,b=3))\n",
    "help(f)"
   ]
  },
  {
   "cell_type": "markdown",
   "metadata": {},
   "source": [
    "## Scope \n",
    "I want you to be generally aware of the concept of \"global\" and \"local\" scope. Generally, python objects are available only within the region they are defined and subregions therein. Put differently, objects are available downstream, but not upstream."
   ]
  },
  {
   "cell_type": "code",
   "execution_count": 14,
   "metadata": {},
   "outputs": [
    {
     "name": "stdout",
     "output_type": "stream",
     "text": [
      "1\n"
     ]
    }
   ],
   "source": [
    "x=1\n",
    "def silly_func():\n",
    "    xyz = 14\n",
    "    print(x) # variables defined OUTSIDE AND BEFORE a function are visible INSIDE the func\n",
    "    \n",
    "silly_func() "
   ]
  },
  {
   "cell_type": "code",
   "execution_count": 16,
   "metadata": {},
   "outputs": [
    {
     "name": "stdout",
     "output_type": "stream",
     "text": [
      "2\n",
      "1\n"
     ]
    }
   ],
   "source": [
    "x = 1\n",
    "def silly_func():\n",
    "    x=2\n",
    "    return x\n",
    "print(silly_func())\n",
    "print(x)            "
   ]
  },
  {
   "cell_type": "markdown",
   "metadata": {},
   "source": [
    "# Print statements \n",
    "Another ugly, possibly brutish method of debugging is: put print statements all over your code."
   ]
  },
  {
   "cell_type": "code",
   "execution_count": 18,
   "metadata": {},
   "outputs": [
    {
     "name": "stdout",
     "output_type": "stream",
     "text": [
      "6\n",
      "12\n",
      "12\n",
      "hey\n"
     ]
    }
   ],
   "source": [
    "def silly_func_here_but_in_a_real_situation_its_complicated_and_mysterious_ooooooh():\n",
    "    return 6\n",
    "a=silly_func_here_but_in_a_real_situation_its_complicated_and_mysterious_ooooooh()\n",
    "print(a)\n",
    "a+=a # += means \"add whatever is on the right to the existing value\"\n",
    "print(a) # see, the value changed\n",
    "b = 'hey'\n",
    "print (a)\n",
    "print (b)\n"
   ]
  },
  {
   "cell_type": "code",
   "execution_count": null,
   "metadata": {},
   "outputs": [],
   "source": []
  }
 ],
 "metadata": {
  "kernelspec": {
   "display_name": "Python 3",
   "language": "python",
   "name": "python3"
  },
  "language_info": {
   "codemirror_mode": {
    "name": "ipython",
    "version": 3
   },
   "file_extension": ".py",
   "mimetype": "text/x-python",
   "name": "python",
   "nbconvert_exporter": "python",
   "pygments_lexer": "ipython3",
   "version": "3.7.4"
  }
 },
 "nbformat": 4,
 "nbformat_minor": 2
}
