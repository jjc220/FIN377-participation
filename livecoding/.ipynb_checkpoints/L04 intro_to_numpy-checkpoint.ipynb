{
 "cells": [
  {
   "cell_type": "markdown",
   "metadata": {},
   "source": [
    "### Homework 1 Practice"
   ]
  },
  {
   "cell_type": "code",
   "execution_count": 1,
   "metadata": {},
   "outputs": [
    {
     "name": "stdout",
     "output_type": "stream",
     "text": [
      "2 1 hey there\n"
     ]
    }
   ],
   "source": [
    "def silly_func():\n",
    "    '''\n",
    "    This is just a practice function\n",
    "    '''\n",
    "    return 2, 1, \"hey there\"  #always return what you want the answer to be\n",
    "a,b,c=silly_func()\n",
    "print(a,b,c)"
   ]
  },
  {
   "cell_type": "code",
   "execution_count": 2,
   "metadata": {},
   "outputs": [
    {
     "name": "stdout",
     "output_type": "stream",
     "text": [
      "2\n",
      "3\n",
      "12\n"
     ]
    }
   ],
   "source": [
    "def count_capitals(inString): #step 2: this is the defining of a function\n",
    "    numCaps=0                  \n",
    "\n",
    "    for char in inString:\n",
    "        if char.isupper():\n",
    "            numCaps +=1\n",
    "        \n",
    "    return numCaps   #step 1. what do you want the return to be? Return numCaps\n",
    "\n",
    "print(count_capitals('Go Tigers!')) # leave this, it's a test unit\n",
    "print(count_capitals('Hail to the Victors Valiant!')) # leave this, it's a test unit\n",
    "print(count_capitals(\"LET'S GO DEVILS!\")) # leave this, it's a test unit"
   ]
  },
  {
   "cell_type": "markdown",
   "metadata": {},
   "source": [
    "# Intro to Numpy"
   ]
  },
  {
   "cell_type": "code",
   "execution_count": 3,
   "metadata": {},
   "outputs": [],
   "source": [
    "import numpy as np # by convention, numpy is always imported with the alias np\n",
    "import random"
   ]
  },
  {
   "cell_type": "markdown",
   "metadata": {},
   "source": [
    "### An example that shows why Python is slow is the following:"
   ]
  },
  {
   "cell_type": "code",
   "execution_count": 4,
   "metadata": {},
   "outputs": [
    {
     "name": "stdout",
     "output_type": "stream",
     "text": [
      "17\n",
      "py is good\n"
     ]
    }
   ],
   "source": [
    "# a \"+\" sign isn't just a plus sign\n",
    "a,b=3, 14\n",
    "print(a+b)\n",
    "a,b=\"py \",\"is good\"\n",
    "print(a+b)"
   ]
  },
  {
   "cell_type": "markdown",
   "metadata": {},
   "source": [
    "### So here is an example: Let's pull random numbers and square them:"
   ]
  },
  {
   "cell_type": "code",
   "execution_count": 5,
   "metadata": {},
   "outputs": [
    {
     "name": "stdout",
     "output_type": "stream",
     "text": [
      "CPU times: user 441 ms, sys: 9.38 ms, total: 451 ms\n",
      "Wall time: 413 ms\n"
     ]
    }
   ],
   "source": [
    "%%time\n",
    "\n",
    "y = 0     \n",
    "for i in range(1000000):\n",
    "    x = random.uniform(0, 1)\n",
    "    y += x**2"
   ]
  },
  {
   "cell_type": "markdown",
   "metadata": {},
   "source": [
    "### The speed solution \n",
    "**Vectorization**. Send commands on arrays to the computer pre-compiled, with efficient native machine code.\n",
    "\n",
    "Let's redo the code above:"
   ]
  },
  {
   "cell_type": "code",
   "execution_count": 6,
   "metadata": {},
   "outputs": [
    {
     "name": "stdout",
     "output_type": "stream",
     "text": [
      "CPU times: user 18.6 ms, sys: 8.51 ms, total: 27.1 ms\n",
      "Wall time: 25.8 ms\n"
     ]
    }
   ],
   "source": [
    "%%time\n",
    "\n",
    "x = np.random.uniform(0, 1, 1000000)\n",
    "y = np.sum(x**2)"
   ]
  },
  {
   "cell_type": "markdown",
   "metadata": {},
   "source": [
    "### Common methods:"
   ]
  },
  {
   "cell_type": "markdown",
   "metadata": {},
   "source": [
    "1. np.array([user defined list, or lists of lists]) creates an array or matrix\n",
    "2. np.ones(how many) and np.ones([rows,cols]), same but all elements are 1\n",
    "3. np.zeros(how many) and np.zeros([rows,cols]), same but all elements are 0\n",
    "4. np.arange(start,end,stepsize) , creates array, note that the array will not include any elements >=end\n",
    "5. np.linspace(from,to,# of elements), creates array covering the range specified\n",
    "6. np.eye(#) creates an identity matrix of size #x#\n",
    "7. np.concatenate([x, y]) combines arrays x and y\n",
    "8. np.nan is a NaN object (e.g. like a missing element in a data table)\n",
    "9. np.ceil(#), np.floor(#) if #=3.4, ceil will return 4, and floor will return 3.\n",
    "10. np.max(x), np.min(x), np.average(x), np.mediam(x) and many more statistical operations work as you would expect\n",
    "11. np.reshape(x,[rows,cols]) works as it looks\n",
    "12. np.random.<dist> can draw random numbers from many distributions"
   ]
  },
  {
   "cell_type": "markdown",
   "metadata": {},
   "source": [
    "### ASIDE: ALWAYS SET A SEED! \n",
    "Why have I emphasized a \"seed\" so much? Well, suppose you run analysis, and in it, you draw random numbers."
   ]
  },
  {
   "cell_type": "code",
   "execution_count": 7,
   "metadata": {},
   "outputs": [
    {
     "name": "stdout",
     "output_type": "stream",
     "text": [
      "[0.20034353 0.21359254 0.16763608 0.56544677 0.71566734 0.28068908\n",
      " 0.21907147 0.82679012 0.49017546 0.91681038]\n"
     ]
    }
   ],
   "source": [
    "vector = np.random.uniform(0,1,10)\n",
    "print(vector)"
   ]
  },
  {
   "cell_type": "markdown",
   "metadata": {},
   "source": [
    "### HOW TO SET A SEED:"
   ]
  },
  {
   "cell_type": "code",
   "execution_count": 8,
   "metadata": {},
   "outputs": [
    {
     "name": "stdout",
     "output_type": "stream",
     "text": [
      "[ True  True  True  True  True  True  True  True  True  True]\n"
     ]
    }
   ],
   "source": [
    "np.random.seed(100) # the seed is 100\n",
    "vector = np.random.uniform(0,1,10)\n",
    "np.random.seed(100)\n",
    "vector2 = np.random.uniform(0,1,10)\n",
    "print(vector==vector2)"
   ]
  },
  {
   "cell_type": "markdown",
   "metadata": {},
   "source": [
    "# The dark side of vectors and numpy \n",
    "1. You can't vectorize every operation :(\n",
    "2. Can be prohibitive, memory-wise: When you run an array operation, Python creates the entire array and puts it into memory, then runs it. A vector of length 1,000,000,000,000 is huge and requires substantial memory to create. By contrast, you can execute for i in range(1,000,000,000,000): pass without causing an issue, because Python **never created that vector, it just iterated over numbers**. This is because range(#) is a \"generator\" and not an explicit object.\n"
   ]
  },
  {
   "cell_type": "markdown",
   "metadata": {},
   "source": [
    "# Numpy Practice: (After Class HW)"
   ]
  },
  {
   "cell_type": "code",
   "execution_count": 9,
   "metadata": {},
   "outputs": [
    {
     "name": "stdout",
     "output_type": "stream",
     "text": [
      "array a:\n",
      "[[0 1]\n",
      " [2 3]]\n",
      "\n",
      "Maximum value of a:\n",
      "3\n",
      "\n",
      "Minimum value of a:\n",
      "0\n",
      "\n",
      "Return an array of the max in each column of a:\n",
      "2\n",
      "3\n",
      "\n",
      "Return an array of the min in each row of a:\n",
      "1\n",
      "3\n",
      "\n",
      "Return a, sorted within each row:\n",
      "[[0 1]\n",
      " [2 3]]\n",
      "\n",
      "Return a, sorted within each column:\n",
      "[[0 1]\n",
      " [2 3]]\n"
     ]
    }
   ],
   "source": [
    "a = np.arange(4).reshape((2,2))\n",
    "print(\"array a:\")\n",
    "print(a)\n",
    "\n",
    "print(\"\\nMaximum value of a:\")\n",
    "print(np.amax(a)) # put your answer inside the print\n",
    "\n",
    "print(\"\\nMinimum value of a:\")\n",
    "print(np.amin(a)) # put your answer inside the print\n",
    "\n",
    "print(\"\\nReturn an array of the max in each column of a:\")\n",
    "print(np.amax(a[:,0])) # put your answer inside the print\n",
    "print(np.amax(a[:,1]))\n",
    "\n",
    "print(\"\\nReturn an array of the min in each row of a:\")\n",
    "print(np.amax(a[0])) # put your answer inside the print\n",
    "print(np.amax(a[1]))\n",
    "\n",
    "print(\"\\nReturn a, sorted within each row:\")\n",
    "print(np.sort(a,axis=0))\n",
    "\n",
    "print(\"\\nReturn a, sorted within each column:\")\n",
    "print(np.sort(a,axis=1))"
   ]
  },
  {
   "cell_type": "code",
   "execution_count": 10,
   "metadata": {},
   "outputs": [
    {
     "name": "stdout",
     "output_type": "stream",
     "text": [
      "array b:\n",
      "[[ 0  1]\n",
      " [ 2  3]\n",
      " [ 4  5]\n",
      " [ 6  7]\n",
      " [ 8  9]\n",
      " [10 11]\n",
      " [12 13]\n",
      " [14 15]\n",
      " [16 17]\n",
      " [18 19]\n",
      " [20 21]\n",
      " [22 23]\n",
      " [24 25]\n",
      " [26 27]\n",
      " [28 29]\n",
      " [30 31]\n",
      " [32 33]\n",
      " [34 35]\n",
      " [36 37]\n",
      " [38 39]]\n",
      "\n",
      "Print elements of the first column of b above that column's 80th percentile:\n",
      "[19. 20.]\n",
      "\n",
      "Covariance matrix of the columns of b:\n",
      "[[0.5 0.5 0.5 0.5 0.5 0.5 0.5 0.5 0.5 0.5 0.5 0.5 0.5 0.5 0.5 0.5 0.5 0.5\n",
      "  0.5 0.5]\n",
      " [0.5 0.5 0.5 0.5 0.5 0.5 0.5 0.5 0.5 0.5 0.5 0.5 0.5 0.5 0.5 0.5 0.5 0.5\n",
      "  0.5 0.5]\n",
      " [0.5 0.5 0.5 0.5 0.5 0.5 0.5 0.5 0.5 0.5 0.5 0.5 0.5 0.5 0.5 0.5 0.5 0.5\n",
      "  0.5 0.5]\n",
      " [0.5 0.5 0.5 0.5 0.5 0.5 0.5 0.5 0.5 0.5 0.5 0.5 0.5 0.5 0.5 0.5 0.5 0.5\n",
      "  0.5 0.5]\n",
      " [0.5 0.5 0.5 0.5 0.5 0.5 0.5 0.5 0.5 0.5 0.5 0.5 0.5 0.5 0.5 0.5 0.5 0.5\n",
      "  0.5 0.5]\n",
      " [0.5 0.5 0.5 0.5 0.5 0.5 0.5 0.5 0.5 0.5 0.5 0.5 0.5 0.5 0.5 0.5 0.5 0.5\n",
      "  0.5 0.5]\n",
      " [0.5 0.5 0.5 0.5 0.5 0.5 0.5 0.5 0.5 0.5 0.5 0.5 0.5 0.5 0.5 0.5 0.5 0.5\n",
      "  0.5 0.5]\n",
      " [0.5 0.5 0.5 0.5 0.5 0.5 0.5 0.5 0.5 0.5 0.5 0.5 0.5 0.5 0.5 0.5 0.5 0.5\n",
      "  0.5 0.5]\n",
      " [0.5 0.5 0.5 0.5 0.5 0.5 0.5 0.5 0.5 0.5 0.5 0.5 0.5 0.5 0.5 0.5 0.5 0.5\n",
      "  0.5 0.5]\n",
      " [0.5 0.5 0.5 0.5 0.5 0.5 0.5 0.5 0.5 0.5 0.5 0.5 0.5 0.5 0.5 0.5 0.5 0.5\n",
      "  0.5 0.5]\n",
      " [0.5 0.5 0.5 0.5 0.5 0.5 0.5 0.5 0.5 0.5 0.5 0.5 0.5 0.5 0.5 0.5 0.5 0.5\n",
      "  0.5 0.5]\n",
      " [0.5 0.5 0.5 0.5 0.5 0.5 0.5 0.5 0.5 0.5 0.5 0.5 0.5 0.5 0.5 0.5 0.5 0.5\n",
      "  0.5 0.5]\n",
      " [0.5 0.5 0.5 0.5 0.5 0.5 0.5 0.5 0.5 0.5 0.5 0.5 0.5 0.5 0.5 0.5 0.5 0.5\n",
      "  0.5 0.5]\n",
      " [0.5 0.5 0.5 0.5 0.5 0.5 0.5 0.5 0.5 0.5 0.5 0.5 0.5 0.5 0.5 0.5 0.5 0.5\n",
      "  0.5 0.5]\n",
      " [0.5 0.5 0.5 0.5 0.5 0.5 0.5 0.5 0.5 0.5 0.5 0.5 0.5 0.5 0.5 0.5 0.5 0.5\n",
      "  0.5 0.5]\n",
      " [0.5 0.5 0.5 0.5 0.5 0.5 0.5 0.5 0.5 0.5 0.5 0.5 0.5 0.5 0.5 0.5 0.5 0.5\n",
      "  0.5 0.5]\n",
      " [0.5 0.5 0.5 0.5 0.5 0.5 0.5 0.5 0.5 0.5 0.5 0.5 0.5 0.5 0.5 0.5 0.5 0.5\n",
      "  0.5 0.5]\n",
      " [0.5 0.5 0.5 0.5 0.5 0.5 0.5 0.5 0.5 0.5 0.5 0.5 0.5 0.5 0.5 0.5 0.5 0.5\n",
      "  0.5 0.5]\n",
      " [0.5 0.5 0.5 0.5 0.5 0.5 0.5 0.5 0.5 0.5 0.5 0.5 0.5 0.5 0.5 0.5 0.5 0.5\n",
      "  0.5 0.5]\n",
      " [0.5 0.5 0.5 0.5 0.5 0.5 0.5 0.5 0.5 0.5 0.5 0.5 0.5 0.5 0.5 0.5 0.5 0.5\n",
      "  0.5 0.5]]\n"
     ]
    }
   ],
   "source": [
    "b = np.arange(40).reshape((20,2))\n",
    "print(\"array b:\")\n",
    "print(b)\n",
    "\n",
    "print(\"\\nPrint elements of the first column of b above that column's 80th percentile:\")\n",
    "print(np.percentile(b, 50, axis=0)) \n",
    "\n",
    "print(\"\\nCovariance matrix of the columns of b:\")\n",
    "print(np.cov(b))\n"
   ]
  },
  {
   "cell_type": "code",
   "execution_count": null,
   "metadata": {},
   "outputs": [],
   "source": []
  }
 ],
 "metadata": {
  "kernelspec": {
   "display_name": "Python 3",
   "language": "python",
   "name": "python3"
  },
  "language_info": {
   "codemirror_mode": {
    "name": "ipython",
    "version": 3
   },
   "file_extension": ".py",
   "mimetype": "text/x-python",
   "name": "python",
   "nbconvert_exporter": "python",
   "pygments_lexer": "ipython3",
   "version": "3.7.4"
  }
 },
 "nbformat": 4,
 "nbformat_minor": 2
}
