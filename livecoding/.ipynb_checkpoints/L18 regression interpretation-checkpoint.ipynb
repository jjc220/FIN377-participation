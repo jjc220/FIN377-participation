{
 "cells": [
  {
   "cell_type": "markdown",
   "metadata": {},
   "source": [
    "# Regressions"
   ]
  },
  {
   "cell_type": "code",
   "execution_count": 24,
   "metadata": {},
   "outputs": [],
   "source": [
    "# load some data to practice regressions\n",
    "import pandas as pd\n",
    "import seaborn as sns\n",
    "import numpy as np\n",
    "import matplotlib.pyplot as plt\n",
    "import statsmodels.api as sm  # one way to do regs\n",
    "from sklearn.linear_model import LinearRegression\n",
    "\n",
    "diamonds = sns.load_dataset('diamonds')\n",
    "\n",
    "# this alteration is not strictly necessary to practice a regression\n",
    "# but we use this in livecoding\n",
    "diamonds2 = (diamonds.query('carat < 2.5')               # censor/remove outliers\n",
    "            .assign(lprice = np.log(diamonds['price']))  # log transform price\n",
    "            .assign(lcarat = np.log(diamonds['carat']))  # log transform carats\n",
    "            .assign(ideal = diamonds['cut'] == 'Ideal') \n",
    "             \n",
    "             # some regression packages want you to explicitly provide \n",
    "             # a variable for the constant\n",
    "            .assign(const = 1)                           \n",
    "            )  "
   ]
  },
  {
   "cell_type": "code",
   "execution_count": 25,
   "metadata": {},
   "outputs": [
    {
     "name": "stdout",
     "output_type": "stream",
     "text": [
      "                            OLS Regression Results                            \n",
      "==============================================================================\n",
      "Dep. Variable:                 lprice   R-squared:                       0.933\n",
      "Model:                            OLS   Adj. R-squared:                  0.933\n",
      "Method:                 Least Squares   F-statistic:                 7.542e+05\n",
      "Date:                Fri, 17 Apr 2020   Prob (F-statistic):               0.00\n",
      "Time:                        18:23:57   Log-Likelihood:                -4073.2\n",
      "No. Observations:               53797   AIC:                             8150.\n",
      "Df Residuals:                   53795   BIC:                             8168.\n",
      "Df Model:                           1                                         \n",
      "Covariance Type:            nonrobust                                         \n",
      "==============================================================================\n",
      "                 coef    std err          t      P>|t|      [0.025      0.975]\n",
      "------------------------------------------------------------------------------\n",
      "Intercept      8.4525      0.001   6193.432      0.000       8.450       8.455\n",
      "lcarat         1.6819      0.002    868.465      0.000       1.678       1.686\n",
      "==============================================================================\n",
      "Omnibus:                      775.052   Durbin-Watson:                   1.211\n",
      "Prob(Omnibus):                  0.000   Jarque-Bera (JB):             1334.265\n",
      "Skew:                           0.106   Prob(JB):                    1.85e-290\n",
      "Kurtosis:                       3.742   Cond. No.                         2.10\n",
      "==============================================================================\n",
      "\n",
      "Warnings:\n",
      "[1] Standard Errors assume that the covariance matrix of the errors is correctly specified.\n"
     ]
    }
   ],
   "source": [
    "from statsmodels.formula.api import ols as sm_ols\n",
    "model2   = sm_ols('lprice ~ lcarat',  # specify model (you don't need to include the constant!)\n",
    "                  data=diamonds2)\n",
    "results2 = model2.fit()               # estimate / fit\n",
    "print(results2.summary())             # view results ... identical to before\n",
    "\n",
    "# the prediction and residual and plotting are the exact same"
   ]
  },
  {
   "cell_type": "code",
   "execution_count": 26,
   "metadata": {},
   "outputs": [
    {
     "data": {
      "text/html": [
       "<table class=\"simpletable\">\n",
       "<caption>OLS Regression Results</caption>\n",
       "<tr>\n",
       "  <th>Dep. Variable:</th>         <td>lprice</td>      <th>  R-squared:         </th> <td>   0.934</td> \n",
       "</tr>\n",
       "<tr>\n",
       "  <th>Model:</th>                   <td>OLS</td>       <th>  Adj. R-squared:    </th> <td>   0.934</td> \n",
       "</tr>\n",
       "<tr>\n",
       "  <th>Method:</th>             <td>Least Squares</td>  <th>  F-statistic:       </th> <td>3.789e+05</td>\n",
       "</tr>\n",
       "<tr>\n",
       "  <th>Date:</th>             <td>Fri, 17 Apr 2020</td> <th>  Prob (F-statistic):</th>  <td>  0.00</td>  \n",
       "</tr>\n",
       "<tr>\n",
       "  <th>Time:</th>                 <td>18:23:57</td>     <th>  Log-Likelihood:    </th> <td> -3957.1</td> \n",
       "</tr>\n",
       "<tr>\n",
       "  <th>No. Observations:</th>      <td> 53797</td>      <th>  AIC:               </th> <td>   7920.</td> \n",
       "</tr>\n",
       "<tr>\n",
       "  <th>Df Residuals:</th>          <td> 53794</td>      <th>  BIC:               </th> <td>   7947.</td> \n",
       "</tr>\n",
       "<tr>\n",
       "  <th>Df Model:</th>              <td>     2</td>      <th>                     </th>     <td> </td>    \n",
       "</tr>\n",
       "<tr>\n",
       "  <th>Covariance Type:</th>      <td>nonrobust</td>    <th>                     </th>     <td> </td>    \n",
       "</tr>\n",
       "</table>\n",
       "<table class=\"simpletable\">\n",
       "<tr>\n",
       "      <td></td>         <th>coef</th>     <th>std err</th>      <th>t</th>      <th>P>|t|</th>  <th>[0.025</th>    <th>0.975]</th>  \n",
       "</tr>\n",
       "<tr>\n",
       "  <th>Intercept</th> <td>    7.7340</td> <td>    0.047</td> <td>  164.086</td> <td> 0.000</td> <td>    7.642</td> <td>    7.826</td>\n",
       "</tr>\n",
       "<tr>\n",
       "  <th>lcarat</th>    <td>    1.4719</td> <td>    0.014</td> <td>  105.852</td> <td> 0.000</td> <td>    1.445</td> <td>    1.499</td>\n",
       "</tr>\n",
       "<tr>\n",
       "  <th>x</th>         <td>    0.1109</td> <td>    0.007</td> <td>   15.250</td> <td> 0.000</td> <td>    0.097</td> <td>    0.125</td>\n",
       "</tr>\n",
       "</table>\n",
       "<table class=\"simpletable\">\n",
       "<tr>\n",
       "  <th>Omnibus:</th>       <td>861.522</td> <th>  Durbin-Watson:     </th> <td>   1.239</td>\n",
       "</tr>\n",
       "<tr>\n",
       "  <th>Prob(Omnibus):</th> <td> 0.000</td>  <th>  Jarque-Bera (JB):  </th> <td>1526.077</td>\n",
       "</tr>\n",
       "<tr>\n",
       "  <th>Skew:</th>          <td> 0.114</td>  <th>  Prob(JB):          </th> <td>    0.00</td>\n",
       "</tr>\n",
       "<tr>\n",
       "  <th>Kurtosis:</th>      <td> 3.793</td>  <th>  Cond. No.          </th> <td>    262.</td>\n",
       "</tr>\n",
       "</table><br/><br/>Warnings:<br/>[1] Standard Errors assume that the covariance matrix of the errors is correctly specified."
      ],
      "text/plain": [
       "<class 'statsmodels.iolib.summary.Summary'>\n",
       "\"\"\"\n",
       "                            OLS Regression Results                            \n",
       "==============================================================================\n",
       "Dep. Variable:                 lprice   R-squared:                       0.934\n",
       "Model:                            OLS   Adj. R-squared:                  0.934\n",
       "Method:                 Least Squares   F-statistic:                 3.789e+05\n",
       "Date:                Fri, 17 Apr 2020   Prob (F-statistic):               0.00\n",
       "Time:                        18:23:57   Log-Likelihood:                -3957.1\n",
       "No. Observations:               53797   AIC:                             7920.\n",
       "Df Residuals:                   53794   BIC:                             7947.\n",
       "Df Model:                           2                                         \n",
       "Covariance Type:            nonrobust                                         \n",
       "==============================================================================\n",
       "                 coef    std err          t      P>|t|      [0.025      0.975]\n",
       "------------------------------------------------------------------------------\n",
       "Intercept      7.7340      0.047    164.086      0.000       7.642       7.826\n",
       "lcarat         1.4719      0.014    105.852      0.000       1.445       1.499\n",
       "x              0.1109      0.007     15.250      0.000       0.097       0.125\n",
       "==============================================================================\n",
       "Omnibus:                      861.522   Durbin-Watson:                   1.239\n",
       "Prob(Omnibus):                  0.000   Jarque-Bera (JB):             1526.077\n",
       "Skew:                           0.114   Prob(JB):                         0.00\n",
       "Kurtosis:                       3.793   Cond. No.                         262.\n",
       "==============================================================================\n",
       "\n",
       "Warnings:\n",
       "[1] Standard Errors assume that the covariance matrix of the errors is correctly specified.\n",
       "\"\"\""
      ]
     },
     "execution_count": 26,
     "metadata": {},
     "output_type": "execute_result"
    }
   ],
   "source": [
    "#### let's work here\n",
    "sm_ols('lprice~ lcarat + x', data=diamonds2).fit().summary()"
   ]
  },
  {
   "cell_type": "code",
   "execution_count": 27,
   "metadata": {},
   "outputs": [
    {
     "data": {
      "text/html": [
       "<table class=\"simpletable\">\n",
       "<caption>OLS Regression Results</caption>\n",
       "<tr>\n",
       "  <th>Dep. Variable:</th>         <td>lprice</td>      <th>  R-squared:         </th> <td>   0.860</td> \n",
       "</tr>\n",
       "<tr>\n",
       "  <th>Model:</th>                   <td>OLS</td>       <th>  Adj. R-squared:    </th> <td>   0.860</td> \n",
       "</tr>\n",
       "<tr>\n",
       "  <th>Method:</th>             <td>Least Squares</td>  <th>  F-statistic:       </th> <td>1.655e+05</td>\n",
       "</tr>\n",
       "<tr>\n",
       "  <th>Date:</th>             <td>Fri, 17 Apr 2020</td> <th>  Prob (F-statistic):</th>  <td>  0.00</td>  \n",
       "</tr>\n",
       "<tr>\n",
       "  <th>Time:</th>                 <td>18:23:58</td>     <th>  Log-Likelihood:    </th> <td> -24032.</td> \n",
       "</tr>\n",
       "<tr>\n",
       "  <th>No. Observations:</th>      <td> 53797</td>      <th>  AIC:               </th> <td>4.807e+04</td>\n",
       "</tr>\n",
       "<tr>\n",
       "  <th>Df Residuals:</th>          <td> 53794</td>      <th>  BIC:               </th> <td>4.810e+04</td>\n",
       "</tr>\n",
       "<tr>\n",
       "  <th>Df Model:</th>              <td>     2</td>      <th>                     </th>     <td> </td>    \n",
       "</tr>\n",
       "<tr>\n",
       "  <th>Covariance Type:</th>      <td>nonrobust</td>    <th>                     </th>     <td> </td>    \n",
       "</tr>\n",
       "</table>\n",
       "<table class=\"simpletable\">\n",
       "<tr>\n",
       "        <td></td>           <th>coef</th>     <th>std err</th>      <th>t</th>      <th>P>|t|</th>  <th>[0.025</th>    <th>0.975]</th>  \n",
       "</tr>\n",
       "<tr>\n",
       "  <th>Intercept</th>     <td>    6.1387</td> <td>    0.004</td> <td> 1656.718</td> <td> 0.000</td> <td>    6.131</td> <td>    6.146</td>\n",
       "</tr>\n",
       "<tr>\n",
       "  <th>ideal[T.True]</th> <td>    0.0717</td> <td>    0.003</td> <td>   21.264</td> <td> 0.000</td> <td>    0.065</td> <td>    0.078</td>\n",
       "</tr>\n",
       "<tr>\n",
       "  <th>carat</th>         <td>    2.0368</td> <td>    0.004</td> <td>  570.680</td> <td> 0.000</td> <td>    2.030</td> <td>    2.044</td>\n",
       "</tr>\n",
       "</table>\n",
       "<table class=\"simpletable\">\n",
       "<tr>\n",
       "  <th>Omnibus:</th>       <td>1907.568</td> <th>  Durbin-Watson:     </th> <td>   0.978</td>\n",
       "</tr>\n",
       "<tr>\n",
       "  <th>Prob(Omnibus):</th>  <td> 0.000</td>  <th>  Jarque-Bera (JB):  </th> <td>2652.335</td>\n",
       "</tr>\n",
       "<tr>\n",
       "  <th>Skew:</th>           <td>-0.371</td>  <th>  Prob(JB):          </th> <td>    0.00</td>\n",
       "</tr>\n",
       "<tr>\n",
       "  <th>Kurtosis:</th>       <td> 3.795</td>  <th>  Cond. No.          </th> <td>    4.32</td>\n",
       "</tr>\n",
       "</table><br/><br/>Warnings:<br/>[1] Standard Errors assume that the covariance matrix of the errors is correctly specified."
      ],
      "text/plain": [
       "<class 'statsmodels.iolib.summary.Summary'>\n",
       "\"\"\"\n",
       "                            OLS Regression Results                            \n",
       "==============================================================================\n",
       "Dep. Variable:                 lprice   R-squared:                       0.860\n",
       "Model:                            OLS   Adj. R-squared:                  0.860\n",
       "Method:                 Least Squares   F-statistic:                 1.655e+05\n",
       "Date:                Fri, 17 Apr 2020   Prob (F-statistic):               0.00\n",
       "Time:                        18:23:58   Log-Likelihood:                -24032.\n",
       "No. Observations:               53797   AIC:                         4.807e+04\n",
       "Df Residuals:                   53794   BIC:                         4.810e+04\n",
       "Df Model:                           2                                         \n",
       "Covariance Type:            nonrobust                                         \n",
       "=================================================================================\n",
       "                    coef    std err          t      P>|t|      [0.025      0.975]\n",
       "---------------------------------------------------------------------------------\n",
       "Intercept         6.1387      0.004   1656.718      0.000       6.131       6.146\n",
       "ideal[T.True]     0.0717      0.003     21.264      0.000       0.065       0.078\n",
       "carat             2.0368      0.004    570.680      0.000       2.030       2.044\n",
       "==============================================================================\n",
       "Omnibus:                     1907.568   Durbin-Watson:                   0.978\n",
       "Prob(Omnibus):                  0.000   Jarque-Bera (JB):             2652.335\n",
       "Skew:                          -0.371   Prob(JB):                         0.00\n",
       "Kurtosis:                       3.795   Cond. No.                         4.32\n",
       "==============================================================================\n",
       "\n",
       "Warnings:\n",
       "[1] Standard Errors assume that the covariance matrix of the errors is correctly specified.\n",
       "\"\"\""
      ]
     },
     "execution_count": 27,
     "metadata": {},
     "output_type": "execute_result"
    }
   ],
   "source": [
    "# exercise time...\n",
    "#% increase in price for ideal diamonds..\n",
    "sm_ols('lprice~ carat + ideal', data=diamonds2).fit().summary()"
   ]
  },
  {
   "cell_type": "markdown",
   "metadata": {},
   "source": [
    "### questions\n",
    "If x (the diamonds 2 variable \"x\") goes up by\n",
    "1.    1%, how much does price go up?\n",
    "2.    1, how much does price go up?\n",
    "3.    1%, what % does price go up?\n",
    "4.    1, what % does price go up?"
   ]
  },
  {
   "cell_type": "code",
   "execution_count": 28,
   "metadata": {},
   "outputs": [
    {
     "data": {
      "text/html": [
       "<table class=\"simpletable\">\n",
       "<caption>OLS Regression Results</caption>\n",
       "<tr>\n",
       "  <th>Dep. Variable:</th>         <td>lprice</td>      <th>  R-squared:         </th> <td>   0.920</td> \n",
       "</tr>\n",
       "<tr>\n",
       "  <th>Model:</th>                   <td>OLS</td>       <th>  Adj. R-squared:    </th> <td>   0.920</td> \n",
       "</tr>\n",
       "<tr>\n",
       "  <th>Method:</th>             <td>Least Squares</td>  <th>  F-statistic:       </th> <td>6.178e+05</td>\n",
       "</tr>\n",
       "<tr>\n",
       "  <th>Date:</th>             <td>Fri, 17 Apr 2020</td> <th>  Prob (F-statistic):</th>  <td>  0.00</td>  \n",
       "</tr>\n",
       "<tr>\n",
       "  <th>Time:</th>                 <td>18:23:58</td>     <th>  Log-Likelihood:    </th> <td> -9046.4</td> \n",
       "</tr>\n",
       "<tr>\n",
       "  <th>No. Observations:</th>      <td> 53797</td>      <th>  AIC:               </th> <td>1.810e+04</td>\n",
       "</tr>\n",
       "<tr>\n",
       "  <th>Df Residuals:</th>          <td> 53795</td>      <th>  BIC:               </th> <td>1.811e+04</td>\n",
       "</tr>\n",
       "<tr>\n",
       "  <th>Df Model:</th>              <td>     1</td>      <th>                     </th>     <td> </td>    \n",
       "</tr>\n",
       "<tr>\n",
       "  <th>Covariance Type:</th>      <td>nonrobust</td>    <th>                     </th>     <td> </td>    \n",
       "</tr>\n",
       "</table>\n",
       "<table class=\"simpletable\">\n",
       "<tr>\n",
       "      <td></td>         <th>coef</th>     <th>std err</th>      <th>t</th>      <th>P>|t|</th>  <th>[0.025</th>    <th>0.975]</th>  \n",
       "</tr>\n",
       "<tr>\n",
       "  <th>Intercept</th> <td>    2.7839</td> <td>    0.006</td> <td>  429.802</td> <td> 0.000</td> <td>    2.771</td> <td>    2.797</td>\n",
       "</tr>\n",
       "<tr>\n",
       "  <th>x</th>         <td>    0.8734</td> <td>    0.001</td> <td>  786.023</td> <td> 0.000</td> <td>    0.871</td> <td>    0.876</td>\n",
       "</tr>\n",
       "</table>\n",
       "<table class=\"simpletable\">\n",
       "<tr>\n",
       "  <th>Omnibus:</th>       <td>26134.530</td> <th>  Durbin-Watson:     </th>  <td>   1.347</td>  \n",
       "</tr>\n",
       "<tr>\n",
       "  <th>Prob(Omnibus):</th>  <td> 0.000</td>   <th>  Jarque-Bera (JB):  </th> <td>2234521.963</td>\n",
       "</tr>\n",
       "<tr>\n",
       "  <th>Skew:</th>           <td> 1.446</td>   <th>  Prob(JB):          </th>  <td>    0.00</td>  \n",
       "</tr>\n",
       "<tr>\n",
       "  <th>Kurtosis:</th>       <td>34.441</td>   <th>  Cond. No.          </th>  <td>    31.5</td>  \n",
       "</tr>\n",
       "</table><br/><br/>Warnings:<br/>[1] Standard Errors assume that the covariance matrix of the errors is correctly specified."
      ],
      "text/plain": [
       "<class 'statsmodels.iolib.summary.Summary'>\n",
       "\"\"\"\n",
       "                            OLS Regression Results                            \n",
       "==============================================================================\n",
       "Dep. Variable:                 lprice   R-squared:                       0.920\n",
       "Model:                            OLS   Adj. R-squared:                  0.920\n",
       "Method:                 Least Squares   F-statistic:                 6.178e+05\n",
       "Date:                Fri, 17 Apr 2020   Prob (F-statistic):               0.00\n",
       "Time:                        18:23:58   Log-Likelihood:                -9046.4\n",
       "No. Observations:               53797   AIC:                         1.810e+04\n",
       "Df Residuals:                   53795   BIC:                         1.811e+04\n",
       "Df Model:                           1                                         \n",
       "Covariance Type:            nonrobust                                         \n",
       "==============================================================================\n",
       "                 coef    std err          t      P>|t|      [0.025      0.975]\n",
       "------------------------------------------------------------------------------\n",
       "Intercept      2.7839      0.006    429.802      0.000       2.771       2.797\n",
       "x              0.8734      0.001    786.023      0.000       0.871       0.876\n",
       "==============================================================================\n",
       "Omnibus:                    26134.530   Durbin-Watson:                   1.347\n",
       "Prob(Omnibus):                  0.000   Jarque-Bera (JB):          2234521.963\n",
       "Skew:                           1.446   Prob(JB):                         0.00\n",
       "Kurtosis:                      34.441   Cond. No.                         31.5\n",
       "==============================================================================\n",
       "\n",
       "Warnings:\n",
       "[1] Standard Errors assume that the covariance matrix of the errors is correctly specified.\n",
       "\"\"\""
      ]
     },
     "execution_count": 28,
     "metadata": {},
     "output_type": "execute_result"
    }
   ],
   "source": [
    "sm_ols('lprice~x', data=diamonds2).fit().summary()  #87%....Part D"
   ]
  },
  {
   "cell_type": "code",
   "execution_count": 29,
   "metadata": {},
   "outputs": [
    {
     "data": {
      "text/html": [
       "<table class=\"simpletable\">\n",
       "<caption>OLS Regression Results</caption>\n",
       "<tr>\n",
       "  <th>Dep. Variable:</th>          <td>price</td>      <th>  R-squared:         </th>  <td>   0.779</td>  \n",
       "</tr>\n",
       "<tr>\n",
       "  <th>Model:</th>                   <td>OLS</td>       <th>  Adj. R-squared:    </th>  <td>   0.779</td>  \n",
       "</tr>\n",
       "<tr>\n",
       "  <th>Method:</th>             <td>Least Squares</td>  <th>  F-statistic:       </th>  <td>1.899e+05</td> \n",
       "</tr>\n",
       "<tr>\n",
       "  <th>Date:</th>             <td>Fri, 17 Apr 2020</td> <th>  Prob (F-statistic):</th>   <td>  0.00</td>   \n",
       "</tr>\n",
       "<tr>\n",
       "  <th>Time:</th>                 <td>18:23:58</td>     <th>  Log-Likelihood:    </th> <td>-4.8120e+05</td>\n",
       "</tr>\n",
       "<tr>\n",
       "  <th>No. Observations:</th>      <td> 53797</td>      <th>  AIC:               </th>  <td>9.624e+05</td> \n",
       "</tr>\n",
       "<tr>\n",
       "  <th>Df Residuals:</th>          <td> 53795</td>      <th>  BIC:               </th>  <td>9.624e+05</td> \n",
       "</tr>\n",
       "<tr>\n",
       "  <th>Df Model:</th>              <td>     1</td>      <th>                     </th>      <td> </td>     \n",
       "</tr>\n",
       "<tr>\n",
       "  <th>Covariance Type:</th>      <td>nonrobust</td>    <th>                     </th>      <td> </td>     \n",
       "</tr>\n",
       "</table>\n",
       "<table class=\"simpletable\">\n",
       "<tr>\n",
       "      <td></td>         <th>coef</th>     <th>std err</th>      <th>t</th>      <th>P>|t|</th>  <th>[0.025</th>    <th>0.975]</th>  \n",
       "</tr>\n",
       "<tr>\n",
       "  <th>Intercept</th> <td>-1.405e+04</td> <td>   41.976</td> <td> -334.776</td> <td> 0.000</td> <td>-1.41e+04</td> <td> -1.4e+04</td>\n",
       "</tr>\n",
       "<tr>\n",
       "  <th>x</th>         <td> 3137.5607</td> <td>    7.201</td> <td>  435.734</td> <td> 0.000</td> <td> 3123.447</td> <td> 3151.674</td>\n",
       "</tr>\n",
       "</table>\n",
       "<table class=\"simpletable\">\n",
       "<tr>\n",
       "  <th>Omnibus:</th>       <td>19264.496</td> <th>  Durbin-Watson:     </th>  <td>   0.420</td> \n",
       "</tr>\n",
       "<tr>\n",
       "  <th>Prob(Omnibus):</th>  <td> 0.000</td>   <th>  Jarque-Bera (JB):  </th> <td>149991.817</td>\n",
       "</tr>\n",
       "<tr>\n",
       "  <th>Skew:</th>           <td> 1.516</td>   <th>  Prob(JB):          </th>  <td>    0.00</td> \n",
       "</tr>\n",
       "<tr>\n",
       "  <th>Kurtosis:</th>       <td>10.598</td>   <th>  Cond. No.          </th>  <td>    31.5</td> \n",
       "</tr>\n",
       "</table><br/><br/>Warnings:<br/>[1] Standard Errors assume that the covariance matrix of the errors is correctly specified."
      ],
      "text/plain": [
       "<class 'statsmodels.iolib.summary.Summary'>\n",
       "\"\"\"\n",
       "                            OLS Regression Results                            \n",
       "==============================================================================\n",
       "Dep. Variable:                  price   R-squared:                       0.779\n",
       "Model:                            OLS   Adj. R-squared:                  0.779\n",
       "Method:                 Least Squares   F-statistic:                 1.899e+05\n",
       "Date:                Fri, 17 Apr 2020   Prob (F-statistic):               0.00\n",
       "Time:                        18:23:58   Log-Likelihood:            -4.8120e+05\n",
       "No. Observations:               53797   AIC:                         9.624e+05\n",
       "Df Residuals:                   53795   BIC:                         9.624e+05\n",
       "Df Model:                           1                                         \n",
       "Covariance Type:            nonrobust                                         \n",
       "==============================================================================\n",
       "                 coef    std err          t      P>|t|      [0.025      0.975]\n",
       "------------------------------------------------------------------------------\n",
       "Intercept  -1.405e+04     41.976   -334.776      0.000   -1.41e+04    -1.4e+04\n",
       "x           3137.5607      7.201    435.734      0.000    3123.447    3151.674\n",
       "==============================================================================\n",
       "Omnibus:                    19264.496   Durbin-Watson:                   0.420\n",
       "Prob(Omnibus):                  0.000   Jarque-Bera (JB):           149991.817\n",
       "Skew:                           1.516   Prob(JB):                         0.00\n",
       "Kurtosis:                      10.598   Cond. No.                         31.5\n",
       "==============================================================================\n",
       "\n",
       "Warnings:\n",
       "[1] Standard Errors assume that the covariance matrix of the errors is correctly specified.\n",
       "\"\"\""
      ]
     },
     "execution_count": 29,
     "metadata": {},
     "output_type": "execute_result"
    }
   ],
   "source": [
    "sm_ols('price~x', data=diamonds2).fit().summary()  #PArt B= $3,3,137"
   ]
  },
  {
   "cell_type": "code",
   "execution_count": 30,
   "metadata": {},
   "outputs": [
    {
     "data": {
      "text/html": [
       "<table class=\"simpletable\">\n",
       "<caption>OLS Regression Results</caption>\n",
       "<tr>\n",
       "  <th>Dep. Variable:</th>          <td>price</td>      <th>  R-squared:         </th>  <td>   0.721</td>  \n",
       "</tr>\n",
       "<tr>\n",
       "  <th>Model:</th>                   <td>OLS</td>       <th>  Adj. R-squared:    </th>  <td>   0.721</td>  \n",
       "</tr>\n",
       "<tr>\n",
       "  <th>Method:</th>             <td>Least Squares</td>  <th>  F-statistic:       </th>  <td>1.393e+05</td> \n",
       "</tr>\n",
       "<tr>\n",
       "  <th>Date:</th>             <td>Fri, 17 Apr 2020</td> <th>  Prob (F-statistic):</th>   <td>  0.00</td>   \n",
       "</tr>\n",
       "<tr>\n",
       "  <th>Time:</th>                 <td>18:23:58</td>     <th>  Log-Likelihood:    </th> <td>-4.8745e+05</td>\n",
       "</tr>\n",
       "<tr>\n",
       "  <th>No. Observations:</th>      <td> 53797</td>      <th>  AIC:               </th>  <td>9.749e+05</td> \n",
       "</tr>\n",
       "<tr>\n",
       "  <th>Df Residuals:</th>          <td> 53795</td>      <th>  BIC:               </th>  <td>9.749e+05</td> \n",
       "</tr>\n",
       "<tr>\n",
       "  <th>Df Model:</th>              <td>     1</td>      <th>                     </th>      <td> </td>     \n",
       "</tr>\n",
       "<tr>\n",
       "  <th>Covariance Type:</th>      <td>nonrobust</td>    <th>                     </th>      <td> </td>     \n",
       "</tr>\n",
       "</table>\n",
       "<table class=\"simpletable\">\n",
       "<tr>\n",
       "      <td></td>         <th>coef</th>     <th>std err</th>      <th>t</th>      <th>P>|t|</th>  <th>[0.025</th>    <th>0.975]</th>  \n",
       "</tr>\n",
       "<tr>\n",
       "  <th>Intercept</th> <td>-3.454e+04</td> <td>  103.384</td> <td> -334.082</td> <td> 0.000</td> <td>-3.47e+04</td> <td>-3.43e+04</td>\n",
       "</tr>\n",
       "<tr>\n",
       "  <th>lx</th>        <td> 2.032e+04</td> <td>   54.439</td> <td>  373.243</td> <td> 0.000</td> <td> 2.02e+04</td> <td> 2.04e+04</td>\n",
       "</tr>\n",
       "</table>\n",
       "<table class=\"simpletable\">\n",
       "<tr>\n",
       "  <th>Omnibus:</th>       <td>36969.119</td> <th>  Durbin-Watson:     </th>  <td>   0.348</td>  \n",
       "</tr>\n",
       "<tr>\n",
       "  <th>Prob(Omnibus):</th>  <td> 0.000</td>   <th>  Jarque-Bera (JB):  </th> <td>2403694.165</td>\n",
       "</tr>\n",
       "<tr>\n",
       "  <th>Skew:</th>           <td> 2.641</td>   <th>  Prob(JB):          </th>  <td>    0.00</td>  \n",
       "</tr>\n",
       "<tr>\n",
       "  <th>Kurtosis:</th>       <td>35.318</td>   <th>  Cond. No.          </th>  <td>    27.9</td>  \n",
       "</tr>\n",
       "</table><br/><br/>Warnings:<br/>[1] Standard Errors assume that the covariance matrix of the errors is correctly specified."
      ],
      "text/plain": [
       "<class 'statsmodels.iolib.summary.Summary'>\n",
       "\"\"\"\n",
       "                            OLS Regression Results                            \n",
       "==============================================================================\n",
       "Dep. Variable:                  price   R-squared:                       0.721\n",
       "Model:                            OLS   Adj. R-squared:                  0.721\n",
       "Method:                 Least Squares   F-statistic:                 1.393e+05\n",
       "Date:                Fri, 17 Apr 2020   Prob (F-statistic):               0.00\n",
       "Time:                        18:23:58   Log-Likelihood:            -4.8745e+05\n",
       "No. Observations:               53797   AIC:                         9.749e+05\n",
       "Df Residuals:                   53795   BIC:                         9.749e+05\n",
       "Df Model:                           1                                         \n",
       "Covariance Type:            nonrobust                                         \n",
       "==============================================================================\n",
       "                 coef    std err          t      P>|t|      [0.025      0.975]\n",
       "------------------------------------------------------------------------------\n",
       "Intercept  -3.454e+04    103.384   -334.082      0.000   -3.47e+04   -3.43e+04\n",
       "lx          2.032e+04     54.439    373.243      0.000    2.02e+04    2.04e+04\n",
       "==============================================================================\n",
       "Omnibus:                    36969.119   Durbin-Watson:                   0.348\n",
       "Prob(Omnibus):                  0.000   Jarque-Bera (JB):          2403694.165\n",
       "Skew:                           2.641   Prob(JB):                         0.00\n",
       "Kurtosis:                      35.318   Cond. No.                         27.9\n",
       "==============================================================================\n",
       "\n",
       "Warnings:\n",
       "[1] Standard Errors assume that the covariance matrix of the errors is correctly specified.\n",
       "\"\"\""
      ]
     },
     "execution_count": 30,
     "metadata": {},
     "output_type": "execute_result"
    }
   ],
   "source": [
    "sm_ols('price~lx', data=diamonds2.assign(lx=np.log(1+diamonds2['x']))\n",
    "      ).fit().summary()"
   ]
  },
  {
   "cell_type": "code",
   "execution_count": 31,
   "metadata": {},
   "outputs": [
    {
     "name": "stdout",
     "output_type": "stream",
     "text": [
      "                            OLS Regression Results                            \n",
      "==============================================================================\n",
      "Dep. Variable:                 lprice   R-squared:                       0.936\n",
      "Model:                            OLS   Adj. R-squared:                  0.936\n",
      "Method:                 Least Squares   F-statistic:                 3.914e+05\n",
      "Date:                Fri, 17 Apr 2020   Prob (F-statistic):               0.00\n",
      "Time:                        18:23:59   Log-Likelihood:                -3136.4\n",
      "No. Observations:               53797   AIC:                             6279.\n",
      "Df Residuals:                   53794   BIC:                             6306.\n",
      "Df Model:                           2                                         \n",
      "Covariance Type:            nonrobust                                         \n",
      "=================================================================================\n",
      "                    coef    std err          t      P>|t|      [0.025      0.975]\n",
      "---------------------------------------------------------------------------------\n",
      "Intercept         8.4182      0.002   5415.779      0.000       8.415       8.421\n",
      "ideal[T.True]     0.1000      0.002     43.662      0.000       0.096       0.105\n",
      "lcarat            1.6963      0.002    878.286      0.000       1.692       1.700\n",
      "==============================================================================\n",
      "Omnibus:                      794.680   Durbin-Watson:                   1.241\n",
      "Prob(Omnibus):                  0.000   Jarque-Bera (JB):             1394.941\n",
      "Skew:                           0.101   Prob(JB):                    1.24e-303\n",
      "Kurtosis:                       3.763   Cond. No.                         2.67\n",
      "==============================================================================\n",
      "\n",
      "Warnings:\n",
      "[1] Standard Errors assume that the covariance matrix of the errors is correctly specified.\n"
     ]
    }
   ],
   "source": [
    "model_ideal=sm_ols('lprice~lcarat + ideal',\n",
    "                data=diamonds2)\n",
    "results_ideal = model_ideal.fit()               # estimate / fit\n",
    "print(results_ideal.summary())  "
   ]
  },
  {
   "cell_type": "code",
   "execution_count": 32,
   "metadata": {},
   "outputs": [
    {
     "data": {
      "text/html": [
       "<table class=\"simpletable\">\n",
       "<caption>OLS Regression Results</caption>\n",
       "<tr>\n",
       "  <th>Dep. Variable:</th>         <td>lprice</td>      <th>  R-squared:         </th> <td>   0.018</td> \n",
       "</tr>\n",
       "<tr>\n",
       "  <th>Model:</th>                   <td>OLS</td>       <th>  Adj. R-squared:    </th> <td>   0.017</td> \n",
       "</tr>\n",
       "<tr>\n",
       "  <th>Method:</th>             <td>Least Squares</td>  <th>  F-statistic:       </th> <td>   239.6</td> \n",
       "</tr>\n",
       "<tr>\n",
       "  <th>Date:</th>             <td>Fri, 17 Apr 2020</td> <th>  Prob (F-statistic):</th> <td>2.66e-204</td>\n",
       "</tr>\n",
       "<tr>\n",
       "  <th>Time:</th>                 <td>18:23:59</td>     <th>  Log-Likelihood:    </th> <td> -76477.</td> \n",
       "</tr>\n",
       "<tr>\n",
       "  <th>No. Observations:</th>      <td> 53797</td>      <th>  AIC:               </th> <td>1.530e+05</td>\n",
       "</tr>\n",
       "<tr>\n",
       "  <th>Df Residuals:</th>          <td> 53792</td>      <th>  BIC:               </th> <td>1.530e+05</td>\n",
       "</tr>\n",
       "<tr>\n",
       "  <th>Df Model:</th>              <td>     4</td>      <th>                     </th>     <td> </td>    \n",
       "</tr>\n",
       "<tr>\n",
       "  <th>Covariance Type:</th>      <td>nonrobust</td>    <th>                     </th>     <td> </td>    \n",
       "</tr>\n",
       "</table>\n",
       "<table class=\"simpletable\">\n",
       "<tr>\n",
       "          <td></td>            <th>coef</th>     <th>std err</th>      <th>t</th>      <th>P>|t|</th>  <th>[0.025</th>    <th>0.975]</th>  \n",
       "</tr>\n",
       "<tr>\n",
       "  <th>Intercept</th>        <td>    8.0688</td> <td>    0.025</td> <td>  320.067</td> <td> 0.000</td> <td>    8.019</td> <td>    8.118</td>\n",
       "</tr>\n",
       "<tr>\n",
       "  <th>cut[T.Good]</th>      <td>   -0.2328</td> <td>    0.029</td> <td>   -8.025</td> <td> 0.000</td> <td>   -0.290</td> <td>   -0.176</td>\n",
       "</tr>\n",
       "<tr>\n",
       "  <th>cut[T.Ideal]</th>     <td>   -0.4319</td> <td>    0.026</td> <td>  -16.536</td> <td> 0.000</td> <td>   -0.483</td> <td>   -0.381</td>\n",
       "</tr>\n",
       "<tr>\n",
       "  <th>cut[T.Premium]</th>   <td>   -0.1241</td> <td>    0.027</td> <td>   -4.663</td> <td> 0.000</td> <td>   -0.176</td> <td>   -0.072</td>\n",
       "</tr>\n",
       "<tr>\n",
       "  <th>cut[T.Very Good]</th> <td>   -0.2732</td> <td>    0.027</td> <td>  -10.188</td> <td> 0.000</td> <td>   -0.326</td> <td>   -0.221</td>\n",
       "</tr>\n",
       "</table>\n",
       "<table class=\"simpletable\">\n",
       "<tr>\n",
       "  <th>Omnibus:</th>       <td>14708.225</td> <th>  Durbin-Watson:     </th> <td>   0.049</td>\n",
       "</tr>\n",
       "<tr>\n",
       "  <th>Prob(Omnibus):</th>  <td> 0.000</td>   <th>  Jarque-Bera (JB):  </th> <td>2503.627</td>\n",
       "</tr>\n",
       "<tr>\n",
       "  <th>Skew:</th>           <td> 0.118</td>   <th>  Prob(JB):          </th> <td>    0.00</td>\n",
       "</tr>\n",
       "<tr>\n",
       "  <th>Kurtosis:</th>       <td> 1.970</td>   <th>  Cond. No.          </th> <td>    15.0</td>\n",
       "</tr>\n",
       "</table><br/><br/>Warnings:<br/>[1] Standard Errors assume that the covariance matrix of the errors is correctly specified."
      ],
      "text/plain": [
       "<class 'statsmodels.iolib.summary.Summary'>\n",
       "\"\"\"\n",
       "                            OLS Regression Results                            \n",
       "==============================================================================\n",
       "Dep. Variable:                 lprice   R-squared:                       0.018\n",
       "Model:                            OLS   Adj. R-squared:                  0.017\n",
       "Method:                 Least Squares   F-statistic:                     239.6\n",
       "Date:                Fri, 17 Apr 2020   Prob (F-statistic):          2.66e-204\n",
       "Time:                        18:23:59   Log-Likelihood:                -76477.\n",
       "No. Observations:               53797   AIC:                         1.530e+05\n",
       "Df Residuals:                   53792   BIC:                         1.530e+05\n",
       "Df Model:                           4                                         \n",
       "Covariance Type:            nonrobust                                         \n",
       "====================================================================================\n",
       "                       coef    std err          t      P>|t|      [0.025      0.975]\n",
       "------------------------------------------------------------------------------------\n",
       "Intercept            8.0688      0.025    320.067      0.000       8.019       8.118\n",
       "cut[T.Good]         -0.2328      0.029     -8.025      0.000      -0.290      -0.176\n",
       "cut[T.Ideal]        -0.4319      0.026    -16.536      0.000      -0.483      -0.381\n",
       "cut[T.Premium]      -0.1241      0.027     -4.663      0.000      -0.176      -0.072\n",
       "cut[T.Very Good]    -0.2732      0.027    -10.188      0.000      -0.326      -0.221\n",
       "==============================================================================\n",
       "Omnibus:                    14708.225   Durbin-Watson:                   0.049\n",
       "Prob(Omnibus):                  0.000   Jarque-Bera (JB):             2503.627\n",
       "Skew:                           0.118   Prob(JB):                         0.00\n",
       "Kurtosis:                       1.970   Cond. No.                         15.0\n",
       "==============================================================================\n",
       "\n",
       "Warnings:\n",
       "[1] Standard Errors assume that the covariance matrix of the errors is correctly specified.\n",
       "\"\"\""
      ]
     },
     "execution_count": 32,
     "metadata": {},
     "output_type": "execute_result"
    }
   ],
   "source": [
    "sm_ols('lprice ~ cut', data=diamonds2).fit().summary()"
   ]
  },
  {
   "cell_type": "code",
   "execution_count": 33,
   "metadata": {},
   "outputs": [
    {
     "data": {
      "text/plain": [
       "<seaborn.axisgrid.FacetGrid at 0x1c30f43790>"
      ]
     },
     "execution_count": 33,
     "metadata": {},
     "output_type": "execute_result"
    },
    {
     "data": {
      "image/png": "[encoded data removed]",
      "text/plain": [
       "<Figure size 420.375x360 with 1 Axes>"
      ]
     },
     "metadata": {
      "needs_background": "light"
     },
     "output_type": "display_data"
    }
   ],
   "source": [
    "subsample_of_equal_amounts = diamonds2.query('cut in [\"Ideal\",\"Fair\"]').groupby('cut').apply(lambda x: x.sample(400))\n",
    "sns.lmplot(data=subsample_of_equal_amounts,\n",
    "           y='lprice',x='lcarat',hue='cut',ci=None) "
   ]
  },
  {
   "cell_type": "code",
   "execution_count": 34,
   "metadata": {},
   "outputs": [
    {
     "data": {
      "text/plain": [
       "Text(0.5, 1.0, 'Which is the same fit sns will give')"
      ]
     },
     "execution_count": 34,
     "metadata": {},
     "output_type": "execute_result"
    },
    {
     "data": {
      "image/png": "[encoded data removed]",
      "text/plain": [
       "<Figure size 432x288 with 1 Axes>"
      ]
     },
     "metadata": {
      "needs_background": "light"
     },
     "output_type": "display_data"
    }
   ],
   "source": [
    "# compare this to the built-in sns produces\n",
    "plt.show()\n",
    "sns.regplot(x='lcarat',y='lprice',data=diamonds2.sample(1000),\n",
    "            line_kws={'color':'red'}).set_title(\"Which is the same fit sns will give\")"
   ]
  },
  {
   "cell_type": "code",
   "execution_count": 35,
   "metadata": {},
   "outputs": [
    {
     "data": {
      "text/html": [
       "<table class=\"simpletable\">\n",
       "<caption>OLS Regression Results</caption>\n",
       "<tr>\n",
       "  <th>Dep. Variable:</th>         <td>lprice</td>      <th>  R-squared:         </th> <td>   0.936</td> \n",
       "</tr>\n",
       "<tr>\n",
       "  <th>Model:</th>                   <td>OLS</td>       <th>  Adj. R-squared:    </th> <td>   0.936</td> \n",
       "</tr>\n",
       "<tr>\n",
       "  <th>Method:</th>             <td>Least Squares</td>  <th>  F-statistic:       </th> <td>3.914e+05</td>\n",
       "</tr>\n",
       "<tr>\n",
       "  <th>Date:</th>             <td>Fri, 17 Apr 2020</td> <th>  Prob (F-statistic):</th>  <td>  0.00</td>  \n",
       "</tr>\n",
       "<tr>\n",
       "  <th>Time:</th>                 <td>18:24:00</td>     <th>  Log-Likelihood:    </th> <td> -3136.4</td> \n",
       "</tr>\n",
       "<tr>\n",
       "  <th>No. Observations:</th>      <td> 53797</td>      <th>  AIC:               </th> <td>   6279.</td> \n",
       "</tr>\n",
       "<tr>\n",
       "  <th>Df Residuals:</th>          <td> 53794</td>      <th>  BIC:               </th> <td>   6306.</td> \n",
       "</tr>\n",
       "<tr>\n",
       "  <th>Df Model:</th>              <td>     2</td>      <th>                     </th>     <td> </td>    \n",
       "</tr>\n",
       "<tr>\n",
       "  <th>Covariance Type:</th>      <td>nonrobust</td>    <th>                     </th>     <td> </td>    \n",
       "</tr>\n",
       "</table>\n",
       "<table class=\"simpletable\">\n",
       "<tr>\n",
       "        <td></td>           <th>coef</th>     <th>std err</th>      <th>t</th>      <th>P>|t|</th>  <th>[0.025</th>    <th>0.975]</th>  \n",
       "</tr>\n",
       "<tr>\n",
       "  <th>Intercept</th>     <td>    8.4182</td> <td>    0.002</td> <td> 5415.779</td> <td> 0.000</td> <td>    8.415</td> <td>    8.421</td>\n",
       "</tr>\n",
       "<tr>\n",
       "  <th>ideal[T.True]</th> <td>    0.1000</td> <td>    0.002</td> <td>   43.662</td> <td> 0.000</td> <td>    0.096</td> <td>    0.105</td>\n",
       "</tr>\n",
       "<tr>\n",
       "  <th>lcarat</th>        <td>    1.6963</td> <td>    0.002</td> <td>  878.286</td> <td> 0.000</td> <td>    1.692</td> <td>    1.700</td>\n",
       "</tr>\n",
       "</table>\n",
       "<table class=\"simpletable\">\n",
       "<tr>\n",
       "  <th>Omnibus:</th>       <td>794.680</td> <th>  Durbin-Watson:     </th> <td>   1.241</td> \n",
       "</tr>\n",
       "<tr>\n",
       "  <th>Prob(Omnibus):</th> <td> 0.000</td>  <th>  Jarque-Bera (JB):  </th> <td>1394.941</td> \n",
       "</tr>\n",
       "<tr>\n",
       "  <th>Skew:</th>          <td> 0.101</td>  <th>  Prob(JB):          </th> <td>1.24e-303</td>\n",
       "</tr>\n",
       "<tr>\n",
       "  <th>Kurtosis:</th>      <td> 3.763</td>  <th>  Cond. No.          </th> <td>    2.67</td> \n",
       "</tr>\n",
       "</table><br/><br/>Warnings:<br/>[1] Standard Errors assume that the covariance matrix of the errors is correctly specified."
      ],
      "text/plain": [
       "<class 'statsmodels.iolib.summary.Summary'>\n",
       "\"\"\"\n",
       "                            OLS Regression Results                            \n",
       "==============================================================================\n",
       "Dep. Variable:                 lprice   R-squared:                       0.936\n",
       "Model:                            OLS   Adj. R-squared:                  0.936\n",
       "Method:                 Least Squares   F-statistic:                 3.914e+05\n",
       "Date:                Fri, 17 Apr 2020   Prob (F-statistic):               0.00\n",
       "Time:                        18:24:00   Log-Likelihood:                -3136.4\n",
       "No. Observations:               53797   AIC:                             6279.\n",
       "Df Residuals:                   53794   BIC:                             6306.\n",
       "Df Model:                           2                                         \n",
       "Covariance Type:            nonrobust                                         \n",
       "=================================================================================\n",
       "                    coef    std err          t      P>|t|      [0.025      0.975]\n",
       "---------------------------------------------------------------------------------\n",
       "Intercept         8.4182      0.002   5415.779      0.000       8.415       8.421\n",
       "ideal[T.True]     0.1000      0.002     43.662      0.000       0.096       0.105\n",
       "lcarat            1.6963      0.002    878.286      0.000       1.692       1.700\n",
       "==============================================================================\n",
       "Omnibus:                      794.680   Durbin-Watson:                   1.241\n",
       "Prob(Omnibus):                  0.000   Jarque-Bera (JB):             1394.941\n",
       "Skew:                           0.101   Prob(JB):                    1.24e-303\n",
       "Kurtosis:                       3.763   Cond. No.                         2.67\n",
       "==============================================================================\n",
       "\n",
       "Warnings:\n",
       "[1] Standard Errors assume that the covariance matrix of the errors is correctly specified.\n",
       "\"\"\""
      ]
     },
     "execution_count": 35,
     "metadata": {},
     "output_type": "execute_result"
    }
   ],
   "source": [
    "sm_ols('lprice~lcarat + ideal',\n",
    "      data=diamonds2).fit().summary()"
   ]
  },
  {
   "cell_type": "code",
   "execution_count": 36,
   "metadata": {},
   "outputs": [
    {
     "data": {
      "text/plain": [
       "count    53797.000000\n",
       "mean        -0.398700\n",
       "std          0.581060\n",
       "min         -1.609438\n",
       "25%         -0.916291\n",
       "50%         -0.356675\n",
       "75%          0.039221\n",
       "max          0.912283\n",
       "Name: lcarat, dtype: float64"
      ]
     },
     "execution_count": 36,
     "metadata": {},
     "output_type": "execute_result"
    }
   ],
   "source": [
    "diamonds2['lcarat'].describe()"
   ]
  },
  {
   "cell_type": "code",
   "execution_count": 37,
   "metadata": {},
   "outputs": [
    {
     "data": {
      "text/plain": [
       "<seaborn.axisgrid.FacetGrid at 0x1c30ad7210>"
      ]
     },
     "execution_count": 37,
     "metadata": {},
     "output_type": "execute_result"
    },
    {
     "data": {
      "image/png": "[encoded data removed]",
      "text/plain": [
       "<Figure size 360x360 with 1 Axes>"
      ]
     },
     "metadata": {
      "needs_background": "light"
     },
     "output_type": "display_data"
    }
   ],
   "source": [
    "diamonds = sns.load_dataset('diamonds')\n",
    "\n",
    "# remember the relationship between the quality of diamonds and their price:\n",
    "# low quality diamonds (poor cuts, bad colours, and inferior clarity) have higher prices\n",
    "sns.catplot(data=diamonds,\n",
    "                y='price',x='cut',kind='box')"
   ]
  },
  {
   "cell_type": "markdown",
   "metadata": {},
   "source": [
    "# Interpretation of Looking at the lPrice of Diamonds as a function of Cut\n",
    "\n",
    "### Model 1\n",
    "In these two regression models, R2 signifies the percentage variation in dependent that is explained by independent variables. For model 1 the R2 is 93.6% which means the model is highly efficient in explaining the variation in lprice with the x variables which arre lcarat and ideal (a dummy variable).For model 1 I am looking at the price of diamonds as a function of carats. However, there is question as to wheather the price would be different for ideal cut diamonds. I am including a dummy coefficent variable named \"ideal\" to tell me if this is assumption is true. Ideal tells me how strong the the assumption that the price of diamonds for ideal cuts are different. An ideal=1 tells me that the assumption holds true whereas an ideal of 0 tells me the assumption is false. From the results I can see that coef for ideal is 0.1 which makes the assumption false as the coef is close to 0. A coef of 0.9 would have made the assumption True. This means that the variation of the lprice is mostly explained by the lcarat varaible. \n",
    "\n",
    "### Model 2 \n",
    "In the regression in model 2 I used categorical variables to more easily to see the relationship between lprice and cut of the diamonds (looking specifically for ideal cut). Instead of looking at lprice as a function of lcarat and creating a dummy variable, I am now specifically looking at lprice as a function of cut. Using this model I can more confidentally see that ideal cut is not a strong variable to explain the variation in lprice. The reason I can say this is because R2 is 1.8%, which means that the model is extremely ineffiecent in explaining the variation in y which is lprice. In model 1, it wasn't as easy to see that ideal cut was not a good variable to use because the lcarat varaible made the rregression model strong causing a high R2. When looking at the coef of all the x variables which are the different types of cuts, the coeffients are all negative, showing that there is no positive correlation for between lprice and cut. In Model 1, it was hard to see that ideal cut had a negative coefficent when using a dummy varaible. It could also cause someone to wrongfully assume that ideal was True since the coef was not 0 exactly. Model 2 is easier to understand and see this correlation more clearly.\n"
   ]
  },
  {
   "cell_type": "markdown",
   "metadata": {},
   "source": [
    "### Model 1\n"
   ]
  },
  {
   "cell_type": "code",
   "execution_count": 38,
   "metadata": {},
   "outputs": [
    {
     "name": "stdout",
     "output_type": "stream",
     "text": [
      "                            OLS Regression Results                            \n",
      "==============================================================================\n",
      "Dep. Variable:                 lprice   R-squared:                       0.936\n",
      "Model:                            OLS   Adj. R-squared:                  0.936\n",
      "Method:                 Least Squares   F-statistic:                 3.914e+05\n",
      "Date:                Fri, 17 Apr 2020   Prob (F-statistic):               0.00\n",
      "Time:                        18:24:01   Log-Likelihood:                -3136.4\n",
      "No. Observations:               53797   AIC:                             6279.\n",
      "Df Residuals:                   53794   BIC:                             6306.\n",
      "Df Model:                           2                                         \n",
      "Covariance Type:            nonrobust                                         \n",
      "=================================================================================\n",
      "                    coef    std err          t      P>|t|      [0.025      0.975]\n",
      "---------------------------------------------------------------------------------\n",
      "Intercept         8.4182      0.002   5415.779      0.000       8.415       8.421\n",
      "ideal[T.True]     0.1000      0.002     43.662      0.000       0.096       0.105\n",
      "lcarat            1.6963      0.002    878.286      0.000       1.692       1.700\n",
      "==============================================================================\n",
      "Omnibus:                      794.680   Durbin-Watson:                   1.241\n",
      "Prob(Omnibus):                  0.000   Jarque-Bera (JB):             1394.941\n",
      "Skew:                           0.101   Prob(JB):                    1.24e-303\n",
      "Kurtosis:                       3.763   Cond. No.                         2.67\n",
      "==============================================================================\n",
      "\n",
      "Warnings:\n",
      "[1] Standard Errors assume that the covariance matrix of the errors is correctly specified.\n"
     ]
    }
   ],
   "source": [
    "model_ideal=sm_ols('lprice~lcarat + ideal',\n",
    "                data=diamonds2)\n",
    "results_ideal = model_ideal.fit()\n",
    "\n",
    "print(results_ideal.summary())  "
   ]
  },
  {
   "cell_type": "markdown",
   "metadata": {},
   "source": [
    "### Model 2"
   ]
  },
  {
   "cell_type": "code",
   "execution_count": 39,
   "metadata": {},
   "outputs": [
    {
     "data": {
      "text/html": [
       "<table class=\"simpletable\">\n",
       "<caption>OLS Regression Results</caption>\n",
       "<tr>\n",
       "  <th>Dep. Variable:</th>         <td>lprice</td>      <th>  R-squared:         </th> <td>   0.018</td> \n",
       "</tr>\n",
       "<tr>\n",
       "  <th>Model:</th>                   <td>OLS</td>       <th>  Adj. R-squared:    </th> <td>   0.017</td> \n",
       "</tr>\n",
       "<tr>\n",
       "  <th>Method:</th>             <td>Least Squares</td>  <th>  F-statistic:       </th> <td>   239.6</td> \n",
       "</tr>\n",
       "<tr>\n",
       "  <th>Date:</th>             <td>Fri, 17 Apr 2020</td> <th>  Prob (F-statistic):</th> <td>2.66e-204</td>\n",
       "</tr>\n",
       "<tr>\n",
       "  <th>Time:</th>                 <td>18:24:01</td>     <th>  Log-Likelihood:    </th> <td> -76477.</td> \n",
       "</tr>\n",
       "<tr>\n",
       "  <th>No. Observations:</th>      <td> 53797</td>      <th>  AIC:               </th> <td>1.530e+05</td>\n",
       "</tr>\n",
       "<tr>\n",
       "  <th>Df Residuals:</th>          <td> 53792</td>      <th>  BIC:               </th> <td>1.530e+05</td>\n",
       "</tr>\n",
       "<tr>\n",
       "  <th>Df Model:</th>              <td>     4</td>      <th>                     </th>     <td> </td>    \n",
       "</tr>\n",
       "<tr>\n",
       "  <th>Covariance Type:</th>      <td>nonrobust</td>    <th>                     </th>     <td> </td>    \n",
       "</tr>\n",
       "</table>\n",
       "<table class=\"simpletable\">\n",
       "<tr>\n",
       "          <td></td>            <th>coef</th>     <th>std err</th>      <th>t</th>      <th>P>|t|</th>  <th>[0.025</th>    <th>0.975]</th>  \n",
       "</tr>\n",
       "<tr>\n",
       "  <th>Intercept</th>        <td>    8.0688</td> <td>    0.025</td> <td>  320.067</td> <td> 0.000</td> <td>    8.019</td> <td>    8.118</td>\n",
       "</tr>\n",
       "<tr>\n",
       "  <th>cut[T.Good]</th>      <td>   -0.2328</td> <td>    0.029</td> <td>   -8.025</td> <td> 0.000</td> <td>   -0.290</td> <td>   -0.176</td>\n",
       "</tr>\n",
       "<tr>\n",
       "  <th>cut[T.Ideal]</th>     <td>   -0.4319</td> <td>    0.026</td> <td>  -16.536</td> <td> 0.000</td> <td>   -0.483</td> <td>   -0.381</td>\n",
       "</tr>\n",
       "<tr>\n",
       "  <th>cut[T.Premium]</th>   <td>   -0.1241</td> <td>    0.027</td> <td>   -4.663</td> <td> 0.000</td> <td>   -0.176</td> <td>   -0.072</td>\n",
       "</tr>\n",
       "<tr>\n",
       "  <th>cut[T.Very Good]</th> <td>   -0.2732</td> <td>    0.027</td> <td>  -10.188</td> <td> 0.000</td> <td>   -0.326</td> <td>   -0.221</td>\n",
       "</tr>\n",
       "</table>\n",
       "<table class=\"simpletable\">\n",
       "<tr>\n",
       "  <th>Omnibus:</th>       <td>14708.225</td> <th>  Durbin-Watson:     </th> <td>   0.049</td>\n",
       "</tr>\n",
       "<tr>\n",
       "  <th>Prob(Omnibus):</th>  <td> 0.000</td>   <th>  Jarque-Bera (JB):  </th> <td>2503.627</td>\n",
       "</tr>\n",
       "<tr>\n",
       "  <th>Skew:</th>           <td> 0.118</td>   <th>  Prob(JB):          </th> <td>    0.00</td>\n",
       "</tr>\n",
       "<tr>\n",
       "  <th>Kurtosis:</th>       <td> 1.970</td>   <th>  Cond. No.          </th> <td>    15.0</td>\n",
       "</tr>\n",
       "</table><br/><br/>Warnings:<br/>[1] Standard Errors assume that the covariance matrix of the errors is correctly specified."
      ],
      "text/plain": [
       "<class 'statsmodels.iolib.summary.Summary'>\n",
       "\"\"\"\n",
       "                            OLS Regression Results                            \n",
       "==============================================================================\n",
       "Dep. Variable:                 lprice   R-squared:                       0.018\n",
       "Model:                            OLS   Adj. R-squared:                  0.017\n",
       "Method:                 Least Squares   F-statistic:                     239.6\n",
       "Date:                Fri, 17 Apr 2020   Prob (F-statistic):          2.66e-204\n",
       "Time:                        18:24:01   Log-Likelihood:                -76477.\n",
       "No. Observations:               53797   AIC:                         1.530e+05\n",
       "Df Residuals:                   53792   BIC:                         1.530e+05\n",
       "Df Model:                           4                                         \n",
       "Covariance Type:            nonrobust                                         \n",
       "====================================================================================\n",
       "                       coef    std err          t      P>|t|      [0.025      0.975]\n",
       "------------------------------------------------------------------------------------\n",
       "Intercept            8.0688      0.025    320.067      0.000       8.019       8.118\n",
       "cut[T.Good]         -0.2328      0.029     -8.025      0.000      -0.290      -0.176\n",
       "cut[T.Ideal]        -0.4319      0.026    -16.536      0.000      -0.483      -0.381\n",
       "cut[T.Premium]      -0.1241      0.027     -4.663      0.000      -0.176      -0.072\n",
       "cut[T.Very Good]    -0.2732      0.027    -10.188      0.000      -0.326      -0.221\n",
       "==============================================================================\n",
       "Omnibus:                    14708.225   Durbin-Watson:                   0.049\n",
       "Prob(Omnibus):                  0.000   Jarque-Bera (JB):             2503.627\n",
       "Skew:                           0.118   Prob(JB):                         0.00\n",
       "Kurtosis:                       1.970   Cond. No.                         15.0\n",
       "==============================================================================\n",
       "\n",
       "Warnings:\n",
       "[1] Standard Errors assume that the covariance matrix of the errors is correctly specified.\n",
       "\"\"\""
      ]
     },
     "execution_count": 39,
     "metadata": {},
     "output_type": "execute_result"
    }
   ],
   "source": [
    "sm_ols('lprice ~ cut', data=diamonds2).fit().summary()"
   ]
  }
 ],
 "metadata": {
  "kernelspec": {
   "display_name": "Python 3",
   "language": "python",
   "name": "python3"
  },
  "language_info": {
   "codemirror_mode": {
    "name": "ipython",
    "version": 3
   },
   "file_extension": ".py",
   "mimetype": "text/x-python",
   "name": "python",
   "nbconvert_exporter": "python",
   "pygments_lexer": "ipython3",
   "version": "3.7.4"
  }
 },
 "nbformat": 4,
 "nbformat_minor": 2
}
