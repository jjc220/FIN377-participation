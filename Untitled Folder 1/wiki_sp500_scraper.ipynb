{
 "cells": [
  {
   "cell_type": "code",
   "execution_count": null,
   "metadata": {},
   "outputs": [],
   "source": [
    "import pandas as pd\n",
    "from requests_html import HTMLSession\n",
    "\n",
    "###Section 1: get urls to crawl\n",
    "\n",
    "1. aquire the data/urls to crawl\n",
    "2. save that data/urls\n",
    "\n",
    "#else\n",
    "    #open that file\n",
    "import pandas as pd\n",
    "from requests_html import HTMLSession\n",
    "\n",
    "#open page\n",
    "url='https://en.wikipedia.org/wiki/List_of_S%26P_500_companies'\n",
    "session=HTMLSession()\n",
    "r=session.get(url)\n",
    "\n",
    "\n",
    "#grab the URLAs\n",
    "table= r.html.find('#constituents') [0]\n",
    "table_rows=table.find('tr')\n",
    "\n",
    "colinks=[]\n",
    "for row in table_rows[1:]:\n",
    "    a_link=list(row.find('td')[1].absolute_links)[0]\n",
    "    colinks.append(a_link)\n",
    "    \n",
    "    #save it\n",
    "    \n",
    "    \n",
    "#####section 2: crawl the urls\n",
    "\n"
   ]
  }
 ],
 "metadata": {
  "kernelspec": {
   "display_name": "Python 3",
   "language": "python",
   "name": "python3"
  },
  "language_info": {
   "codemirror_mode": {
    "name": "ipython",
    "version": 3
   },
   "file_extension": ".py",
   "mimetype": "text/x-python",
   "name": "python",
   "nbconvert_exporter": "python",
   "pygments_lexer": "ipython3",
   "version": "3.7.4"
  }
 },
 "nbformat": 4,
 "nbformat_minor": 2
}
